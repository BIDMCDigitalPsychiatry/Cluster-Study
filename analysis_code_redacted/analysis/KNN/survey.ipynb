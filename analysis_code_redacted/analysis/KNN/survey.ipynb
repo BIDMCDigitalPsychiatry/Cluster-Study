{
 "cells": [
  {
   "cell_type": "code",
   "execution_count": 1,
   "id": "7cb0fd0f-b231-4450-b2a4-91057d798013",
   "metadata": {},
   "outputs": [],
   "source": [
    "import pandas as pd\n",
    "import numpy as np\n",
    "import matplotlib.pyplot as plt\n",
    "from sklearn import metrics # for the evaluation\n",
    "import os\n",
    "from sklearn.model_selection import train_test_split\n",
    "from sklearn.preprocessing import StandardScaler\n",
    "\n",
    "from sklearn.model_selection import RepeatedStratifiedKFold\n",
    "from sklearn.model_selection import GridSearchCV\n",
    "\n",
    "from sklearn.linear_model import LogisticRegression\n",
    "from sklearn.metrics import accuracy_score, precision_score, recall_score, roc_auc_score\n",
    "import seaborn as sns\n",
    "from sklearn.neighbors import KNeighborsClassifier"
   ]
  },
  {
   "cell_type": "markdown",
   "id": "0cd3c598-c51b-4a3f-885a-dbd2a4eec59e",
   "metadata": {},
   "source": [
    "## KNN"
   ]
  },
  {
   "cell_type": "code",
   "execution_count": 2,
   "id": "dc65ad8e-f13d-4719-b5c7-2985912c3804",
   "metadata": {},
   "outputs": [],
   "source": [
    "df = pd.read_csv('../../data/final_dataset.csv')\n"
   ]
  },
  {
   "cell_type": "code",
   "execution_count": 3,
   "id": "60c38eea-1eab-45ec-a68a-719874888573",
   "metadata": {},
   "outputs": [
    {
     "data": {
      "text/plain": [
       "Index(['Unnamed: 0', 'Watch Status', 'Phone Brand', 'Diagnosis', 'Gender',\n",
       "       'Study ID', 'LAMP ID', 'Race', 'Age', 'DOB', 'Date of Consent',\n",
       "       'gps_data_quality_mean', 'gps_data_quality_var', 'hometime_mean',\n",
       "       'hometime_var', 'entropy_mean', 'entropy_var', 'screen_duration_mean',\n",
       "       'screen_duration_var', 'internal_sleep_mean', 'internal_sleep_var',\n",
       "       'PHQ-2_mean', 'PHQ-2_var', 'GAD-2_mean', 'GAD-2_var', 'Group'],\n",
       "      dtype='object')"
      ]
     },
     "execution_count": 3,
     "metadata": {},
     "output_type": "execute_result"
    }
   ],
   "source": [
    "df['Group'] = df['Diagnosis']\n",
    "df['Group'] = df['Group'].replace('Bipolar I',1)\n",
    "df['Group'] = df['Group'].replace('Bipolar II',1)\n",
    "df['Group'] = df['Group'].replace('MDD',2)\n",
    "df['Group'] = df['Group'].replace('Major Depressive Disorder',2)\n",
    "df['Group'] = df['Group'].replace('Control',0)\n",
    "\n",
    "df.columns"
   ]
  },
  {
   "cell_type": "code",
   "execution_count": 4,
   "id": "8a1be277-cbe2-4e28-b3ef-e6fe131fac55",
   "metadata": {},
   "outputs": [],
   "source": [
    "# predictor and target vars\n",
    "X = df[['GAD-2_mean', 'GAD-2_var', 'PHQ-2_mean', 'PHQ-2_var']]\n",
    "y = df['Group']"
   ]
  },
  {
   "cell_type": "code",
   "execution_count": 5,
   "id": "9d24a450-d413-45b3-88dd-120f032017d9",
   "metadata": {},
   "outputs": [],
   "source": [
    "X_train, X_test, y_train, y_test = train_test_split(X, y, test_size=0.5, stratify=y, random_state=1)\n",
    "X_train = X_train.fillna(X_train.mean())\n",
    "X_test = X_test.fillna(X_test.mean())"
   ]
  },
  {
   "cell_type": "code",
   "execution_count": 6,
   "id": "01a0fb51-7e6f-41e5-a557-d316574e848c",
   "metadata": {},
   "outputs": [],
   "source": [
    "# standardize\n",
    "scale_train = StandardScaler()\n",
    "scale_test = StandardScaler()\n",
    "\n",
    "X_train = scale_train.fit_transform(X_train)\n",
    "X_test = scale_test.fit_transform(X_test)"
   ]
  },
  {
   "cell_type": "code",
   "execution_count": 7,
   "id": "929038dd-2ded-496d-ad04-8f8be3403222",
   "metadata": {},
   "outputs": [
    {
     "data": {
      "text/plain": [
       "0.5384615384615384"
      ]
     },
     "execution_count": 7,
     "metadata": {},
     "output_type": "execute_result"
    }
   ],
   "source": [
    "# Untuned accuracy\n",
    "knn_basic = KNeighborsClassifier()\n",
    "knn_basic.fit(X_train, y_train)\n",
    "y_pred = knn_basic.predict(X_test)\n",
    "accuracy_score(y_test, y_pred)"
   ]
  },
  {
   "cell_type": "code",
   "execution_count": 8,
   "id": "8dfabb77-3773-4f16-baba-eb4cb02f00a0",
   "metadata": {
    "tags": []
   },
   "outputs": [
    {
     "name": "stdout",
     "output_type": "stream",
     "text": [
      "Best: 0.608333 using {'leaf_size': 1, 'n_neighbors': 8, 'p': 2}\n",
      "0.427381 (0.156556) with: {'leaf_size': 1, 'n_neighbors': 1, 'p': 1}\n",
      "0.408333 (0.152623) with: {'leaf_size': 1, 'n_neighbors': 1, 'p': 2}\n",
      "0.386905 (0.122104) with: {'leaf_size': 1, 'n_neighbors': 2, 'p': 1}\n",
      "0.425000 (0.154881) with: {'leaf_size': 1, 'n_neighbors': 2, 'p': 2}\n",
      "0.416667 (0.158606) with: {'leaf_size': 1, 'n_neighbors': 3, 'p': 1}\n",
      "0.459524 (0.148757) with: {'leaf_size': 1, 'n_neighbors': 3, 'p': 2}\n",
      "0.478571 (0.125628) with: {'leaf_size': 1, 'n_neighbors': 4, 'p': 1}\n",
      "0.488095 (0.109239) with: {'leaf_size': 1, 'n_neighbors': 4, 'p': 2}\n",
      "0.551190 (0.136599) with: {'leaf_size': 1, 'n_neighbors': 5, 'p': 1}\n",
      "0.539286 (0.082272) with: {'leaf_size': 1, 'n_neighbors': 5, 'p': 2}\n",
      "0.538095 (0.088896) with: {'leaf_size': 1, 'n_neighbors': 6, 'p': 1}\n",
      "0.536905 (0.095044) with: {'leaf_size': 1, 'n_neighbors': 6, 'p': 2}\n",
      "0.563095 (0.112536) with: {'leaf_size': 1, 'n_neighbors': 7, 'p': 1}\n",
      "0.570238 (0.108222) with: {'leaf_size': 1, 'n_neighbors': 7, 'p': 2}\n",
      "0.590476 (0.110554) with: {'leaf_size': 1, 'n_neighbors': 8, 'p': 1}\n",
      "0.608333 (0.111511) with: {'leaf_size': 1, 'n_neighbors': 8, 'p': 2}\n",
      "0.598810 (0.097996) with: {'leaf_size': 1, 'n_neighbors': 9, 'p': 1}\n",
      "0.600000 (0.094671) with: {'leaf_size': 1, 'n_neighbors': 9, 'p': 2}\n",
      "0.460714 (0.155155) with: {'leaf_size': 2, 'n_neighbors': 1, 'p': 1}\n",
      "0.441667 (0.155329) with: {'leaf_size': 2, 'n_neighbors': 1, 'p': 2}\n",
      "0.386905 (0.122104) with: {'leaf_size': 2, 'n_neighbors': 2, 'p': 1}\n",
      "0.425000 (0.154881) with: {'leaf_size': 2, 'n_neighbors': 2, 'p': 2}\n",
      "0.416667 (0.151897) with: {'leaf_size': 2, 'n_neighbors': 3, 'p': 1}\n",
      "0.469048 (0.114892) with: {'leaf_size': 2, 'n_neighbors': 3, 'p': 2}\n",
      "0.478571 (0.125628) with: {'leaf_size': 2, 'n_neighbors': 4, 'p': 1}\n",
      "0.497619 (0.109860) with: {'leaf_size': 2, 'n_neighbors': 4, 'p': 2}\n",
      "0.551190 (0.136599) with: {'leaf_size': 2, 'n_neighbors': 5, 'p': 1}\n",
      "0.539286 (0.094085) with: {'leaf_size': 2, 'n_neighbors': 5, 'p': 2}\n",
      "0.538095 (0.088896) with: {'leaf_size': 2, 'n_neighbors': 6, 'p': 1}\n",
      "0.536905 (0.095044) with: {'leaf_size': 2, 'n_neighbors': 6, 'p': 2}\n",
      "0.563095 (0.112536) with: {'leaf_size': 2, 'n_neighbors': 7, 'p': 1}\n",
      "0.570238 (0.108222) with: {'leaf_size': 2, 'n_neighbors': 7, 'p': 2}\n",
      "0.590476 (0.110554) with: {'leaf_size': 2, 'n_neighbors': 8, 'p': 1}\n",
      "0.608333 (0.111511) with: {'leaf_size': 2, 'n_neighbors': 8, 'p': 2}\n",
      "0.598810 (0.097996) with: {'leaf_size': 2, 'n_neighbors': 9, 'p': 1}\n",
      "0.600000 (0.094671) with: {'leaf_size': 2, 'n_neighbors': 9, 'p': 2}\n",
      "0.460714 (0.155155) with: {'leaf_size': 3, 'n_neighbors': 1, 'p': 1}\n",
      "0.441667 (0.155329) with: {'leaf_size': 3, 'n_neighbors': 1, 'p': 2}\n",
      "0.386905 (0.122104) with: {'leaf_size': 3, 'n_neighbors': 2, 'p': 1}\n",
      "0.425000 (0.154881) with: {'leaf_size': 3, 'n_neighbors': 2, 'p': 2}\n",
      "0.416667 (0.151897) with: {'leaf_size': 3, 'n_neighbors': 3, 'p': 1}\n",
      "0.469048 (0.114892) with: {'leaf_size': 3, 'n_neighbors': 3, 'p': 2}\n",
      "0.478571 (0.125628) with: {'leaf_size': 3, 'n_neighbors': 4, 'p': 1}\n",
      "0.497619 (0.109860) with: {'leaf_size': 3, 'n_neighbors': 4, 'p': 2}\n",
      "0.551190 (0.136599) with: {'leaf_size': 3, 'n_neighbors': 5, 'p': 1}\n",
      "0.539286 (0.094085) with: {'leaf_size': 3, 'n_neighbors': 5, 'p': 2}\n",
      "0.538095 (0.088896) with: {'leaf_size': 3, 'n_neighbors': 6, 'p': 1}\n",
      "0.536905 (0.095044) with: {'leaf_size': 3, 'n_neighbors': 6, 'p': 2}\n",
      "0.563095 (0.112536) with: {'leaf_size': 3, 'n_neighbors': 7, 'p': 1}\n",
      "0.570238 (0.108222) with: {'leaf_size': 3, 'n_neighbors': 7, 'p': 2}\n",
      "0.590476 (0.110554) with: {'leaf_size': 3, 'n_neighbors': 8, 'p': 1}\n",
      "0.608333 (0.111511) with: {'leaf_size': 3, 'n_neighbors': 8, 'p': 2}\n",
      "0.598810 (0.097996) with: {'leaf_size': 3, 'n_neighbors': 9, 'p': 1}\n",
      "0.600000 (0.094671) with: {'leaf_size': 3, 'n_neighbors': 9, 'p': 2}\n",
      "0.444048 (0.142837) with: {'leaf_size': 4, 'n_neighbors': 1, 'p': 1}\n",
      "0.425000 (0.133184) with: {'leaf_size': 4, 'n_neighbors': 1, 'p': 2}\n",
      "0.377381 (0.112536) with: {'leaf_size': 4, 'n_neighbors': 2, 'p': 1}\n",
      "0.425000 (0.154881) with: {'leaf_size': 4, 'n_neighbors': 2, 'p': 2}\n",
      "0.407143 (0.161861) with: {'leaf_size': 4, 'n_neighbors': 3, 'p': 1}\n",
      "0.450000 (0.145832) with: {'leaf_size': 4, 'n_neighbors': 3, 'p': 2}\n",
      "0.469048 (0.123626) with: {'leaf_size': 4, 'n_neighbors': 4, 'p': 1}\n",
      "0.469048 (0.105436) with: {'leaf_size': 4, 'n_neighbors': 4, 'p': 2}\n",
      "0.551190 (0.136599) with: {'leaf_size': 4, 'n_neighbors': 5, 'p': 1}\n",
      "0.539286 (0.082272) with: {'leaf_size': 4, 'n_neighbors': 5, 'p': 2}\n",
      "0.538095 (0.088896) with: {'leaf_size': 4, 'n_neighbors': 6, 'p': 1}\n",
      "0.536905 (0.095044) with: {'leaf_size': 4, 'n_neighbors': 6, 'p': 2}\n",
      "0.571429 (0.112183) with: {'leaf_size': 4, 'n_neighbors': 7, 'p': 1}\n",
      "0.570238 (0.108222) with: {'leaf_size': 4, 'n_neighbors': 7, 'p': 2}\n",
      "0.590476 (0.110554) with: {'leaf_size': 4, 'n_neighbors': 8, 'p': 1}\n",
      "0.608333 (0.111511) with: {'leaf_size': 4, 'n_neighbors': 8, 'p': 2}\n",
      "0.598810 (0.097996) with: {'leaf_size': 4, 'n_neighbors': 9, 'p': 1}\n",
      "0.600000 (0.094671) with: {'leaf_size': 4, 'n_neighbors': 9, 'p': 2}\n",
      "0.444048 (0.142837) with: {'leaf_size': 5, 'n_neighbors': 1, 'p': 1}\n",
      "0.425000 (0.133184) with: {'leaf_size': 5, 'n_neighbors': 1, 'p': 2}\n",
      "0.377381 (0.112536) with: {'leaf_size': 5, 'n_neighbors': 2, 'p': 1}\n",
      "0.425000 (0.154881) with: {'leaf_size': 5, 'n_neighbors': 2, 'p': 2}\n",
      "0.407143 (0.161861) with: {'leaf_size': 5, 'n_neighbors': 3, 'p': 1}\n",
      "0.450000 (0.145832) with: {'leaf_size': 5, 'n_neighbors': 3, 'p': 2}\n",
      "0.469048 (0.123626) with: {'leaf_size': 5, 'n_neighbors': 4, 'p': 1}\n",
      "0.469048 (0.105436) with: {'leaf_size': 5, 'n_neighbors': 4, 'p': 2}\n",
      "0.551190 (0.136599) with: {'leaf_size': 5, 'n_neighbors': 5, 'p': 1}\n",
      "0.539286 (0.082272) with: {'leaf_size': 5, 'n_neighbors': 5, 'p': 2}\n",
      "0.538095 (0.088896) with: {'leaf_size': 5, 'n_neighbors': 6, 'p': 1}\n",
      "0.536905 (0.095044) with: {'leaf_size': 5, 'n_neighbors': 6, 'p': 2}\n",
      "0.571429 (0.112183) with: {'leaf_size': 5, 'n_neighbors': 7, 'p': 1}\n",
      "0.570238 (0.108222) with: {'leaf_size': 5, 'n_neighbors': 7, 'p': 2}\n",
      "0.590476 (0.110554) with: {'leaf_size': 5, 'n_neighbors': 8, 'p': 1}\n",
      "0.608333 (0.111511) with: {'leaf_size': 5, 'n_neighbors': 8, 'p': 2}\n",
      "0.598810 (0.097996) with: {'leaf_size': 5, 'n_neighbors': 9, 'p': 1}\n",
      "0.600000 (0.094671) with: {'leaf_size': 5, 'n_neighbors': 9, 'p': 2}\n",
      "0.444048 (0.142837) with: {'leaf_size': 6, 'n_neighbors': 1, 'p': 1}\n",
      "0.425000 (0.133184) with: {'leaf_size': 6, 'n_neighbors': 1, 'p': 2}\n",
      "0.377381 (0.112536) with: {'leaf_size': 6, 'n_neighbors': 2, 'p': 1}\n",
      "0.425000 (0.154881) with: {'leaf_size': 6, 'n_neighbors': 2, 'p': 2}\n",
      "0.407143 (0.161861) with: {'leaf_size': 6, 'n_neighbors': 3, 'p': 1}\n",
      "0.450000 (0.145832) with: {'leaf_size': 6, 'n_neighbors': 3, 'p': 2}\n",
      "0.469048 (0.123626) with: {'leaf_size': 6, 'n_neighbors': 4, 'p': 1}\n",
      "0.469048 (0.105436) with: {'leaf_size': 6, 'n_neighbors': 4, 'p': 2}\n",
      "0.551190 (0.136599) with: {'leaf_size': 6, 'n_neighbors': 5, 'p': 1}\n",
      "0.539286 (0.082272) with: {'leaf_size': 6, 'n_neighbors': 5, 'p': 2}\n",
      "0.538095 (0.088896) with: {'leaf_size': 6, 'n_neighbors': 6, 'p': 1}\n",
      "0.536905 (0.095044) with: {'leaf_size': 6, 'n_neighbors': 6, 'p': 2}\n",
      "0.571429 (0.112183) with: {'leaf_size': 6, 'n_neighbors': 7, 'p': 1}\n",
      "0.570238 (0.108222) with: {'leaf_size': 6, 'n_neighbors': 7, 'p': 2}\n",
      "0.590476 (0.110554) with: {'leaf_size': 6, 'n_neighbors': 8, 'p': 1}\n",
      "0.608333 (0.111511) with: {'leaf_size': 6, 'n_neighbors': 8, 'p': 2}\n",
      "0.598810 (0.097996) with: {'leaf_size': 6, 'n_neighbors': 9, 'p': 1}\n",
      "0.600000 (0.094671) with: {'leaf_size': 6, 'n_neighbors': 9, 'p': 2}\n",
      "0.444048 (0.142837) with: {'leaf_size': 7, 'n_neighbors': 1, 'p': 1}\n",
      "0.425000 (0.133184) with: {'leaf_size': 7, 'n_neighbors': 1, 'p': 2}\n",
      "0.377381 (0.112536) with: {'leaf_size': 7, 'n_neighbors': 2, 'p': 1}\n",
      "0.425000 (0.154881) with: {'leaf_size': 7, 'n_neighbors': 2, 'p': 2}\n",
      "0.407143 (0.161861) with: {'leaf_size': 7, 'n_neighbors': 3, 'p': 1}\n",
      "0.450000 (0.145832) with: {'leaf_size': 7, 'n_neighbors': 3, 'p': 2}\n",
      "0.469048 (0.123626) with: {'leaf_size': 7, 'n_neighbors': 4, 'p': 1}\n",
      "0.469048 (0.105436) with: {'leaf_size': 7, 'n_neighbors': 4, 'p': 2}\n",
      "0.551190 (0.136599) with: {'leaf_size': 7, 'n_neighbors': 5, 'p': 1}\n",
      "0.539286 (0.082272) with: {'leaf_size': 7, 'n_neighbors': 5, 'p': 2}\n",
      "0.538095 (0.088896) with: {'leaf_size': 7, 'n_neighbors': 6, 'p': 1}\n",
      "0.536905 (0.095044) with: {'leaf_size': 7, 'n_neighbors': 6, 'p': 2}\n",
      "0.571429 (0.112183) with: {'leaf_size': 7, 'n_neighbors': 7, 'p': 1}\n",
      "0.570238 (0.108222) with: {'leaf_size': 7, 'n_neighbors': 7, 'p': 2}\n",
      "0.590476 (0.110554) with: {'leaf_size': 7, 'n_neighbors': 8, 'p': 1}\n",
      "0.608333 (0.111511) with: {'leaf_size': 7, 'n_neighbors': 8, 'p': 2}\n",
      "0.598810 (0.097996) with: {'leaf_size': 7, 'n_neighbors': 9, 'p': 1}\n",
      "0.600000 (0.094671) with: {'leaf_size': 7, 'n_neighbors': 9, 'p': 2}\n",
      "0.453571 (0.148376) with: {'leaf_size': 8, 'n_neighbors': 1, 'p': 1}\n",
      "0.434524 (0.154533) with: {'leaf_size': 8, 'n_neighbors': 1, 'p': 2}\n",
      "0.369048 (0.116946) with: {'leaf_size': 8, 'n_neighbors': 2, 'p': 1}\n",
      "0.416667 (0.160604) with: {'leaf_size': 8, 'n_neighbors': 2, 'p': 2}\n",
      "0.408333 (0.157287) with: {'leaf_size': 8, 'n_neighbors': 3, 'p': 1}\n",
      "0.441667 (0.146308) with: {'leaf_size': 8, 'n_neighbors': 3, 'p': 2}\n",
      "0.469048 (0.123626) with: {'leaf_size': 8, 'n_neighbors': 4, 'p': 1}\n",
      "0.496429 (0.125797) with: {'leaf_size': 8, 'n_neighbors': 4, 'p': 2}\n",
      "0.551190 (0.136599) with: {'leaf_size': 8, 'n_neighbors': 5, 'p': 1}\n",
      "0.547619 (0.084179) with: {'leaf_size': 8, 'n_neighbors': 5, 'p': 2}\n",
      "0.538095 (0.088896) with: {'leaf_size': 8, 'n_neighbors': 6, 'p': 1}\n",
      "0.536905 (0.095044) with: {'leaf_size': 8, 'n_neighbors': 6, 'p': 2}\n",
      "0.554762 (0.121195) with: {'leaf_size': 8, 'n_neighbors': 7, 'p': 1}\n",
      "0.570238 (0.108222) with: {'leaf_size': 8, 'n_neighbors': 7, 'p': 2}\n",
      "0.590476 (0.110554) with: {'leaf_size': 8, 'n_neighbors': 8, 'p': 1}\n",
      "0.608333 (0.111511) with: {'leaf_size': 8, 'n_neighbors': 8, 'p': 2}\n",
      "0.598810 (0.097996) with: {'leaf_size': 8, 'n_neighbors': 9, 'p': 1}\n",
      "0.600000 (0.094671) with: {'leaf_size': 8, 'n_neighbors': 9, 'p': 2}\n",
      "0.453571 (0.148376) with: {'leaf_size': 9, 'n_neighbors': 1, 'p': 1}\n",
      "0.434524 (0.154533) with: {'leaf_size': 9, 'n_neighbors': 1, 'p': 2}\n",
      "0.369048 (0.116946) with: {'leaf_size': 9, 'n_neighbors': 2, 'p': 1}\n",
      "0.416667 (0.160604) with: {'leaf_size': 9, 'n_neighbors': 2, 'p': 2}\n",
      "0.408333 (0.157287) with: {'leaf_size': 9, 'n_neighbors': 3, 'p': 1}\n",
      "0.441667 (0.146308) with: {'leaf_size': 9, 'n_neighbors': 3, 'p': 2}\n",
      "0.469048 (0.123626) with: {'leaf_size': 9, 'n_neighbors': 4, 'p': 1}\n",
      "0.496429 (0.125797) with: {'leaf_size': 9, 'n_neighbors': 4, 'p': 2}\n",
      "0.551190 (0.136599) with: {'leaf_size': 9, 'n_neighbors': 5, 'p': 1}\n",
      "0.547619 (0.084179) with: {'leaf_size': 9, 'n_neighbors': 5, 'p': 2}\n",
      "0.538095 (0.088896) with: {'leaf_size': 9, 'n_neighbors': 6, 'p': 1}\n",
      "0.536905 (0.095044) with: {'leaf_size': 9, 'n_neighbors': 6, 'p': 2}\n",
      "0.554762 (0.121195) with: {'leaf_size': 9, 'n_neighbors': 7, 'p': 1}\n",
      "0.570238 (0.108222) with: {'leaf_size': 9, 'n_neighbors': 7, 'p': 2}\n",
      "0.590476 (0.110554) with: {'leaf_size': 9, 'n_neighbors': 8, 'p': 1}\n",
      "0.608333 (0.111511) with: {'leaf_size': 9, 'n_neighbors': 8, 'p': 2}\n",
      "0.598810 (0.097996) with: {'leaf_size': 9, 'n_neighbors': 9, 'p': 1}\n",
      "0.600000 (0.094671) with: {'leaf_size': 9, 'n_neighbors': 9, 'p': 2}\n"
     ]
    }
   ],
   "source": [
    "model=KNeighborsClassifier()\n",
    "leaf_size = list(range(1,10))\n",
    "n_neighbors = list(range(1,10))\n",
    "p=[1,2]\n",
    "\n",
    "# define grid search\n",
    "grid = dict(leaf_size=leaf_size, n_neighbors=n_neighbors, p=p)\n",
    "cv = RepeatedStratifiedKFold(n_splits=5, n_repeats=3, random_state=1)\n",
    "grid_search = GridSearchCV(estimator=model, param_grid=grid, n_jobs=-1, cv=cv, scoring='accuracy',error_score=0)\n",
    "grid_result = grid_search.fit(X_train, y_train)\n",
    "# summarize results\n",
    "print(\"Best: %f using %s\" % (grid_result.best_score_, grid_result.best_params_))\n",
    "means = grid_result.cv_results_['mean_test_score']\n",
    "stds = grid_result.cv_results_['std_test_score']\n",
    "params = grid_result.cv_results_['params']\n",
    "for mean, stdev, param in zip(means, stds, params):\n",
    "    print(\"%f (%f) with: %r\" % (mean, stdev, param))"
   ]
  },
  {
   "cell_type": "code",
   "execution_count": 9,
   "id": "24831f63-353f-4759-91e0-c50a27dace15",
   "metadata": {},
   "outputs": [],
   "source": [
    "params = grid_search.best_params_"
   ]
  },
  {
   "cell_type": "code",
   "execution_count": 10,
   "id": "20ca0524-469f-4588-aedd-e637719b5490",
   "metadata": {},
   "outputs": [
    {
     "data": {
      "text/plain": [
       "array([[10,  0,  1],\n",
       "       [ 0,  0, 10],\n",
       "       [ 3,  0, 15]])"
      ]
     },
     "execution_count": 10,
     "metadata": {},
     "output_type": "execute_result"
    }
   ],
   "source": [
    "knn_tuned = KNeighborsClassifier(leaf_size=params['leaf_size'], \n",
    "                                 n_neighbors=params['n_neighbors'], \n",
    "                                p=params['p'])\n",
    "# fit the model with data\n",
    "knn_tuned.fit(X_train, y_train)\n",
    "\n",
    "y_pred = knn_tuned.predict(X_test)\n",
    "cnf_matrix = metrics.confusion_matrix(y_test, y_pred)\n",
    "cnf_matrix"
   ]
  },
  {
   "cell_type": "code",
   "execution_count": 11,
   "id": "8b66dd4b-fc95-4ae8-911e-b0101603b7c1",
   "metadata": {},
   "outputs": [
    {
     "data": {
      "text/plain": [
       "0.6410256410256411"
      ]
     },
     "execution_count": 11,
     "metadata": {},
     "output_type": "execute_result"
    }
   ],
   "source": [
    "y_pred2=knn_tuned.predict(X_test)\n",
    "accuracy_score(y_test, y_pred)"
   ]
  },
  {
   "cell_type": "code",
   "execution_count": 12,
   "id": "ea860e17-18f3-41c9-b30c-203bd1654fb5",
   "metadata": {},
   "outputs": [
    {
     "data": {
      "text/plain": [
       "array([[10,  0,  1],\n",
       "       [ 0,  0, 10],\n",
       "       [ 3,  0, 15]])"
      ]
     },
     "execution_count": 12,
     "metadata": {},
     "output_type": "execute_result"
    }
   ],
   "source": [
    "cnf_matrix"
   ]
  },
  {
   "cell_type": "code",
   "execution_count": 13,
   "id": "de07d48a-38a5-48a8-bf55-556ca4722094",
   "metadata": {},
   "outputs": [],
   "source": [
    "index_labels=['Control', 'MDD', 'Bipolar']\n",
    "\n",
    "cnf_df = pd.DataFrame(cnf_matrix, index=index_labels)\n",
    "cnf_df.columns = ['Control', 'MDD', 'Bipolar']"
   ]
  },
  {
   "cell_type": "code",
   "execution_count": 14,
   "id": "0e2cc160-2792-4d07-a355-ace1a2c050cf",
   "metadata": {},
   "outputs": [
    {
     "data": {
      "text/plain": [
       "Text(33.0, 0.5, 'Actual')"
      ]
     },
     "execution_count": 14,
     "metadata": {},
     "output_type": "execute_result"
    },
    {
     "data": {
      "image/png": "[encoded data removed]",
      "text/plain": [
       "<Figure size 432x288 with 2 Axes>"
      ]
     },
     "metadata": {
      "needs_background": "light"
     },
     "output_type": "display_data"
    }
   ],
   "source": [
    "import seaborn as sns\n",
    "\n",
    "#sns.heatmap(cnf_matrix, annot=True, cmap='Blues')\n",
    "\n",
    "group_counts = [\"{0:0.0f}\".format(value) for value in\n",
    "                cnf_matrix.flatten()]\n",
    "group_percentages = [\"{0:.2%}\".format(value) for value in\n",
    "                     cnf_matrix.flatten()/np.sum(cnf_matrix)]\n",
    "labels = [f\"{v1}\\n{v2}\" for v1, v2 in\n",
    "          zip(group_counts,group_percentages)]\n",
    "\n",
    "labels = np.asarray(labels).reshape(3,3)\n",
    "\n",
    "sns.heatmap(cnf_df, annot=labels, fmt='', cmap='Blues')\n",
    "\n",
    "plt.xlabel(\"Predicted\")\n",
    "plt.ylabel(\"Actual\")"
   ]
  },
  {
   "cell_type": "code",
   "execution_count": 15,
   "id": "ffa93e71-2349-4186-ad49-b6649c6cd3a3",
   "metadata": {},
   "outputs": [
    {
     "data": {
      "text/html": [
       "<div>\n",
       "<style scoped>\n",
       "    .dataframe tbody tr th:only-of-type {\n",
       "        vertical-align: middle;\n",
       "    }\n",
       "\n",
       "    .dataframe tbody tr th {\n",
       "        vertical-align: top;\n",
       "    }\n",
       "\n",
       "    .dataframe thead th {\n",
       "        text-align: right;\n",
       "    }\n",
       "</style>\n",
       "<table border=\"1\" class=\"dataframe\">\n",
       "  <thead>\n",
       "    <tr style=\"text-align: right;\">\n",
       "      <th></th>\n",
       "      <th>Control</th>\n",
       "      <th>MDD</th>\n",
       "      <th>Bipolar</th>\n",
       "    </tr>\n",
       "  </thead>\n",
       "  <tbody>\n",
       "    <tr>\n",
       "      <th>Control</th>\n",
       "      <td>10</td>\n",
       "      <td>0</td>\n",
       "      <td>1</td>\n",
       "    </tr>\n",
       "    <tr>\n",
       "      <th>MDD</th>\n",
       "      <td>0</td>\n",
       "      <td>0</td>\n",
       "      <td>10</td>\n",
       "    </tr>\n",
       "    <tr>\n",
       "      <th>Bipolar</th>\n",
       "      <td>3</td>\n",
       "      <td>0</td>\n",
       "      <td>15</td>\n",
       "    </tr>\n",
       "  </tbody>\n",
       "</table>\n",
       "</div>"
      ],
      "text/plain": [
       "         Control  MDD  Bipolar\n",
       "Control       10    0        1\n",
       "MDD            0    0       10\n",
       "Bipolar        3    0       15"
      ]
     },
     "execution_count": 15,
     "metadata": {},
     "output_type": "execute_result"
    }
   ],
   "source": [
    "cnf_df"
   ]
  },
  {
   "cell_type": "code",
   "execution_count": 16,
   "id": "3930798b-f05a-479f-8f2d-542f8504880b",
   "metadata": {},
   "outputs": [
    {
     "data": {
      "text/plain": [
       "Control    11\n",
       "MDD        10\n",
       "Bipolar    18\n",
       "dtype: int64"
      ]
     },
     "execution_count": 16,
     "metadata": {},
     "output_type": "execute_result"
    }
   ],
   "source": [
    "cnf_df.sum(axis=1)"
   ]
  },
  {
   "cell_type": "code",
   "execution_count": 18,
   "id": "028dbfd9-a897-46d6-a57e-c5c9f84da84b",
   "metadata": {},
   "outputs": [],
   "source": [
    "pct_dict = {}\n",
    "for col in cnf_df.columns:\n",
    "    pct_dict[col] = cnf_df[col]/cnf_df.sum(axis=1)\n",
    "pct_df = pd.DataFrame(pct_dict)"
   ]
  },
  {
   "cell_type": "code",
   "execution_count": null,
   "id": "4454ff37-77ed-41c3-a824-914b5fcd6e55",
   "metadata": {},
   "outputs": [],
   "source": []
  },
  {
   "cell_type": "code",
   "execution_count": 19,
   "id": "f780e4b0-c5af-4317-a839-9a390e97f299",
   "metadata": {},
   "outputs": [
    {
     "data": {
      "text/html": [
       "<div>\n",
       "<style scoped>\n",
       "    .dataframe tbody tr th:only-of-type {\n",
       "        vertical-align: middle;\n",
       "    }\n",
       "\n",
       "    .dataframe tbody tr th {\n",
       "        vertical-align: top;\n",
       "    }\n",
       "\n",
       "    .dataframe thead th {\n",
       "        text-align: right;\n",
       "    }\n",
       "</style>\n",
       "<table border=\"1\" class=\"dataframe\">\n",
       "  <thead>\n",
       "    <tr style=\"text-align: right;\">\n",
       "      <th></th>\n",
       "      <th>Control</th>\n",
       "      <th>MDD</th>\n",
       "      <th>Bipolar</th>\n",
       "    </tr>\n",
       "  </thead>\n",
       "  <tbody>\n",
       "    <tr>\n",
       "      <th>Control</th>\n",
       "      <td>0.909091</td>\n",
       "      <td>0.0</td>\n",
       "      <td>0.090909</td>\n",
       "    </tr>\n",
       "    <tr>\n",
       "      <th>MDD</th>\n",
       "      <td>0.000000</td>\n",
       "      <td>0.0</td>\n",
       "      <td>1.000000</td>\n",
       "    </tr>\n",
       "    <tr>\n",
       "      <th>Bipolar</th>\n",
       "      <td>0.166667</td>\n",
       "      <td>0.0</td>\n",
       "      <td>0.833333</td>\n",
       "    </tr>\n",
       "  </tbody>\n",
       "</table>\n",
       "</div>"
      ],
      "text/plain": [
       "          Control  MDD   Bipolar\n",
       "Control  0.909091  0.0  0.090909\n",
       "MDD      0.000000  0.0  1.000000\n",
       "Bipolar  0.166667  0.0  0.833333"
      ]
     },
     "execution_count": 19,
     "metadata": {},
     "output_type": "execute_result"
    }
   ],
   "source": [
    "pct_df"
   ]
  },
  {
   "cell_type": "code",
   "execution_count": null,
   "id": "e8b3cd2e-e4a3-4636-9293-8b612602b3ee",
   "metadata": {},
   "outputs": [],
   "source": []
  }
 ],
 "metadata": {
  "kernelspec": {
   "display_name": "Python 3",
   "language": "python",
   "name": "python3"
  },
  "language_info": {
   "codemirror_mode": {
    "name": "ipython",
    "version": 3
   },
   "file_extension": ".py",
   "mimetype": "text/x-python",
   "name": "python",
   "nbconvert_exporter": "python",
   "pygments_lexer": "ipython3",
   "version": "3.8.8"
  }
 },
 "nbformat": 4,
 "nbformat_minor": 5
}
