{
 "cells": [
  {
   "cell_type": "code",
   "execution_count": 60,
   "id": "7cb0fd0f-b231-4450-b2a4-91057d798013",
   "metadata": {},
   "outputs": [],
   "source": [
    "import pandas as pd\n",
    "import numpy as np\n",
    "import matplotlib.pyplot as plt\n",
    "from sklearn import metrics # for the evaluation\n",
    "\n",
    "from sklearn.model_selection import train_test_split\n",
    "from sklearn.preprocessing import StandardScaler\n",
    "\n",
    "from sklearn.model_selection import RepeatedStratifiedKFold\n",
    "from sklearn.model_selection import GridSearchCV\n",
    "\n",
    "from sklearn.linear_model import LogisticRegression\n",
    "from sklearn.metrics import accuracy_score, precision_score, recall_score, roc_auc_score\n",
    "import seaborn as sns\n",
    "import os\n",
    "import random"
   ]
  },
  {
   "cell_type": "markdown",
   "id": "e743d44f-70f5-4cb7-bb3e-aa87f31c6184",
   "metadata": {},
   "source": [
    "# Control vs Patient: PASSIVE"
   ]
  },
  {
   "cell_type": "code",
   "execution_count": 2,
   "id": "2d736ff0-ed8b-420f-b429-776ba238a6b2",
   "metadata": {},
   "outputs": [],
   "source": [
    "# model tuning parameters\n",
    "n_splits = 2\n",
    "criterion = 'roc_auc'"
   ]
  },
  {
   "cell_type": "code",
   "execution_count": 3,
   "id": "b91345eb-ec40-48db-8d64-0994f09e9b82",
   "metadata": {},
   "outputs": [],
   "source": [
    "df = pd.read_csv('../../data/final_dataset.csv')"
   ]
  },
  {
   "cell_type": "code",
   "execution_count": 4,
   "id": "0236c54a-4ce2-47d9-8620-2fe3dba53795",
   "metadata": {
    "tags": []
   },
   "outputs": [
    {
     "data": {
      "text/plain": [
       "array(['Bipolar II', 'Major Depressive Disorder', 'Bipolar I', 'Control',\n",
       "       'MDD'], dtype=object)"
      ]
     },
     "execution_count": 4,
     "metadata": {},
     "output_type": "execute_result"
    }
   ],
   "source": [
    "df['Diagnosis'].unique()"
   ]
  },
  {
   "cell_type": "code",
   "execution_count": 5,
   "id": "6aaeed95-7590-4c80-b2ab-89acec30292b",
   "metadata": {
    "tags": []
   },
   "outputs": [
    {
     "data": {
      "text/plain": [
       "Index(['Unnamed: 0', 'Watch Status', 'Phone Brand', 'Diagnosis', 'Gender',\n",
       "       'Study ID', 'LAMP ID', 'Race', 'Age', 'DOB', 'Date of Consent',\n",
       "       'gps_data_quality_mean', 'gps_data_quality_var', 'hometime_mean',\n",
       "       'hometime_var', 'entropy_mean', 'entropy_var', 'screen_duration_mean',\n",
       "       'screen_duration_var', 'internal_sleep_mean', 'internal_sleep_var',\n",
       "       'PHQ-2_mean', 'PHQ-2_var', 'GAD-2_mean', 'GAD-2_var', 'Group'],\n",
       "      dtype='object')"
      ]
     },
     "execution_count": 5,
     "metadata": {},
     "output_type": "execute_result"
    }
   ],
   "source": [
    "df['Group'] = df['Diagnosis']\n",
    "df['Group'] = df['Group'].replace('Bipolar I',1)\n",
    "df['Group'] = df['Group'].replace('Bipolar II',1)\n",
    "df['Group'] = df['Group'].replace('MDD',1)\n",
    "df['Group'] = df['Group'].replace('Major Depressive Disorder',1)\n",
    "df['Group'] = df['Group'].replace('Control',0)\n",
    "df.columns"
   ]
  },
  {
   "cell_type": "code",
   "execution_count": 6,
   "id": "f4d5f663-8914-4658-b6b8-94b3c665d2f5",
   "metadata": {},
   "outputs": [],
   "source": [
    "# predictor and target vars\n",
    "X = df[['gps_data_quality_mean', 'gps_data_quality_var',\n",
    "  'hometime_mean', 'hometime_var', 'entropy_mean',\n",
    "       'entropy_var', 'internal_sleep_mean', 'internal_sleep_var', 'screen_duration_mean',\n",
    "     'screen_duration_var']]\n",
    "y = df['Group']"
   ]
  },
  {
   "cell_type": "code",
   "execution_count": 7,
   "id": "f3319bbc-b7d7-4dc2-a333-d5a61238bb7d",
   "metadata": {},
   "outputs": [
    {
     "name": "stdout",
     "output_type": "stream",
     "text": [
      "We have imputed 14.9 percent of the data\n"
     ]
    }
   ],
   "source": [
    "pct_imputed = (X.isnull().sum().sum())/(np.shape(X)[0]*np.shape(X)[1])\n",
    "print(\"We have imputed %0.1f percent of the data\" % (pct_imputed * 100))"
   ]
  },
  {
   "cell_type": "code",
   "execution_count": 8,
   "id": "3a849c2d-6359-46fa-aea5-3379ad5dd2a4",
   "metadata": {},
   "outputs": [],
   "source": [
    "# train and test\n",
    "X_train, X_test, y_train, y_test = train_test_split(X, y, stratify=y, test_size=0.5, random_state=0)\n",
    "X_train = X_train.fillna(X_train.mean())\n",
    "X_test = X_test.fillna(X_test.mean())"
   ]
  },
  {
   "cell_type": "code",
   "execution_count": 9,
   "id": "8e943636-8043-44fd-907b-ace580a6eb57",
   "metadata": {},
   "outputs": [],
   "source": [
    "# standardize\n",
    "scale_train = StandardScaler()\n",
    "scale_test = StandardScaler()\n",
    "\n",
    "X_train = scale_train.fit_transform(X_train)\n",
    "X_test = scale_test.fit_transform(X_test)"
   ]
  },
  {
   "cell_type": "code",
   "execution_count": 10,
   "id": "b6f902c6-4080-4aa8-a0c4-3a7268b4a404",
   "metadata": {},
   "outputs": [],
   "source": [
    "models = {}\n",
    "\n",
    "# Logistic Regression\n",
    "from sklearn.linear_model import LogisticRegression\n",
    "models['Logistic Regression'] = LogisticRegression()\n",
    "\n",
    "# Support Vector Machines\n",
    "from sklearn.svm import LinearSVC\n",
    "models['Support Vector Machines'] = LinearSVC()\n",
    "\n",
    "# Decision Trees\n",
    "from sklearn.tree import DecisionTreeClassifier\n",
    "models['Decision Trees'] = DecisionTreeClassifier()\n",
    "\n",
    "# Random Forest\n",
    "from sklearn.ensemble import RandomForestClassifier\n",
    "models['Random Forest'] = RandomForestClassifier()\n",
    "\n",
    "# Naive Bayes\n",
    "from sklearn.naive_bayes import GaussianNB\n",
    "models['Naive Bayes'] = GaussianNB()\n",
    "\n",
    "# K-Nearest Neighbors\n",
    "from sklearn.neighbors import KNeighborsClassifier\n",
    "models['K-Nearest Neighbor'] = KNeighborsClassifier()"
   ]
  },
  {
   "cell_type": "code",
   "execution_count": 11,
   "id": "a50dbe0c-740b-4f75-8ffc-7020812f2ca4",
   "metadata": {},
   "outputs": [],
   "source": [
    "accuracy, precision, recall, auc = {}, {}, {}, {}\n",
    "\n",
    "for key in models.keys():\n",
    "    \n",
    "    # Fit the classifier\n",
    "    models[key].fit(X_train, y_train)\n",
    "    \n",
    "    # Make predictions\n",
    "    predictions = models[key].predict(X_test)\n",
    "    \n",
    "    # Calculate metrics\n",
    "    accuracy[key] = accuracy_score(y_test, predictions)\n",
    "    precision[key] = precision_score(y_test, predictions)\n",
    "    recall[key] = recall_score(y_test, predictions)\n",
    "    auc[key] = roc_auc_score(y_test, predictions)"
   ]
  },
  {
   "cell_type": "code",
   "execution_count": 12,
   "id": "31721907-1334-4815-81ef-3c1255180dcd",
   "metadata": {},
   "outputs": [],
   "source": [
    "df_model = pd.DataFrame(index=models.keys(), columns=['Accuracy', 'Precision', 'Recall'])\n",
    "df_model['Accuracy'] = accuracy.values()\n",
    "df_model['Precision'] = precision.values()\n",
    "df_model['Recall'] = recall.values()\n",
    "df_model['AUC'] = auc.values()"
   ]
  },
  {
   "cell_type": "code",
   "execution_count": 13,
   "id": "38b0957e-07f3-4df2-a488-ae4515bf0de0",
   "metadata": {},
   "outputs": [
    {
     "data": {
      "text/html": [
       "<div>\n",
       "<style scoped>\n",
       "    .dataframe tbody tr th:only-of-type {\n",
       "        vertical-align: middle;\n",
       "    }\n",
       "\n",
       "    .dataframe tbody tr th {\n",
       "        vertical-align: top;\n",
       "    }\n",
       "\n",
       "    .dataframe thead th {\n",
       "        text-align: right;\n",
       "    }\n",
       "</style>\n",
       "<table border=\"1\" class=\"dataframe\">\n",
       "  <thead>\n",
       "    <tr style=\"text-align: right;\">\n",
       "      <th></th>\n",
       "      <th>Accuracy</th>\n",
       "      <th>Precision</th>\n",
       "      <th>Recall</th>\n",
       "      <th>AUC</th>\n",
       "    </tr>\n",
       "  </thead>\n",
       "  <tbody>\n",
       "    <tr>\n",
       "      <th>Logistic Regression</th>\n",
       "      <td>0.615385</td>\n",
       "      <td>0.676471</td>\n",
       "      <td>0.851852</td>\n",
       "      <td>0.467593</td>\n",
       "    </tr>\n",
       "    <tr>\n",
       "      <th>Support Vector Machines</th>\n",
       "      <td>0.589744</td>\n",
       "      <td>0.666667</td>\n",
       "      <td>0.814815</td>\n",
       "      <td>0.449074</td>\n",
       "    </tr>\n",
       "    <tr>\n",
       "      <th>Decision Trees</th>\n",
       "      <td>0.641026</td>\n",
       "      <td>0.709677</td>\n",
       "      <td>0.814815</td>\n",
       "      <td>0.532407</td>\n",
       "    </tr>\n",
       "    <tr>\n",
       "      <th>Random Forest</th>\n",
       "      <td>0.717949</td>\n",
       "      <td>0.710526</td>\n",
       "      <td>1.000000</td>\n",
       "      <td>0.541667</td>\n",
       "    </tr>\n",
       "    <tr>\n",
       "      <th>Naive Bayes</th>\n",
       "      <td>0.641026</td>\n",
       "      <td>0.709677</td>\n",
       "      <td>0.814815</td>\n",
       "      <td>0.532407</td>\n",
       "    </tr>\n",
       "    <tr>\n",
       "      <th>K-Nearest Neighbor</th>\n",
       "      <td>0.615385</td>\n",
       "      <td>0.676471</td>\n",
       "      <td>0.851852</td>\n",
       "      <td>0.467593</td>\n",
       "    </tr>\n",
       "  </tbody>\n",
       "</table>\n",
       "</div>"
      ],
      "text/plain": [
       "                         Accuracy  Precision    Recall       AUC\n",
       "Logistic Regression      0.615385   0.676471  0.851852  0.467593\n",
       "Support Vector Machines  0.589744   0.666667  0.814815  0.449074\n",
       "Decision Trees           0.641026   0.709677  0.814815  0.532407\n",
       "Random Forest            0.717949   0.710526  1.000000  0.541667\n",
       "Naive Bayes              0.641026   0.709677  0.814815  0.532407\n",
       "K-Nearest Neighbor       0.615385   0.676471  0.851852  0.467593"
      ]
     },
     "execution_count": 13,
     "metadata": {},
     "output_type": "execute_result"
    }
   ],
   "source": [
    "df_model"
   ]
  },
  {
   "cell_type": "code",
   "execution_count": 14,
   "id": "26074e27-4b52-40d9-8b2d-d54c1500fd78",
   "metadata": {},
   "outputs": [
    {
     "data": {
      "text/plain": [
       "<matplotlib.legend.Legend at 0x7fc4d3286df0>"
      ]
     },
     "execution_count": 14,
     "metadata": {},
     "output_type": "execute_result"
    },
    {
     "data": {
      "image/png": "[encoded data removed]",
      "text/plain": [
       "<Figure size 432x288 with 1 Axes>"
      ]
     },
     "metadata": {
      "needs_background": "light"
     },
     "output_type": "display_data"
    }
   ],
   "source": [
    "df_model.plot(kind=\"bar\")\n",
    "plt.title(\"Control vs. Patient (No Tuning)\")\n",
    "plt.xlabel(\"Classification Method\")\n",
    "plt.ylabel(\"Score\")\n",
    "plt.legend(loc='center left', bbox_to_anchor=(1, 0.5))"
   ]
  },
  {
   "cell_type": "markdown",
   "id": "a3fc7861-3acc-4908-ad09-aa18be14792f",
   "metadata": {
    "tags": []
   },
   "source": [
    "## Logistic Regression"
   ]
  },
  {
   "cell_type": "code",
   "execution_count": 15,
   "id": "d1b852f5-04cc-40a9-9965-06d121e54475",
   "metadata": {
    "tags": []
   },
   "outputs": [
    {
     "name": "stdout",
     "output_type": "stream",
     "text": [
      "Best: 0.478968 using {'C': 0.01, 'penalty': 'l2', 'solver': 'newton-cg'}\n",
      "0.332540 (0.143311) with: {'C': 100, 'penalty': 'l2', 'solver': 'newton-cg'}\n",
      "0.332540 (0.143311) with: {'C': 100, 'penalty': 'l2', 'solver': 'lbfgs'}\n",
      "0.332540 (0.139299) with: {'C': 100, 'penalty': 'l2', 'solver': 'liblinear'}\n",
      "0.369444 (0.146284) with: {'C': 10, 'penalty': 'l2', 'solver': 'newton-cg'}\n",
      "0.369444 (0.146284) with: {'C': 10, 'penalty': 'l2', 'solver': 'lbfgs'}\n",
      "0.360714 (0.146764) with: {'C': 10, 'penalty': 'l2', 'solver': 'liblinear'}\n",
      "0.437698 (0.175881) with: {'C': 1.0, 'penalty': 'l2', 'solver': 'newton-cg'}\n",
      "0.437698 (0.175881) with: {'C': 1.0, 'penalty': 'l2', 'solver': 'lbfgs'}\n",
      "0.424206 (0.171232) with: {'C': 1.0, 'penalty': 'l2', 'solver': 'liblinear'}\n",
      "0.475794 (0.174642) with: {'C': 0.1, 'penalty': 'l2', 'solver': 'newton-cg'}\n",
      "0.475794 (0.174642) with: {'C': 0.1, 'penalty': 'l2', 'solver': 'lbfgs'}\n",
      "0.442857 (0.177158) with: {'C': 0.1, 'penalty': 'l2', 'solver': 'liblinear'}\n",
      "0.478968 (0.175903) with: {'C': 0.01, 'penalty': 'l2', 'solver': 'newton-cg'}\n",
      "0.478968 (0.175903) with: {'C': 0.01, 'penalty': 'l2', 'solver': 'lbfgs'}\n",
      "0.471032 (0.161492) with: {'C': 0.01, 'penalty': 'l2', 'solver': 'liblinear'}\n"
     ]
    }
   ],
   "source": [
    "# define models and parameters\n",
    "model = LogisticRegression()\n",
    "solvers = ['newton-cg', 'lbfgs', 'liblinear']\n",
    "penalty = ['l2']\n",
    "c_values = [100, 10, 1.0, 0.1, 0.01]\n",
    "# define grid search\n",
    "grid = dict(solver=solvers,penalty=penalty,C=c_values)\n",
    "cv = RepeatedStratifiedKFold(n_splits=n_splits, n_repeats=3, random_state=1)\n",
    "grid_search = GridSearchCV(estimator=model, param_grid=grid, n_jobs=-1, cv=cv, scoring=criterion,error_score=0)\n",
    "grid_result = grid_search.fit(X_train, y_train)\n",
    "# summarize results\n",
    "print(\"Best: %f using %s\" % (grid_result.best_score_, grid_result.best_params_))\n",
    "means = grid_result.cv_results_['mean_test_score']\n",
    "stds = grid_result.cv_results_['std_test_score']\n",
    "params = grid_result.cv_results_['params']\n",
    "for mean, stdev, param in zip(means, stds, params):\n",
    "    print(\"%f (%f) with: %r\" % (mean, stdev, param))\n",
    "params = grid_search.best_params_"
   ]
  },
  {
   "cell_type": "code",
   "execution_count": 16,
   "id": "1c551c88-f751-42cd-be84-026f17ffe1ac",
   "metadata": {},
   "outputs": [],
   "source": [
    "# instantiate the model (using tuned params)\n",
    "logreg_tuned = LogisticRegression(C=params['C'], penalty=params['penalty'], solver=params['solver'])\n",
    "\n",
    "# fit the model with data\n",
    "logreg_tuned.fit(X_train, y_train)\n",
    "\n",
    "y_pred = logreg_tuned.predict(X_test)"
   ]
  },
  {
   "cell_type": "code",
   "execution_count": 17,
   "id": "bda7b71e-2fd2-43b0-bb03-c9893499ad7f",
   "metadata": {},
   "outputs": [
    {
     "data": {
      "text/plain": [
       "array([[ 0, 12],\n",
       "       [ 0, 27]])"
      ]
     },
     "execution_count": 17,
     "metadata": {},
     "output_type": "execute_result"
    }
   ],
   "source": [
    "from sklearn import metrics\n",
    "\n",
    "cnf_matrix = metrics.confusion_matrix(y_test, y_pred)\n",
    "cnf_matrix"
   ]
  },
  {
   "cell_type": "code",
   "execution_count": 18,
   "id": "2bbb07e7-d4b3-4c29-aa16-02e95621cbbb",
   "metadata": {},
   "outputs": [
    {
     "data": {
      "text/plain": [
       "Text(0.5, 257.44, 'Predicted label')"
      ]
     },
     "execution_count": 18,
     "metadata": {},
     "output_type": "execute_result"
    },
    {
     "data": {
      "image/png": "[encoded data removed]",
      "text/plain": [
       "<Figure size 432x288 with 2 Axes>"
      ]
     },
     "metadata": {
      "needs_background": "light"
     },
     "output_type": "display_data"
    }
   ],
   "source": [
    "import numpy as np\n",
    "import matplotlib.pyplot as plt\n",
    "import seaborn as sns\n",
    "\n",
    "class_names=[0,1] # name  of classes\n",
    "fig, ax = plt.subplots()\n",
    "tick_marks = np.arange(len(class_names))\n",
    "plt.xticks(tick_marks, class_names)\n",
    "plt.yticks(tick_marks, class_names)\n",
    "# create heatmap\n",
    "sns.heatmap(pd.DataFrame(cnf_matrix), annot=True, cmap=\"YlGnBu\" ,fmt='g')\n",
    "ax.xaxis.set_label_position(\"top\")\n",
    "plt.tight_layout()\n",
    "plt.title('Confusion matrix', y=1.1)\n",
    "plt.ylabel('Actual label')\n",
    "plt.xlabel('Predicted label')\n"
   ]
  },
  {
   "cell_type": "code",
   "execution_count": 19,
   "id": "d203d4d5-bddb-423a-9daa-e62624d0dfd0",
   "metadata": {},
   "outputs": [
    {
     "name": "stdout",
     "output_type": "stream",
     "text": [
      "Logistic Regression Model Acccuracy (Tuned Using Optimal Params): 0.6923076923076923\n"
     ]
    }
   ],
   "source": [
    "print(f'Logistic Regression Model Acccuracy (Tuned Using Optimal Params): {np.trace(cnf_matrix)/np.sum(cnf_matrix)}')"
   ]
  },
  {
   "cell_type": "code",
   "execution_count": 20,
   "id": "df562a67-c3df-452a-8f00-5793523b4767",
   "metadata": {},
   "outputs": [
    {
     "data": {
      "image/png": "[encoded data removed]",
      "text/plain": [
       "<Figure size 432x288 with 1 Axes>"
      ]
     },
     "metadata": {
      "needs_background": "light"
     },
     "output_type": "display_data"
    }
   ],
   "source": [
    "y_pred_proba = logreg_tuned.predict_proba(X_test)[::,1]\n",
    "fpr, tpr, _ = metrics.roc_curve(y_test,  y_pred_proba)\n",
    "auc = metrics.roc_auc_score(y_test, y_pred_proba)\n",
    "plt.plot(fpr,tpr,label=\"data 1, auc=\"+str(auc))\n",
    "plt.legend(loc=4)\n",
    "plt.show()"
   ]
  },
  {
   "cell_type": "markdown",
   "id": "21f74b9a-151b-473b-83cd-39b5228eeb63",
   "metadata": {
    "tags": []
   },
   "source": [
    "## Support Vector Machines"
   ]
  },
  {
   "cell_type": "code",
   "execution_count": 21,
   "id": "800532b9-ade8-4f89-894d-f565c4c03620",
   "metadata": {
    "tags": []
   },
   "outputs": [
    {
     "name": "stdout",
     "output_type": "stream",
     "text": [
      "Best: 0.445635 using {'C': 0.01, 'dual': True, 'loss': 'squared_hinge', 'penalty': 'l2'}\n",
      "0.335714 (0.145088) with: {'C': 10, 'dual': True, 'loss': 'squared_hinge', 'penalty': 'l2'}\n",
      "0.335714 (0.145088) with: {'C': 10, 'dual': False, 'loss': 'squared_hinge', 'penalty': 'l2'}\n",
      "0.364286 (0.156986) with: {'C': 1.0, 'dual': True, 'loss': 'squared_hinge', 'penalty': 'l2'}\n",
      "0.364286 (0.156986) with: {'C': 1.0, 'dual': False, 'loss': 'squared_hinge', 'penalty': 'l2'}\n",
      "0.421825 (0.170153) with: {'C': 0.1, 'dual': True, 'loss': 'squared_hinge', 'penalty': 'l2'}\n",
      "0.421825 (0.170153) with: {'C': 0.1, 'dual': False, 'loss': 'squared_hinge', 'penalty': 'l2'}\n",
      "0.445635 (0.173087) with: {'C': 0.01, 'dual': True, 'loss': 'squared_hinge', 'penalty': 'l2'}\n",
      "0.445635 (0.173087) with: {'C': 0.01, 'dual': False, 'loss': 'squared_hinge', 'penalty': 'l2'}\n"
     ]
    }
   ],
   "source": [
    "# define model and parameters\n",
    "model = LinearSVC()\n",
    "penalty = ['l2']\n",
    "loss=['squared_hinge']\n",
    "dual=[True, False]\n",
    "C = [10, 1.0, 0.1, 0.01]\n",
    "\n",
    "# define grid search\n",
    "grid = dict(penalty=penalty, loss=loss, dual=dual, C=C)\n",
    "cv = RepeatedStratifiedKFold(n_splits=n_splits, n_repeats=3, random_state=1)\n",
    "grid_search = GridSearchCV(estimator=model, param_grid=grid, n_jobs=-1, cv=cv, scoring=criterion,error_score=0)\n",
    "grid_result = grid_search.fit(X_train, y_train)\n",
    "# summarize results\n",
    "print(\"Best: %f using %s\" % (grid_result.best_score_, grid_result.best_params_))\n",
    "means = grid_result.cv_results_['mean_test_score']\n",
    "stds = grid_result.cv_results_['std_test_score']\n",
    "params = grid_result.cv_results_['params']\n",
    "for mean, stdev, param in zip(means, stds, params):\n",
    "    print(\"%f (%f) with: %r\" % (mean, stdev, param))"
   ]
  },
  {
   "cell_type": "code",
   "execution_count": 22,
   "id": "5dae27b6-21cf-45da-bf58-4bee8a12e1f0",
   "metadata": {},
   "outputs": [],
   "source": [
    "params = grid_search.best_params_"
   ]
  },
  {
   "cell_type": "code",
   "execution_count": 23,
   "id": "fca08b7f-fe67-4822-a326-a5ad915281c9",
   "metadata": {},
   "outputs": [],
   "source": [
    "linSVC_tuned = LinearSVC(C=params['C'], dual=params['dual'], loss=params['loss'])"
   ]
  },
  {
   "cell_type": "code",
   "execution_count": 24,
   "id": "8af3aaa7-aae7-4c61-872e-fdb794b6bd38",
   "metadata": {},
   "outputs": [],
   "source": [
    "# fit the model with data\n",
    "linSVC_tuned.fit(X_train, y_train)\n",
    "\n",
    "y_pred = linSVC_tuned.predict(X_test)"
   ]
  },
  {
   "cell_type": "code",
   "execution_count": 25,
   "id": "7ba48cbb-dcf1-4e39-a4a6-84f168030256",
   "metadata": {},
   "outputs": [
    {
     "data": {
      "text/plain": [
       "array([[ 0, 12],\n",
       "       [ 4, 23]])"
      ]
     },
     "execution_count": 25,
     "metadata": {},
     "output_type": "execute_result"
    }
   ],
   "source": [
    "cnf_matrix = metrics.confusion_matrix(y_test, y_pred)\n",
    "cnf_matrix"
   ]
  },
  {
   "cell_type": "code",
   "execution_count": 26,
   "id": "7edce7f7-bcac-4b8a-8848-7dfb25f84028",
   "metadata": {},
   "outputs": [
    {
     "name": "stdout",
     "output_type": "stream",
     "text": [
      "Linear SVM Acccuracy (Tuned Using Optimal Params): 0.5897435897435898\n"
     ]
    }
   ],
   "source": [
    "print(f'Linear SVM Acccuracy (Tuned Using Optimal Params): {np.trace(cnf_matrix)/np.sum(cnf_matrix)}')"
   ]
  },
  {
   "cell_type": "code",
   "execution_count": 27,
   "id": "08653e6d-1e04-4bd0-8563-100c9cc1c05e",
   "metadata": {},
   "outputs": [
    {
     "data": {
      "text/plain": [
       "<sklearn.metrics._plot.roc_curve.RocCurveDisplay at 0x7fc541fd4be0>"
      ]
     },
     "execution_count": 27,
     "metadata": {},
     "output_type": "execute_result"
    },
    {
     "data": {
      "image/png": "[encoded data removed]",
      "text/plain": [
       "<Figure size 432x288 with 1 Axes>"
      ]
     },
     "metadata": {
      "needs_background": "light"
     },
     "output_type": "display_data"
    }
   ],
   "source": [
    "from sklearn.metrics import plot_roc_curve\n",
    "\n",
    "plot_roc_curve(linSVC_tuned,X_test,y_test)"
   ]
  },
  {
   "cell_type": "code",
   "execution_count": 28,
   "id": "07593d41-a8c1-4b11-8e91-5a6407edff94",
   "metadata": {},
   "outputs": [
    {
     "data": {
      "text/plain": [
       "Text(0.5, 257.44, 'Predicted label')"
      ]
     },
     "execution_count": 28,
     "metadata": {},
     "output_type": "execute_result"
    },
    {
     "data": {
      "image/png": "[encoded data removed]",
      "text/plain": [
       "<Figure size 432x288 with 2 Axes>"
      ]
     },
     "metadata": {
      "needs_background": "light"
     },
     "output_type": "display_data"
    }
   ],
   "source": [
    "class_names=[0,1] # name  of classes\n",
    "fig, ax = plt.subplots()\n",
    "tick_marks = np.arange(len(class_names))\n",
    "plt.xticks(tick_marks, class_names)\n",
    "plt.yticks(tick_marks, class_names)\n",
    "# create heatmap\n",
    "sns.heatmap(pd.DataFrame(cnf_matrix), annot=True, cmap=\"YlGnBu\" ,fmt='g')\n",
    "ax.xaxis.set_label_position(\"top\")\n",
    "plt.tight_layout()\n",
    "plt.title('Confusion matrix', y=1.1)\n",
    "plt.ylabel('Actual label')\n",
    "plt.xlabel('Predicted label')\n",
    "\n"
   ]
  },
  {
   "cell_type": "markdown",
   "id": "b766889f-c8f7-49ba-900a-16ed7074d987",
   "metadata": {
    "tags": []
   },
   "source": [
    "## Decision Trees"
   ]
  },
  {
   "cell_type": "code",
   "execution_count": 29,
   "id": "6ffdb5e8-89e5-446a-8267-6207cdedeb43",
   "metadata": {
    "tags": []
   },
   "outputs": [
    {
     "name": "stdout",
     "output_type": "stream",
     "text": [
      "Best: 0.627381 using {'max_features': 'auto', 'min_samples_leaf': 1, 'min_samples_split': 2, 'splitter': 'random'}\n",
      "0.000000 (0.000000) with: {'max_features': None, 'min_samples_leaf': 1, 'min_samples_split': 1, 'splitter': 'best'}\n",
      "0.000000 (0.000000) with: {'max_features': None, 'min_samples_leaf': 1, 'min_samples_split': 1, 'splitter': 'random'}\n",
      "0.484921 (0.098156) with: {'max_features': None, 'min_samples_leaf': 1, 'min_samples_split': 2, 'splitter': 'best'}\n",
      "0.492460 (0.075134) with: {'max_features': None, 'min_samples_leaf': 1, 'min_samples_split': 2, 'splitter': 'random'}\n",
      "0.498016 (0.086814) with: {'max_features': None, 'min_samples_leaf': 1, 'min_samples_split': 3, 'splitter': 'best'}\n",
      "0.475397 (0.117728) with: {'max_features': None, 'min_samples_leaf': 1, 'min_samples_split': 3, 'splitter': 'random'}\n",
      "0.484921 (0.098156) with: {'max_features': None, 'min_samples_leaf': 1, 'min_samples_split': 4, 'splitter': 'best'}\n",
      "0.471429 (0.182108) with: {'max_features': None, 'min_samples_leaf': 1, 'min_samples_split': 4, 'splitter': 'random'}\n",
      "0.000000 (0.000000) with: {'max_features': None, 'min_samples_leaf': 2, 'min_samples_split': 1, 'splitter': 'best'}\n",
      "0.000000 (0.000000) with: {'max_features': None, 'min_samples_leaf': 2, 'min_samples_split': 1, 'splitter': 'random'}\n",
      "0.498611 (0.098994) with: {'max_features': None, 'min_samples_leaf': 2, 'min_samples_split': 2, 'splitter': 'best'}\n",
      "0.517063 (0.109374) with: {'max_features': None, 'min_samples_leaf': 2, 'min_samples_split': 2, 'splitter': 'random'}\n",
      "0.504563 (0.108009) with: {'max_features': None, 'min_samples_leaf': 2, 'min_samples_split': 3, 'splitter': 'best'}\n",
      "0.518254 (0.121863) with: {'max_features': None, 'min_samples_leaf': 2, 'min_samples_split': 3, 'splitter': 'random'}\n",
      "0.493056 (0.113152) with: {'max_features': None, 'min_samples_leaf': 2, 'min_samples_split': 4, 'splitter': 'best'}\n",
      "0.443849 (0.138738) with: {'max_features': None, 'min_samples_leaf': 2, 'min_samples_split': 4, 'splitter': 'random'}\n",
      "0.000000 (0.000000) with: {'max_features': None, 'min_samples_leaf': 3, 'min_samples_split': 1, 'splitter': 'best'}\n",
      "0.000000 (0.000000) with: {'max_features': None, 'min_samples_leaf': 3, 'min_samples_split': 1, 'splitter': 'random'}\n",
      "0.480159 (0.112382) with: {'max_features': None, 'min_samples_leaf': 3, 'min_samples_split': 2, 'splitter': 'best'}\n",
      "0.425794 (0.141302) with: {'max_features': None, 'min_samples_leaf': 3, 'min_samples_split': 2, 'splitter': 'random'}\n",
      "0.458929 (0.133060) with: {'max_features': None, 'min_samples_leaf': 3, 'min_samples_split': 3, 'splitter': 'best'}\n",
      "0.547619 (0.220042) with: {'max_features': None, 'min_samples_leaf': 3, 'min_samples_split': 3, 'splitter': 'random'}\n",
      "0.464683 (0.108086) with: {'max_features': None, 'min_samples_leaf': 3, 'min_samples_split': 4, 'splitter': 'best'}\n",
      "0.504167 (0.173306) with: {'max_features': None, 'min_samples_leaf': 3, 'min_samples_split': 4, 'splitter': 'random'}\n",
      "0.000000 (0.000000) with: {'max_features': None, 'min_samples_leaf': 4, 'min_samples_split': 1, 'splitter': 'best'}\n",
      "0.000000 (0.000000) with: {'max_features': None, 'min_samples_leaf': 4, 'min_samples_split': 1, 'splitter': 'random'}\n",
      "0.486310 (0.188541) with: {'max_features': None, 'min_samples_leaf': 4, 'min_samples_split': 2, 'splitter': 'best'}\n",
      "0.580159 (0.147418) with: {'max_features': None, 'min_samples_leaf': 4, 'min_samples_split': 2, 'splitter': 'random'}\n",
      "0.477381 (0.176441) with: {'max_features': None, 'min_samples_leaf': 4, 'min_samples_split': 3, 'splitter': 'best'}\n",
      "0.451587 (0.104506) with: {'max_features': None, 'min_samples_leaf': 4, 'min_samples_split': 3, 'splitter': 'random'}\n",
      "0.478770 (0.177322) with: {'max_features': None, 'min_samples_leaf': 4, 'min_samples_split': 4, 'splitter': 'best'}\n",
      "0.451190 (0.107396) with: {'max_features': None, 'min_samples_leaf': 4, 'min_samples_split': 4, 'splitter': 'random'}\n",
      "0.000000 (0.000000) with: {'max_features': 'auto', 'min_samples_leaf': 1, 'min_samples_split': 1, 'splitter': 'best'}\n",
      "0.000000 (0.000000) with: {'max_features': 'auto', 'min_samples_leaf': 1, 'min_samples_split': 1, 'splitter': 'random'}\n",
      "0.417857 (0.090682) with: {'max_features': 'auto', 'min_samples_leaf': 1, 'min_samples_split': 2, 'splitter': 'best'}\n",
      "0.627381 (0.087209) with: {'max_features': 'auto', 'min_samples_leaf': 1, 'min_samples_split': 2, 'splitter': 'random'}\n",
      "0.541667 (0.077795) with: {'max_features': 'auto', 'min_samples_leaf': 1, 'min_samples_split': 3, 'splitter': 'best'}\n",
      "0.555159 (0.159449) with: {'max_features': 'auto', 'min_samples_leaf': 1, 'min_samples_split': 3, 'splitter': 'random'}\n",
      "0.465675 (0.124362) with: {'max_features': 'auto', 'min_samples_leaf': 1, 'min_samples_split': 4, 'splitter': 'best'}\n",
      "0.495437 (0.163404) with: {'max_features': 'auto', 'min_samples_leaf': 1, 'min_samples_split': 4, 'splitter': 'random'}\n",
      "0.000000 (0.000000) with: {'max_features': 'auto', 'min_samples_leaf': 2, 'min_samples_split': 1, 'splitter': 'best'}\n",
      "0.000000 (0.000000) with: {'max_features': 'auto', 'min_samples_leaf': 2, 'min_samples_split': 1, 'splitter': 'random'}\n",
      "0.502579 (0.074372) with: {'max_features': 'auto', 'min_samples_leaf': 2, 'min_samples_split': 2, 'splitter': 'best'}\n",
      "0.472421 (0.118400) with: {'max_features': 'auto', 'min_samples_leaf': 2, 'min_samples_split': 2, 'splitter': 'random'}\n",
      "0.551389 (0.112801) with: {'max_features': 'auto', 'min_samples_leaf': 2, 'min_samples_split': 3, 'splitter': 'best'}\n",
      "0.570635 (0.081634) with: {'max_features': 'auto', 'min_samples_leaf': 2, 'min_samples_split': 3, 'splitter': 'random'}\n",
      "0.459325 (0.130055) with: {'max_features': 'auto', 'min_samples_leaf': 2, 'min_samples_split': 4, 'splitter': 'best'}\n",
      "0.406349 (0.119647) with: {'max_features': 'auto', 'min_samples_leaf': 2, 'min_samples_split': 4, 'splitter': 'random'}\n",
      "0.000000 (0.000000) with: {'max_features': 'auto', 'min_samples_leaf': 3, 'min_samples_split': 1, 'splitter': 'best'}\n",
      "0.000000 (0.000000) with: {'max_features': 'auto', 'min_samples_leaf': 3, 'min_samples_split': 1, 'splitter': 'random'}\n",
      "0.411905 (0.184136) with: {'max_features': 'auto', 'min_samples_leaf': 3, 'min_samples_split': 2, 'splitter': 'best'}\n",
      "0.435317 (0.101159) with: {'max_features': 'auto', 'min_samples_leaf': 3, 'min_samples_split': 2, 'splitter': 'random'}\n",
      "0.456349 (0.159670) with: {'max_features': 'auto', 'min_samples_leaf': 3, 'min_samples_split': 3, 'splitter': 'best'}\n",
      "0.507540 (0.084363) with: {'max_features': 'auto', 'min_samples_leaf': 3, 'min_samples_split': 3, 'splitter': 'random'}\n",
      "0.450198 (0.165855) with: {'max_features': 'auto', 'min_samples_leaf': 3, 'min_samples_split': 4, 'splitter': 'best'}\n",
      "0.493452 (0.087923) with: {'max_features': 'auto', 'min_samples_leaf': 3, 'min_samples_split': 4, 'splitter': 'random'}\n",
      "0.000000 (0.000000) with: {'max_features': 'auto', 'min_samples_leaf': 4, 'min_samples_split': 1, 'splitter': 'best'}\n",
      "0.000000 (0.000000) with: {'max_features': 'auto', 'min_samples_leaf': 4, 'min_samples_split': 1, 'splitter': 'random'}\n",
      "0.474206 (0.211777) with: {'max_features': 'auto', 'min_samples_leaf': 4, 'min_samples_split': 2, 'splitter': 'best'}\n",
      "0.504563 (0.116522) with: {'max_features': 'auto', 'min_samples_leaf': 4, 'min_samples_split': 2, 'splitter': 'random'}\n",
      "0.561905 (0.113554) with: {'max_features': 'auto', 'min_samples_leaf': 4, 'min_samples_split': 3, 'splitter': 'best'}\n",
      "0.563492 (0.142212) with: {'max_features': 'auto', 'min_samples_leaf': 4, 'min_samples_split': 3, 'splitter': 'random'}\n",
      "0.523016 (0.095029) with: {'max_features': 'auto', 'min_samples_leaf': 4, 'min_samples_split': 4, 'splitter': 'best'}\n",
      "0.562698 (0.059152) with: {'max_features': 'auto', 'min_samples_leaf': 4, 'min_samples_split': 4, 'splitter': 'random'}\n",
      "0.000000 (0.000000) with: {'max_features': 'sqrt', 'min_samples_leaf': 1, 'min_samples_split': 1, 'splitter': 'best'}\n",
      "0.000000 (0.000000) with: {'max_features': 'sqrt', 'min_samples_leaf': 1, 'min_samples_split': 1, 'splitter': 'random'}\n",
      "0.528571 (0.124525) with: {'max_features': 'sqrt', 'min_samples_leaf': 1, 'min_samples_split': 2, 'splitter': 'best'}\n",
      "0.606746 (0.059626) with: {'max_features': 'sqrt', 'min_samples_leaf': 1, 'min_samples_split': 2, 'splitter': 'random'}\n",
      "0.454167 (0.077450) with: {'max_features': 'sqrt', 'min_samples_leaf': 1, 'min_samples_split': 3, 'splitter': 'best'}\n",
      "0.455754 (0.138918) with: {'max_features': 'sqrt', 'min_samples_leaf': 1, 'min_samples_split': 3, 'splitter': 'random'}\n",
      "0.487302 (0.114273) with: {'max_features': 'sqrt', 'min_samples_leaf': 1, 'min_samples_split': 4, 'splitter': 'best'}\n",
      "0.530556 (0.085517) with: {'max_features': 'sqrt', 'min_samples_leaf': 1, 'min_samples_split': 4, 'splitter': 'random'}\n",
      "0.000000 (0.000000) with: {'max_features': 'sqrt', 'min_samples_leaf': 2, 'min_samples_split': 1, 'splitter': 'best'}\n",
      "0.000000 (0.000000) with: {'max_features': 'sqrt', 'min_samples_leaf': 2, 'min_samples_split': 1, 'splitter': 'random'}\n",
      "0.512500 (0.114339) with: {'max_features': 'sqrt', 'min_samples_leaf': 2, 'min_samples_split': 2, 'splitter': 'best'}\n",
      "0.402976 (0.141041) with: {'max_features': 'sqrt', 'min_samples_leaf': 2, 'min_samples_split': 2, 'splitter': 'random'}\n",
      "0.464484 (0.095778) with: {'max_features': 'sqrt', 'min_samples_leaf': 2, 'min_samples_split': 3, 'splitter': 'best'}\n",
      "0.391865 (0.087542) with: {'max_features': 'sqrt', 'min_samples_leaf': 2, 'min_samples_split': 3, 'splitter': 'random'}\n",
      "0.501190 (0.131332) with: {'max_features': 'sqrt', 'min_samples_leaf': 2, 'min_samples_split': 4, 'splitter': 'best'}\n",
      "0.524802 (0.114810) with: {'max_features': 'sqrt', 'min_samples_leaf': 2, 'min_samples_split': 4, 'splitter': 'random'}\n",
      "0.000000 (0.000000) with: {'max_features': 'sqrt', 'min_samples_leaf': 3, 'min_samples_split': 1, 'splitter': 'best'}\n",
      "0.000000 (0.000000) with: {'max_features': 'sqrt', 'min_samples_leaf': 3, 'min_samples_split': 1, 'splitter': 'random'}\n",
      "0.482341 (0.131511) with: {'max_features': 'sqrt', 'min_samples_leaf': 3, 'min_samples_split': 2, 'splitter': 'best'}\n",
      "0.480357 (0.098950) with: {'max_features': 'sqrt', 'min_samples_leaf': 3, 'min_samples_split': 2, 'splitter': 'random'}\n",
      "0.467063 (0.164725) with: {'max_features': 'sqrt', 'min_samples_leaf': 3, 'min_samples_split': 3, 'splitter': 'best'}\n",
      "0.463492 (0.090713) with: {'max_features': 'sqrt', 'min_samples_leaf': 3, 'min_samples_split': 3, 'splitter': 'random'}\n",
      "0.516071 (0.181986) with: {'max_features': 'sqrt', 'min_samples_leaf': 3, 'min_samples_split': 4, 'splitter': 'best'}\n",
      "0.508730 (0.201570) with: {'max_features': 'sqrt', 'min_samples_leaf': 3, 'min_samples_split': 4, 'splitter': 'random'}\n",
      "0.000000 (0.000000) with: {'max_features': 'sqrt', 'min_samples_leaf': 4, 'min_samples_split': 1, 'splitter': 'best'}\n",
      "0.000000 (0.000000) with: {'max_features': 'sqrt', 'min_samples_leaf': 4, 'min_samples_split': 1, 'splitter': 'random'}\n",
      "0.414286 (0.142435) with: {'max_features': 'sqrt', 'min_samples_leaf': 4, 'min_samples_split': 2, 'splitter': 'best'}\n",
      "0.459921 (0.087454) with: {'max_features': 'sqrt', 'min_samples_leaf': 4, 'min_samples_split': 2, 'splitter': 'random'}\n",
      "0.548214 (0.133149) with: {'max_features': 'sqrt', 'min_samples_leaf': 4, 'min_samples_split': 3, 'splitter': 'best'}\n",
      "0.466865 (0.121239) with: {'max_features': 'sqrt', 'min_samples_leaf': 4, 'min_samples_split': 3, 'splitter': 'random'}\n",
      "0.576389 (0.148121) with: {'max_features': 'sqrt', 'min_samples_leaf': 4, 'min_samples_split': 4, 'splitter': 'best'}\n",
      "0.511905 (0.091069) with: {'max_features': 'sqrt', 'min_samples_leaf': 4, 'min_samples_split': 4, 'splitter': 'random'}\n",
      "0.000000 (0.000000) with: {'max_features': 'log2', 'min_samples_leaf': 1, 'min_samples_split': 1, 'splitter': 'best'}\n",
      "0.000000 (0.000000) with: {'max_features': 'log2', 'min_samples_leaf': 1, 'min_samples_split': 1, 'splitter': 'random'}\n",
      "0.487698 (0.122455) with: {'max_features': 'log2', 'min_samples_leaf': 1, 'min_samples_split': 2, 'splitter': 'best'}\n",
      "0.483333 (0.146275) with: {'max_features': 'log2', 'min_samples_leaf': 1, 'min_samples_split': 2, 'splitter': 'random'}\n",
      "0.502778 (0.132825) with: {'max_features': 'log2', 'min_samples_leaf': 1, 'min_samples_split': 3, 'splitter': 'best'}\n",
      "0.488889 (0.089145) with: {'max_features': 'log2', 'min_samples_leaf': 1, 'min_samples_split': 3, 'splitter': 'random'}\n",
      "0.480357 (0.094675) with: {'max_features': 'log2', 'min_samples_leaf': 1, 'min_samples_split': 4, 'splitter': 'best'}\n",
      "0.477183 (0.105092) with: {'max_features': 'log2', 'min_samples_leaf': 1, 'min_samples_split': 4, 'splitter': 'random'}\n",
      "0.000000 (0.000000) with: {'max_features': 'log2', 'min_samples_leaf': 2, 'min_samples_split': 1, 'splitter': 'best'}\n",
      "0.000000 (0.000000) with: {'max_features': 'log2', 'min_samples_leaf': 2, 'min_samples_split': 1, 'splitter': 'random'}\n",
      "0.378571 (0.075418) with: {'max_features': 'log2', 'min_samples_leaf': 2, 'min_samples_split': 2, 'splitter': 'best'}\n",
      "0.417857 (0.098013) with: {'max_features': 'log2', 'min_samples_leaf': 2, 'min_samples_split': 2, 'splitter': 'random'}\n",
      "0.530357 (0.081793) with: {'max_features': 'log2', 'min_samples_leaf': 2, 'min_samples_split': 3, 'splitter': 'best'}\n",
      "0.582143 (0.067315) with: {'max_features': 'log2', 'min_samples_leaf': 2, 'min_samples_split': 3, 'splitter': 'random'}\n",
      "0.477778 (0.080257) with: {'max_features': 'log2', 'min_samples_leaf': 2, 'min_samples_split': 4, 'splitter': 'best'}\n",
      "0.463690 (0.152514) with: {'max_features': 'log2', 'min_samples_leaf': 2, 'min_samples_split': 4, 'splitter': 'random'}\n",
      "0.000000 (0.000000) with: {'max_features': 'log2', 'min_samples_leaf': 3, 'min_samples_split': 1, 'splitter': 'best'}\n",
      "0.000000 (0.000000) with: {'max_features': 'log2', 'min_samples_leaf': 3, 'min_samples_split': 1, 'splitter': 'random'}\n",
      "0.479365 (0.089778) with: {'max_features': 'log2', 'min_samples_leaf': 3, 'min_samples_split': 2, 'splitter': 'best'}\n",
      "0.447619 (0.168764) with: {'max_features': 'log2', 'min_samples_leaf': 3, 'min_samples_split': 2, 'splitter': 'random'}\n",
      "0.549008 (0.101306) with: {'max_features': 'log2', 'min_samples_leaf': 3, 'min_samples_split': 3, 'splitter': 'best'}\n",
      "0.386905 (0.088432) with: {'max_features': 'log2', 'min_samples_leaf': 3, 'min_samples_split': 3, 'splitter': 'random'}\n",
      "0.523810 (0.076700) with: {'max_features': 'log2', 'min_samples_leaf': 3, 'min_samples_split': 4, 'splitter': 'best'}\n",
      "0.465079 (0.111309) with: {'max_features': 'log2', 'min_samples_leaf': 3, 'min_samples_split': 4, 'splitter': 'random'}\n",
      "0.000000 (0.000000) with: {'max_features': 'log2', 'min_samples_leaf': 4, 'min_samples_split': 1, 'splitter': 'best'}\n",
      "0.000000 (0.000000) with: {'max_features': 'log2', 'min_samples_leaf': 4, 'min_samples_split': 1, 'splitter': 'random'}\n",
      "0.526984 (0.145301) with: {'max_features': 'log2', 'min_samples_leaf': 4, 'min_samples_split': 2, 'splitter': 'best'}\n",
      "0.493056 (0.042672) with: {'max_features': 'log2', 'min_samples_leaf': 4, 'min_samples_split': 2, 'splitter': 'random'}\n",
      "0.512897 (0.159056) with: {'max_features': 'log2', 'min_samples_leaf': 4, 'min_samples_split': 3, 'splitter': 'best'}\n",
      "0.513492 (0.143060) with: {'max_features': 'log2', 'min_samples_leaf': 4, 'min_samples_split': 3, 'splitter': 'random'}\n",
      "0.553571 (0.157400) with: {'max_features': 'log2', 'min_samples_leaf': 4, 'min_samples_split': 4, 'splitter': 'best'}\n",
      "0.463889 (0.105628) with: {'max_features': 'log2', 'min_samples_leaf': 4, 'min_samples_split': 4, 'splitter': 'random'}\n"
     ]
    }
   ],
   "source": [
    "model = DecisionTreeClassifier()\n",
    "splitter = ['best', 'random']\n",
    "min_samples_split = range(1, 5) #41\n",
    "min_samples_leaf = range(1, 5) #21\n",
    "max_features = [None, 'auto', 'sqrt', 'log2']\n",
    "presort = [True, False]\n",
    "# define grid search\n",
    "grid = dict(splitter=splitter, min_samples_split=min_samples_split, \n",
    "            min_samples_leaf=min_samples_leaf,\n",
    "            max_features=max_features)\n",
    "cv = RepeatedStratifiedKFold(n_splits=n_splits, n_repeats=3, random_state=1)\n",
    "grid_search = GridSearchCV(estimator=model, param_grid=grid, n_jobs=-1, cv=cv, scoring=criterion,error_score=0)\n",
    "grid_result = grid_search.fit(X_train, y_train)\n",
    "# summarize results\n",
    "print(\"Best: %f using %s\" % (grid_result.best_score_, grid_result.best_params_))\n",
    "means = grid_result.cv_results_['mean_test_score']\n",
    "stds = grid_result.cv_results_['std_test_score']\n",
    "params = grid_result.cv_results_['params']\n",
    "for mean, stdev, param in zip(means, stds, params):\n",
    "    print(\"%f (%f) with: %r\" % (mean, stdev, param))"
   ]
  },
  {
   "cell_type": "code",
   "execution_count": 30,
   "id": "8e5e52f2-0431-4559-997f-43cdcf721016",
   "metadata": {},
   "outputs": [],
   "source": [
    "params = grid_search.best_params_"
   ]
  },
  {
   "cell_type": "code",
   "execution_count": 31,
   "id": "65e339b8-cf71-47df-941d-659e89dd4f07",
   "metadata": {},
   "outputs": [],
   "source": [
    "# instantiate the model (using tuned params)\n",
    "decTree_tuned = DecisionTreeClassifier(max_features=params['max_features'], \n",
    "                                       min_samples_leaf=params['min_samples_leaf'], \n",
    "                                       min_samples_split=params['min_samples_split'],\n",
    "                                      splitter=params['splitter'])\n",
    "\n",
    "\n",
    "\n",
    "# fit the model with data\n",
    "decTree_tuned.fit(X_train, y_train)\n",
    "\n",
    "y_pred = decTree_tuned.predict(X_test)\n",
    "y_pred_proba = decTree_tuned.predict_proba(X_test)"
   ]
  },
  {
   "cell_type": "code",
   "execution_count": 32,
   "id": "8bd2be27-b427-4f33-ace6-754d122a5bd1",
   "metadata": {},
   "outputs": [
    {
     "data": {
      "text/plain": [
       "array([[ 3,  9],\n",
       "       [ 5, 22]])"
      ]
     },
     "execution_count": 32,
     "metadata": {},
     "output_type": "execute_result"
    }
   ],
   "source": [
    "cnf_matrix = metrics.confusion_matrix(y_test, y_pred)\n",
    "cnf_matrix"
   ]
  },
  {
   "cell_type": "code",
   "execution_count": 33,
   "id": "770b73b5-0f0f-4d83-bad1-7a1ab24b98e9",
   "metadata": {},
   "outputs": [
    {
     "name": "stdout",
     "output_type": "stream",
     "text": [
      "Decision Trees Acccuracy (Tuned Using Optimal Params): 0.6410256410256411\n"
     ]
    }
   ],
   "source": [
    "print(f'Decision Trees Acccuracy (Tuned Using Optimal Params): {np.trace(cnf_matrix)/np.sum(cnf_matrix)}')"
   ]
  },
  {
   "cell_type": "code",
   "execution_count": 34,
   "id": "7331f746-5f69-4a4a-81d5-7f9efe0b95fb",
   "metadata": {},
   "outputs": [
    {
     "data": {
      "text/plain": [
       "<sklearn.metrics._plot.roc_curve.RocCurveDisplay at 0x7fc540896a90>"
      ]
     },
     "execution_count": 34,
     "metadata": {},
     "output_type": "execute_result"
    },
    {
     "data": {
      "image/png": "[encoded data removed]",
      "text/plain": [
       "<Figure size 432x288 with 1 Axes>"
      ]
     },
     "metadata": {
      "needs_background": "light"
     },
     "output_type": "display_data"
    }
   ],
   "source": [
    "plot_roc_curve(decTree_tuned,X_test,y_test)"
   ]
  },
  {
   "cell_type": "code",
   "execution_count": 35,
   "id": "6c2f652b-0faf-46ea-91ec-8d5e29c394ef",
   "metadata": {},
   "outputs": [
    {
     "data": {
      "text/plain": [
       "Text(0.5, 257.44, 'Predicted label')"
      ]
     },
     "execution_count": 35,
     "metadata": {},
     "output_type": "execute_result"
    },
    {
     "data": {
      "image/png": "[encoded data removed]",
      "text/plain": [
       "<Figure size 432x288 with 2 Axes>"
      ]
     },
     "metadata": {
      "needs_background": "light"
     },
     "output_type": "display_data"
    }
   ],
   "source": [
    "class_names=[0,1] # name  of classes\n",
    "fig, ax = plt.subplots()\n",
    "tick_marks = np.arange(len(class_names))\n",
    "plt.xticks(tick_marks, class_names)\n",
    "plt.yticks(tick_marks, class_names)\n",
    "# create heatmap\n",
    "sns.heatmap(pd.DataFrame(cnf_matrix), annot=True, cmap=\"YlGnBu\" ,fmt='g')\n",
    "ax.xaxis.set_label_position(\"top\")\n",
    "plt.tight_layout()\n",
    "plt.title('Confusion matrix', y=1.1)\n",
    "plt.ylabel('Actual label')\n",
    "plt.xlabel('Predicted label')"
   ]
  },
  {
   "cell_type": "markdown",
   "id": "4561fa41-3b9d-47ce-97aa-0adb5aaef95a",
   "metadata": {
    "tags": []
   },
   "source": [
    "## Random Forest"
   ]
  },
  {
   "cell_type": "code",
   "execution_count": 36,
   "id": "f8e87ba4-2f26-4b06-91cc-e21275510ac4",
   "metadata": {
    "tags": []
   },
   "outputs": [
    {
     "name": "stdout",
     "output_type": "stream",
     "text": [
      "Best: 0.524603 using {'max_depth': 90, 'max_features': 2, 'min_samples_leaf': 4, 'min_samples_split': 8, 'n_estimators': 100}\n",
      "0.464683 (0.117179) with: {'max_depth': 80, 'max_features': 2, 'min_samples_leaf': 3, 'min_samples_split': 8, 'n_estimators': 100}\n",
      "0.450794 (0.140124) with: {'max_depth': 80, 'max_features': 2, 'min_samples_leaf': 3, 'min_samples_split': 8, 'n_estimators': 200}\n",
      "0.451587 (0.137867) with: {'max_depth': 80, 'max_features': 2, 'min_samples_leaf': 3, 'min_samples_split': 8, 'n_estimators': 300}\n",
      "0.440476 (0.139023) with: {'max_depth': 80, 'max_features': 2, 'min_samples_leaf': 3, 'min_samples_split': 8, 'n_estimators': 1000}\n",
      "0.490476 (0.125047) with: {'max_depth': 80, 'max_features': 2, 'min_samples_leaf': 3, 'min_samples_split': 10, 'n_estimators': 100}\n",
      "0.443651 (0.136683) with: {'max_depth': 80, 'max_features': 2, 'min_samples_leaf': 3, 'min_samples_split': 10, 'n_estimators': 200}\n",
      "0.460714 (0.152949) with: {'max_depth': 80, 'max_features': 2, 'min_samples_leaf': 3, 'min_samples_split': 10, 'n_estimators': 300}\n",
      "0.432540 (0.156279) with: {'max_depth': 80, 'max_features': 2, 'min_samples_leaf': 3, 'min_samples_split': 10, 'n_estimators': 1000}\n",
      "0.451190 (0.153442) with: {'max_depth': 80, 'max_features': 2, 'min_samples_leaf': 3, 'min_samples_split': 12, 'n_estimators': 100}\n",
      "0.452778 (0.142668) with: {'max_depth': 80, 'max_features': 2, 'min_samples_leaf': 3, 'min_samples_split': 12, 'n_estimators': 200}\n",
      "0.461508 (0.147660) with: {'max_depth': 80, 'max_features': 2, 'min_samples_leaf': 3, 'min_samples_split': 12, 'n_estimators': 300}\n",
      "0.457540 (0.167945) with: {'max_depth': 80, 'max_features': 2, 'min_samples_leaf': 3, 'min_samples_split': 12, 'n_estimators': 1000}\n",
      "0.450794 (0.148631) with: {'max_depth': 80, 'max_features': 2, 'min_samples_leaf': 4, 'min_samples_split': 8, 'n_estimators': 100}\n",
      "0.457937 (0.159800) with: {'max_depth': 80, 'max_features': 2, 'min_samples_leaf': 4, 'min_samples_split': 8, 'n_estimators': 200}\n",
      "0.458730 (0.126942) with: {'max_depth': 80, 'max_features': 2, 'min_samples_leaf': 4, 'min_samples_split': 8, 'n_estimators': 300}\n",
      "0.474206 (0.148579) with: {'max_depth': 80, 'max_features': 2, 'min_samples_leaf': 4, 'min_samples_split': 8, 'n_estimators': 1000}\n",
      "0.476190 (0.174059) with: {'max_depth': 80, 'max_features': 2, 'min_samples_leaf': 4, 'min_samples_split': 10, 'n_estimators': 100}\n",
      "0.460714 (0.126016) with: {'max_depth': 80, 'max_features': 2, 'min_samples_leaf': 4, 'min_samples_split': 10, 'n_estimators': 200}\n",
      "0.473016 (0.128275) with: {'max_depth': 80, 'max_features': 2, 'min_samples_leaf': 4, 'min_samples_split': 10, 'n_estimators': 300}\n",
      "0.470635 (0.157015) with: {'max_depth': 80, 'max_features': 2, 'min_samples_leaf': 4, 'min_samples_split': 10, 'n_estimators': 1000}\n",
      "0.442460 (0.149289) with: {'max_depth': 80, 'max_features': 2, 'min_samples_leaf': 4, 'min_samples_split': 12, 'n_estimators': 100}\n",
      "0.464286 (0.144658) with: {'max_depth': 80, 'max_features': 2, 'min_samples_leaf': 4, 'min_samples_split': 12, 'n_estimators': 200}\n",
      "0.458333 (0.129791) with: {'max_depth': 80, 'max_features': 2, 'min_samples_leaf': 4, 'min_samples_split': 12, 'n_estimators': 300}\n",
      "0.471032 (0.143355) with: {'max_depth': 80, 'max_features': 2, 'min_samples_leaf': 4, 'min_samples_split': 12, 'n_estimators': 1000}\n",
      "0.499603 (0.118398) with: {'max_depth': 80, 'max_features': 2, 'min_samples_leaf': 5, 'min_samples_split': 8, 'n_estimators': 100}\n",
      "0.478571 (0.099981) with: {'max_depth': 80, 'max_features': 2, 'min_samples_leaf': 5, 'min_samples_split': 8, 'n_estimators': 200}\n",
      "0.464683 (0.152687) with: {'max_depth': 80, 'max_features': 2, 'min_samples_leaf': 5, 'min_samples_split': 8, 'n_estimators': 300}\n",
      "0.469444 (0.149769) with: {'max_depth': 80, 'max_features': 2, 'min_samples_leaf': 5, 'min_samples_split': 8, 'n_estimators': 1000}\n",
      "0.459524 (0.167142) with: {'max_depth': 80, 'max_features': 2, 'min_samples_leaf': 5, 'min_samples_split': 10, 'n_estimators': 100}\n",
      "0.445238 (0.144697) with: {'max_depth': 80, 'max_features': 2, 'min_samples_leaf': 5, 'min_samples_split': 10, 'n_estimators': 200}\n",
      "0.486111 (0.165794) with: {'max_depth': 80, 'max_features': 2, 'min_samples_leaf': 5, 'min_samples_split': 10, 'n_estimators': 300}\n",
      "0.465476 (0.131376) with: {'max_depth': 80, 'max_features': 2, 'min_samples_leaf': 5, 'min_samples_split': 10, 'n_estimators': 1000}\n",
      "0.501587 (0.149170) with: {'max_depth': 80, 'max_features': 2, 'min_samples_leaf': 5, 'min_samples_split': 12, 'n_estimators': 100}\n",
      "0.500000 (0.141508) with: {'max_depth': 80, 'max_features': 2, 'min_samples_leaf': 5, 'min_samples_split': 12, 'n_estimators': 200}\n",
      "0.481349 (0.108852) with: {'max_depth': 80, 'max_features': 2, 'min_samples_leaf': 5, 'min_samples_split': 12, 'n_estimators': 300}\n",
      "0.479762 (0.152299) with: {'max_depth': 80, 'max_features': 2, 'min_samples_leaf': 5, 'min_samples_split': 12, 'n_estimators': 1000}\n",
      "0.448016 (0.107981) with: {'max_depth': 80, 'max_features': 3, 'min_samples_leaf': 3, 'min_samples_split': 8, 'n_estimators': 100}\n",
      "0.455159 (0.163174) with: {'max_depth': 80, 'max_features': 3, 'min_samples_leaf': 3, 'min_samples_split': 8, 'n_estimators': 200}\n",
      "0.446429 (0.137737) with: {'max_depth': 80, 'max_features': 3, 'min_samples_leaf': 3, 'min_samples_split': 8, 'n_estimators': 300}\n",
      "0.450397 (0.144752) with: {'max_depth': 80, 'max_features': 3, 'min_samples_leaf': 3, 'min_samples_split': 8, 'n_estimators': 1000}\n",
      "0.445238 (0.119428) with: {'max_depth': 80, 'max_features': 3, 'min_samples_leaf': 3, 'min_samples_split': 10, 'n_estimators': 100}\n",
      "0.468254 (0.148434) with: {'max_depth': 80, 'max_features': 3, 'min_samples_leaf': 3, 'min_samples_split': 10, 'n_estimators': 200}\n",
      "0.480556 (0.139987) with: {'max_depth': 80, 'max_features': 3, 'min_samples_leaf': 3, 'min_samples_split': 10, 'n_estimators': 300}\n",
      "0.456349 (0.152967) with: {'max_depth': 80, 'max_features': 3, 'min_samples_leaf': 3, 'min_samples_split': 10, 'n_estimators': 1000}\n",
      "0.457540 (0.138002) with: {'max_depth': 80, 'max_features': 3, 'min_samples_leaf': 3, 'min_samples_split': 12, 'n_estimators': 100}\n",
      "0.461508 (0.155544) with: {'max_depth': 80, 'max_features': 3, 'min_samples_leaf': 3, 'min_samples_split': 12, 'n_estimators': 200}\n",
      "0.444048 (0.133452) with: {'max_depth': 80, 'max_features': 3, 'min_samples_leaf': 3, 'min_samples_split': 12, 'n_estimators': 300}\n",
      "0.459127 (0.155999) with: {'max_depth': 80, 'max_features': 3, 'min_samples_leaf': 3, 'min_samples_split': 12, 'n_estimators': 1000}\n",
      "0.448016 (0.145806) with: {'max_depth': 80, 'max_features': 3, 'min_samples_leaf': 4, 'min_samples_split': 8, 'n_estimators': 100}\n",
      "0.454762 (0.164911) with: {'max_depth': 80, 'max_features': 3, 'min_samples_leaf': 4, 'min_samples_split': 8, 'n_estimators': 200}\n",
      "0.464286 (0.167312) with: {'max_depth': 80, 'max_features': 3, 'min_samples_leaf': 4, 'min_samples_split': 8, 'n_estimators': 300}\n",
      "0.472222 (0.166091) with: {'max_depth': 80, 'max_features': 3, 'min_samples_leaf': 4, 'min_samples_split': 8, 'n_estimators': 1000}\n",
      "0.513492 (0.160972) with: {'max_depth': 80, 'max_features': 3, 'min_samples_leaf': 4, 'min_samples_split': 10, 'n_estimators': 100}\n",
      "0.497619 (0.148449) with: {'max_depth': 80, 'max_features': 3, 'min_samples_leaf': 4, 'min_samples_split': 10, 'n_estimators': 200}\n",
      "0.465476 (0.173264) with: {'max_depth': 80, 'max_features': 3, 'min_samples_leaf': 4, 'min_samples_split': 10, 'n_estimators': 300}\n",
      "0.467063 (0.153754) with: {'max_depth': 80, 'max_features': 3, 'min_samples_leaf': 4, 'min_samples_split': 10, 'n_estimators': 1000}\n",
      "0.456746 (0.166907) with: {'max_depth': 80, 'max_features': 3, 'min_samples_leaf': 4, 'min_samples_split': 12, 'n_estimators': 100}\n",
      "0.438889 (0.145158) with: {'max_depth': 80, 'max_features': 3, 'min_samples_leaf': 4, 'min_samples_split': 12, 'n_estimators': 200}\n",
      "0.483333 (0.165546) with: {'max_depth': 80, 'max_features': 3, 'min_samples_leaf': 4, 'min_samples_split': 12, 'n_estimators': 300}\n",
      "0.487302 (0.170543) with: {'max_depth': 80, 'max_features': 3, 'min_samples_leaf': 4, 'min_samples_split': 12, 'n_estimators': 1000}\n",
      "0.461905 (0.135742) with: {'max_depth': 80, 'max_features': 3, 'min_samples_leaf': 5, 'min_samples_split': 8, 'n_estimators': 100}\n",
      "0.491270 (0.156164) with: {'max_depth': 80, 'max_features': 3, 'min_samples_leaf': 5, 'min_samples_split': 8, 'n_estimators': 200}\n",
      "0.483730 (0.175128) with: {'max_depth': 80, 'max_features': 3, 'min_samples_leaf': 5, 'min_samples_split': 8, 'n_estimators': 300}\n",
      "0.482143 (0.156901) with: {'max_depth': 80, 'max_features': 3, 'min_samples_leaf': 5, 'min_samples_split': 8, 'n_estimators': 1000}\n",
      "0.469841 (0.127972) with: {'max_depth': 80, 'max_features': 3, 'min_samples_leaf': 5, 'min_samples_split': 10, 'n_estimators': 100}\n",
      "0.473810 (0.130193) with: {'max_depth': 80, 'max_features': 3, 'min_samples_leaf': 5, 'min_samples_split': 10, 'n_estimators': 200}\n",
      "0.497222 (0.164547) with: {'max_depth': 80, 'max_features': 3, 'min_samples_leaf': 5, 'min_samples_split': 10, 'n_estimators': 300}\n",
      "0.478571 (0.156154) with: {'max_depth': 80, 'max_features': 3, 'min_samples_leaf': 5, 'min_samples_split': 10, 'n_estimators': 1000}\n",
      "0.490873 (0.160459) with: {'max_depth': 80, 'max_features': 3, 'min_samples_leaf': 5, 'min_samples_split': 12, 'n_estimators': 100}\n",
      "0.478571 (0.156172) with: {'max_depth': 80, 'max_features': 3, 'min_samples_leaf': 5, 'min_samples_split': 12, 'n_estimators': 200}\n",
      "0.486111 (0.148706) with: {'max_depth': 80, 'max_features': 3, 'min_samples_leaf': 5, 'min_samples_split': 12, 'n_estimators': 300}\n",
      "0.467460 (0.152917) with: {'max_depth': 80, 'max_features': 3, 'min_samples_leaf': 5, 'min_samples_split': 12, 'n_estimators': 1000}\n",
      "0.464683 (0.142330) with: {'max_depth': 90, 'max_features': 2, 'min_samples_leaf': 3, 'min_samples_split': 8, 'n_estimators': 100}\n",
      "0.462698 (0.140904) with: {'max_depth': 90, 'max_features': 2, 'min_samples_leaf': 3, 'min_samples_split': 8, 'n_estimators': 200}\n",
      "0.440476 (0.156045) with: {'max_depth': 90, 'max_features': 2, 'min_samples_leaf': 3, 'min_samples_split': 8, 'n_estimators': 300}\n",
      "0.450000 (0.142566) with: {'max_depth': 90, 'max_features': 2, 'min_samples_leaf': 3, 'min_samples_split': 8, 'n_estimators': 1000}\n",
      "0.469048 (0.169873) with: {'max_depth': 90, 'max_features': 2, 'min_samples_leaf': 3, 'min_samples_split': 10, 'n_estimators': 100}\n",
      "0.470238 (0.139007) with: {'max_depth': 90, 'max_features': 2, 'min_samples_leaf': 3, 'min_samples_split': 10, 'n_estimators': 200}\n",
      "0.447222 (0.152891) with: {'max_depth': 90, 'max_features': 2, 'min_samples_leaf': 3, 'min_samples_split': 10, 'n_estimators': 300}\n",
      "0.450794 (0.131375) with: {'max_depth': 90, 'max_features': 2, 'min_samples_leaf': 3, 'min_samples_split': 10, 'n_estimators': 1000}\n",
      "0.445238 (0.095930) with: {'max_depth': 90, 'max_features': 2, 'min_samples_leaf': 3, 'min_samples_split': 12, 'n_estimators': 100}\n",
      "0.457540 (0.136044) with: {'max_depth': 90, 'max_features': 2, 'min_samples_leaf': 3, 'min_samples_split': 12, 'n_estimators': 200}\n",
      "0.459921 (0.130464) with: {'max_depth': 90, 'max_features': 2, 'min_samples_leaf': 3, 'min_samples_split': 12, 'n_estimators': 300}\n",
      "0.426587 (0.125706) with: {'max_depth': 90, 'max_features': 2, 'min_samples_leaf': 3, 'min_samples_split': 12, 'n_estimators': 1000}\n",
      "0.524603 (0.163147) with: {'max_depth': 90, 'max_features': 2, 'min_samples_leaf': 4, 'min_samples_split': 8, 'n_estimators': 100}\n",
      "0.467063 (0.166816) with: {'max_depth': 90, 'max_features': 2, 'min_samples_leaf': 4, 'min_samples_split': 8, 'n_estimators': 200}\n",
      "0.454762 (0.154328) with: {'max_depth': 90, 'max_features': 2, 'min_samples_leaf': 4, 'min_samples_split': 8, 'n_estimators': 300}\n",
      "0.452778 (0.146194) with: {'max_depth': 90, 'max_features': 2, 'min_samples_leaf': 4, 'min_samples_split': 8, 'n_estimators': 1000}\n",
      "0.475000 (0.139577) with: {'max_depth': 90, 'max_features': 2, 'min_samples_leaf': 4, 'min_samples_split': 10, 'n_estimators': 100}\n",
      "0.469841 (0.133755) with: {'max_depth': 90, 'max_features': 2, 'min_samples_leaf': 4, 'min_samples_split': 10, 'n_estimators': 200}\n",
      "0.459127 (0.158749) with: {'max_depth': 90, 'max_features': 2, 'min_samples_leaf': 4, 'min_samples_split': 10, 'n_estimators': 300}\n",
      "0.467857 (0.143245) with: {'max_depth': 90, 'max_features': 2, 'min_samples_leaf': 4, 'min_samples_split': 10, 'n_estimators': 1000}\n",
      "0.439286 (0.123448) with: {'max_depth': 90, 'max_features': 2, 'min_samples_leaf': 4, 'min_samples_split': 12, 'n_estimators': 100}\n",
      "0.464683 (0.111460) with: {'max_depth': 90, 'max_features': 2, 'min_samples_leaf': 4, 'min_samples_split': 12, 'n_estimators': 200}\n",
      "0.450794 (0.137421) with: {'max_depth': 90, 'max_features': 2, 'min_samples_leaf': 4, 'min_samples_split': 12, 'n_estimators': 300}\n",
      "0.448413 (0.161897) with: {'max_depth': 90, 'max_features': 2, 'min_samples_leaf': 4, 'min_samples_split': 12, 'n_estimators': 1000}\n",
      "0.494048 (0.130227) with: {'max_depth': 90, 'max_features': 2, 'min_samples_leaf': 5, 'min_samples_split': 8, 'n_estimators': 100}\n",
      "0.464683 (0.140728) with: {'max_depth': 90, 'max_features': 2, 'min_samples_leaf': 5, 'min_samples_split': 8, 'n_estimators': 200}\n",
      "0.488492 (0.149099) with: {'max_depth': 90, 'max_features': 2, 'min_samples_leaf': 5, 'min_samples_split': 8, 'n_estimators': 300}\n",
      "0.475794 (0.148706) with: {'max_depth': 90, 'max_features': 2, 'min_samples_leaf': 5, 'min_samples_split': 8, 'n_estimators': 1000}\n",
      "0.476984 (0.122031) with: {'max_depth': 90, 'max_features': 2, 'min_samples_leaf': 5, 'min_samples_split': 10, 'n_estimators': 100}\n",
      "0.482143 (0.145659) with: {'max_depth': 90, 'max_features': 2, 'min_samples_leaf': 5, 'min_samples_split': 10, 'n_estimators': 200}\n",
      "0.499603 (0.159615) with: {'max_depth': 90, 'max_features': 2, 'min_samples_leaf': 5, 'min_samples_split': 10, 'n_estimators': 300}\n",
      "0.462698 (0.144754) with: {'max_depth': 90, 'max_features': 2, 'min_samples_leaf': 5, 'min_samples_split': 10, 'n_estimators': 1000}\n",
      "0.473810 (0.129348) with: {'max_depth': 90, 'max_features': 2, 'min_samples_leaf': 5, 'min_samples_split': 12, 'n_estimators': 100}\n",
      "0.487302 (0.127714) with: {'max_depth': 90, 'max_features': 2, 'min_samples_leaf': 5, 'min_samples_split': 12, 'n_estimators': 200}\n",
      "0.474603 (0.145060) with: {'max_depth': 90, 'max_features': 2, 'min_samples_leaf': 5, 'min_samples_split': 12, 'n_estimators': 300}\n",
      "0.461905 (0.148659) with: {'max_depth': 90, 'max_features': 2, 'min_samples_leaf': 5, 'min_samples_split': 12, 'n_estimators': 1000}\n",
      "0.430556 (0.155914) with: {'max_depth': 90, 'max_features': 3, 'min_samples_leaf': 3, 'min_samples_split': 8, 'n_estimators': 100}\n",
      "0.459524 (0.142566) with: {'max_depth': 90, 'max_features': 3, 'min_samples_leaf': 3, 'min_samples_split': 8, 'n_estimators': 200}\n",
      "0.465476 (0.174226) with: {'max_depth': 90, 'max_features': 3, 'min_samples_leaf': 3, 'min_samples_split': 8, 'n_estimators': 300}\n",
      "0.439286 (0.140548) with: {'max_depth': 90, 'max_features': 3, 'min_samples_leaf': 3, 'min_samples_split': 8, 'n_estimators': 1000}\n",
      "0.453175 (0.145288) with: {'max_depth': 90, 'max_features': 3, 'min_samples_leaf': 3, 'min_samples_split': 10, 'n_estimators': 100}\n",
      "0.460714 (0.143818) with: {'max_depth': 90, 'max_features': 3, 'min_samples_leaf': 3, 'min_samples_split': 10, 'n_estimators': 200}\n",
      "0.473413 (0.154337) with: {'max_depth': 90, 'max_features': 3, 'min_samples_leaf': 3, 'min_samples_split': 10, 'n_estimators': 300}\n",
      "0.464683 (0.148693) with: {'max_depth': 90, 'max_features': 3, 'min_samples_leaf': 3, 'min_samples_split': 10, 'n_estimators': 1000}\n",
      "0.472222 (0.132342) with: {'max_depth': 90, 'max_features': 3, 'min_samples_leaf': 3, 'min_samples_split': 12, 'n_estimators': 100}\n",
      "0.429762 (0.158208) with: {'max_depth': 90, 'max_features': 3, 'min_samples_leaf': 3, 'min_samples_split': 12, 'n_estimators': 200}\n",
      "0.437302 (0.134481) with: {'max_depth': 90, 'max_features': 3, 'min_samples_leaf': 3, 'min_samples_split': 12, 'n_estimators': 300}\n",
      "0.447619 (0.145245) with: {'max_depth': 90, 'max_features': 3, 'min_samples_leaf': 3, 'min_samples_split': 12, 'n_estimators': 1000}\n",
      "0.469841 (0.128775) with: {'max_depth': 90, 'max_features': 3, 'min_samples_leaf': 4, 'min_samples_split': 8, 'n_estimators': 100}\n",
      "0.488889 (0.164783) with: {'max_depth': 90, 'max_features': 3, 'min_samples_leaf': 4, 'min_samples_split': 8, 'n_estimators': 200}\n",
      "0.467460 (0.152732) with: {'max_depth': 90, 'max_features': 3, 'min_samples_leaf': 4, 'min_samples_split': 8, 'n_estimators': 300}\n",
      "0.469048 (0.169120) with: {'max_depth': 90, 'max_features': 3, 'min_samples_leaf': 4, 'min_samples_split': 8, 'n_estimators': 1000}\n",
      "0.473413 (0.139406) with: {'max_depth': 90, 'max_features': 3, 'min_samples_leaf': 4, 'min_samples_split': 10, 'n_estimators': 100}\n",
      "0.469048 (0.148461) with: {'max_depth': 90, 'max_features': 3, 'min_samples_leaf': 4, 'min_samples_split': 10, 'n_estimators': 200}\n",
      "0.473810 (0.143300) with: {'max_depth': 90, 'max_features': 3, 'min_samples_leaf': 4, 'min_samples_split': 10, 'n_estimators': 300}\n",
      "0.495635 (0.152569) with: {'max_depth': 90, 'max_features': 3, 'min_samples_leaf': 4, 'min_samples_split': 10, 'n_estimators': 1000}\n",
      "0.473016 (0.112617) with: {'max_depth': 90, 'max_features': 3, 'min_samples_leaf': 4, 'min_samples_split': 12, 'n_estimators': 100}\n",
      "0.475000 (0.133940) with: {'max_depth': 90, 'max_features': 3, 'min_samples_leaf': 4, 'min_samples_split': 12, 'n_estimators': 200}\n",
      "0.488889 (0.134284) with: {'max_depth': 90, 'max_features': 3, 'min_samples_leaf': 4, 'min_samples_split': 12, 'n_estimators': 300}\n",
      "0.467857 (0.174789) with: {'max_depth': 90, 'max_features': 3, 'min_samples_leaf': 4, 'min_samples_split': 12, 'n_estimators': 1000}\n",
      "0.507143 (0.140443) with: {'max_depth': 90, 'max_features': 3, 'min_samples_leaf': 5, 'min_samples_split': 8, 'n_estimators': 100}\n",
      "0.483333 (0.155663) with: {'max_depth': 90, 'max_features': 3, 'min_samples_leaf': 5, 'min_samples_split': 8, 'n_estimators': 200}\n",
      "0.492460 (0.147160) with: {'max_depth': 90, 'max_features': 3, 'min_samples_leaf': 5, 'min_samples_split': 8, 'n_estimators': 300}\n",
      "0.463889 (0.151476) with: {'max_depth': 90, 'max_features': 3, 'min_samples_leaf': 5, 'min_samples_split': 8, 'n_estimators': 1000}\n",
      "0.481349 (0.149017) with: {'max_depth': 90, 'max_features': 3, 'min_samples_leaf': 5, 'min_samples_split': 10, 'n_estimators': 100}\n",
      "0.480556 (0.131868) with: {'max_depth': 90, 'max_features': 3, 'min_samples_leaf': 5, 'min_samples_split': 10, 'n_estimators': 200}\n",
      "0.477778 (0.159800) with: {'max_depth': 90, 'max_features': 3, 'min_samples_leaf': 5, 'min_samples_split': 10, 'n_estimators': 300}\n",
      "0.468651 (0.147134) with: {'max_depth': 90, 'max_features': 3, 'min_samples_leaf': 5, 'min_samples_split': 10, 'n_estimators': 1000}\n",
      "0.450000 (0.150233) with: {'max_depth': 90, 'max_features': 3, 'min_samples_leaf': 5, 'min_samples_split': 12, 'n_estimators': 100}\n",
      "0.493254 (0.148018) with: {'max_depth': 90, 'max_features': 3, 'min_samples_leaf': 5, 'min_samples_split': 12, 'n_estimators': 200}\n",
      "0.461111 (0.154528) with: {'max_depth': 90, 'max_features': 3, 'min_samples_leaf': 5, 'min_samples_split': 12, 'n_estimators': 300}\n",
      "0.479762 (0.172181) with: {'max_depth': 90, 'max_features': 3, 'min_samples_leaf': 5, 'min_samples_split': 12, 'n_estimators': 1000}\n",
      "0.467063 (0.152446) with: {'max_depth': 100, 'max_features': 2, 'min_samples_leaf': 3, 'min_samples_split': 8, 'n_estimators': 100}\n",
      "0.471032 (0.158927) with: {'max_depth': 100, 'max_features': 2, 'min_samples_leaf': 3, 'min_samples_split': 8, 'n_estimators': 200}\n",
      "0.433333 (0.148563) with: {'max_depth': 100, 'max_features': 2, 'min_samples_leaf': 3, 'min_samples_split': 8, 'n_estimators': 300}\n",
      "0.435714 (0.139687) with: {'max_depth': 100, 'max_features': 2, 'min_samples_leaf': 3, 'min_samples_split': 8, 'n_estimators': 1000}\n",
      "0.473016 (0.122410) with: {'max_depth': 100, 'max_features': 2, 'min_samples_leaf': 3, 'min_samples_split': 10, 'n_estimators': 100}\n",
      "0.440873 (0.155981) with: {'max_depth': 100, 'max_features': 2, 'min_samples_leaf': 3, 'min_samples_split': 10, 'n_estimators': 200}\n",
      "0.422222 (0.153281) with: {'max_depth': 100, 'max_features': 2, 'min_samples_leaf': 3, 'min_samples_split': 10, 'n_estimators': 300}\n",
      "0.450397 (0.142522) with: {'max_depth': 100, 'max_features': 2, 'min_samples_leaf': 3, 'min_samples_split': 10, 'n_estimators': 1000}\n",
      "0.474603 (0.135935) with: {'max_depth': 100, 'max_features': 2, 'min_samples_leaf': 3, 'min_samples_split': 12, 'n_estimators': 100}\n",
      "0.473413 (0.152446) with: {'max_depth': 100, 'max_features': 2, 'min_samples_leaf': 3, 'min_samples_split': 12, 'n_estimators': 200}\n",
      "0.428968 (0.139385) with: {'max_depth': 100, 'max_features': 2, 'min_samples_leaf': 3, 'min_samples_split': 12, 'n_estimators': 300}\n",
      "0.457143 (0.145537) with: {'max_depth': 100, 'max_features': 2, 'min_samples_leaf': 3, 'min_samples_split': 12, 'n_estimators': 1000}\n",
      "0.482143 (0.110620) with: {'max_depth': 100, 'max_features': 2, 'min_samples_leaf': 4, 'min_samples_split': 8, 'n_estimators': 100}\n",
      "0.446032 (0.147815) with: {'max_depth': 100, 'max_features': 2, 'min_samples_leaf': 4, 'min_samples_split': 8, 'n_estimators': 200}\n",
      "0.450397 (0.147481) with: {'max_depth': 100, 'max_features': 2, 'min_samples_leaf': 4, 'min_samples_split': 8, 'n_estimators': 300}\n",
      "0.450000 (0.162313) with: {'max_depth': 100, 'max_features': 2, 'min_samples_leaf': 4, 'min_samples_split': 8, 'n_estimators': 1000}\n",
      "0.446032 (0.172547) with: {'max_depth': 100, 'max_features': 2, 'min_samples_leaf': 4, 'min_samples_split': 10, 'n_estimators': 100}\n",
      "0.467063 (0.120220) with: {'max_depth': 100, 'max_features': 2, 'min_samples_leaf': 4, 'min_samples_split': 10, 'n_estimators': 200}\n",
      "0.451587 (0.111420) with: {'max_depth': 100, 'max_features': 2, 'min_samples_leaf': 4, 'min_samples_split': 10, 'n_estimators': 300}\n",
      "0.451587 (0.143370) with: {'max_depth': 100, 'max_features': 2, 'min_samples_leaf': 4, 'min_samples_split': 10, 'n_estimators': 1000}\n",
      "0.470635 (0.151277) with: {'max_depth': 100, 'max_features': 2, 'min_samples_leaf': 4, 'min_samples_split': 12, 'n_estimators': 100}\n",
      "0.438095 (0.136533) with: {'max_depth': 100, 'max_features': 2, 'min_samples_leaf': 4, 'min_samples_split': 12, 'n_estimators': 200}\n",
      "0.470238 (0.155266) with: {'max_depth': 100, 'max_features': 2, 'min_samples_leaf': 4, 'min_samples_split': 12, 'n_estimators': 300}\n",
      "0.466270 (0.132269) with: {'max_depth': 100, 'max_features': 2, 'min_samples_leaf': 4, 'min_samples_split': 12, 'n_estimators': 1000}\n",
      "0.457937 (0.163540) with: {'max_depth': 100, 'max_features': 2, 'min_samples_leaf': 5, 'min_samples_split': 8, 'n_estimators': 100}\n",
      "0.465476 (0.139021) with: {'max_depth': 100, 'max_features': 2, 'min_samples_leaf': 5, 'min_samples_split': 8, 'n_estimators': 200}\n",
      "0.465873 (0.129776) with: {'max_depth': 100, 'max_features': 2, 'min_samples_leaf': 5, 'min_samples_split': 8, 'n_estimators': 300}\n",
      "0.462698 (0.143264) with: {'max_depth': 100, 'max_features': 2, 'min_samples_leaf': 5, 'min_samples_split': 8, 'n_estimators': 1000}\n",
      "0.503175 (0.117044) with: {'max_depth': 100, 'max_features': 2, 'min_samples_leaf': 5, 'min_samples_split': 10, 'n_estimators': 100}\n",
      "0.475794 (0.120675) with: {'max_depth': 100, 'max_features': 2, 'min_samples_leaf': 5, 'min_samples_split': 10, 'n_estimators': 200}\n",
      "0.471429 (0.138307) with: {'max_depth': 100, 'max_features': 2, 'min_samples_leaf': 5, 'min_samples_split': 10, 'n_estimators': 300}\n",
      "0.467857 (0.143318) with: {'max_depth': 100, 'max_features': 2, 'min_samples_leaf': 5, 'min_samples_split': 10, 'n_estimators': 1000}\n",
      "0.461508 (0.172918) with: {'max_depth': 100, 'max_features': 2, 'min_samples_leaf': 5, 'min_samples_split': 12, 'n_estimators': 100}\n",
      "0.481746 (0.161172) with: {'max_depth': 100, 'max_features': 2, 'min_samples_leaf': 5, 'min_samples_split': 12, 'n_estimators': 200}\n",
      "0.482540 (0.141886) with: {'max_depth': 100, 'max_features': 2, 'min_samples_leaf': 5, 'min_samples_split': 12, 'n_estimators': 300}\n",
      "0.464286 (0.158317) with: {'max_depth': 100, 'max_features': 2, 'min_samples_leaf': 5, 'min_samples_split': 12, 'n_estimators': 1000}\n",
      "0.477778 (0.144159) with: {'max_depth': 100, 'max_features': 3, 'min_samples_leaf': 3, 'min_samples_split': 8, 'n_estimators': 100}\n",
      "0.456746 (0.160448) with: {'max_depth': 100, 'max_features': 3, 'min_samples_leaf': 3, 'min_samples_split': 8, 'n_estimators': 200}\n",
      "0.459127 (0.146955) with: {'max_depth': 100, 'max_features': 3, 'min_samples_leaf': 3, 'min_samples_split': 8, 'n_estimators': 300}\n",
      "0.443651 (0.154332) with: {'max_depth': 100, 'max_features': 3, 'min_samples_leaf': 3, 'min_samples_split': 8, 'n_estimators': 1000}\n",
      "0.480952 (0.169148) with: {'max_depth': 100, 'max_features': 3, 'min_samples_leaf': 3, 'min_samples_split': 10, 'n_estimators': 100}\n",
      "0.432143 (0.153504) with: {'max_depth': 100, 'max_features': 3, 'min_samples_leaf': 3, 'min_samples_split': 10, 'n_estimators': 200}\n",
      "0.453175 (0.138735) with: {'max_depth': 100, 'max_features': 3, 'min_samples_leaf': 3, 'min_samples_split': 10, 'n_estimators': 300}\n",
      "0.461508 (0.149321) with: {'max_depth': 100, 'max_features': 3, 'min_samples_leaf': 3, 'min_samples_split': 10, 'n_estimators': 1000}\n",
      "0.451984 (0.159248) with: {'max_depth': 100, 'max_features': 3, 'min_samples_leaf': 3, 'min_samples_split': 12, 'n_estimators': 100}\n",
      "0.446429 (0.158590) with: {'max_depth': 100, 'max_features': 3, 'min_samples_leaf': 3, 'min_samples_split': 12, 'n_estimators': 200}\n",
      "0.464286 (0.151579) with: {'max_depth': 100, 'max_features': 3, 'min_samples_leaf': 3, 'min_samples_split': 12, 'n_estimators': 300}\n",
      "0.453571 (0.159208) with: {'max_depth': 100, 'max_features': 3, 'min_samples_leaf': 3, 'min_samples_split': 12, 'n_estimators': 1000}\n",
      "0.450000 (0.173695) with: {'max_depth': 100, 'max_features': 3, 'min_samples_leaf': 4, 'min_samples_split': 8, 'n_estimators': 100}\n",
      "0.471429 (0.133652) with: {'max_depth': 100, 'max_features': 3, 'min_samples_leaf': 4, 'min_samples_split': 8, 'n_estimators': 200}\n",
      "0.463889 (0.164127) with: {'max_depth': 100, 'max_features': 3, 'min_samples_leaf': 4, 'min_samples_split': 8, 'n_estimators': 300}\n",
      "0.470238 (0.133509) with: {'max_depth': 100, 'max_features': 3, 'min_samples_leaf': 4, 'min_samples_split': 8, 'n_estimators': 1000}\n",
      "0.470238 (0.149082) with: {'max_depth': 100, 'max_features': 3, 'min_samples_leaf': 4, 'min_samples_split': 10, 'n_estimators': 100}\n",
      "0.455556 (0.133154) with: {'max_depth': 100, 'max_features': 3, 'min_samples_leaf': 4, 'min_samples_split': 10, 'n_estimators': 200}\n",
      "0.469048 (0.136194) with: {'max_depth': 100, 'max_features': 3, 'min_samples_leaf': 4, 'min_samples_split': 10, 'n_estimators': 300}\n",
      "0.460714 (0.162055) with: {'max_depth': 100, 'max_features': 3, 'min_samples_leaf': 4, 'min_samples_split': 10, 'n_estimators': 1000}\n",
      "0.511508 (0.172513) with: {'max_depth': 100, 'max_features': 3, 'min_samples_leaf': 4, 'min_samples_split': 12, 'n_estimators': 100}\n",
      "0.435714 (0.152480) with: {'max_depth': 100, 'max_features': 3, 'min_samples_leaf': 4, 'min_samples_split': 12, 'n_estimators': 200}\n",
      "0.461905 (0.162627) with: {'max_depth': 100, 'max_features': 3, 'min_samples_leaf': 4, 'min_samples_split': 12, 'n_estimators': 300}\n",
      "0.457540 (0.169831) with: {'max_depth': 100, 'max_features': 3, 'min_samples_leaf': 4, 'min_samples_split': 12, 'n_estimators': 1000}\n",
      "0.480952 (0.150132) with: {'max_depth': 100, 'max_features': 3, 'min_samples_leaf': 5, 'min_samples_split': 8, 'n_estimators': 100}\n",
      "0.469444 (0.137075) with: {'max_depth': 100, 'max_features': 3, 'min_samples_leaf': 5, 'min_samples_split': 8, 'n_estimators': 200}\n",
      "0.482540 (0.136129) with: {'max_depth': 100, 'max_features': 3, 'min_samples_leaf': 5, 'min_samples_split': 8, 'n_estimators': 300}\n",
      "0.484921 (0.154680) with: {'max_depth': 100, 'max_features': 3, 'min_samples_leaf': 5, 'min_samples_split': 8, 'n_estimators': 1000}\n",
      "0.440873 (0.130536) with: {'max_depth': 100, 'max_features': 3, 'min_samples_leaf': 5, 'min_samples_split': 10, 'n_estimators': 100}\n",
      "0.453968 (0.139590) with: {'max_depth': 100, 'max_features': 3, 'min_samples_leaf': 5, 'min_samples_split': 10, 'n_estimators': 200}\n",
      "0.487302 (0.145008) with: {'max_depth': 100, 'max_features': 3, 'min_samples_leaf': 5, 'min_samples_split': 10, 'n_estimators': 300}\n",
      "0.483333 (0.166411) with: {'max_depth': 100, 'max_features': 3, 'min_samples_leaf': 5, 'min_samples_split': 10, 'n_estimators': 1000}\n",
      "0.505159 (0.125601) with: {'max_depth': 100, 'max_features': 3, 'min_samples_leaf': 5, 'min_samples_split': 12, 'n_estimators': 100}\n",
      "0.494841 (0.180526) with: {'max_depth': 100, 'max_features': 3, 'min_samples_leaf': 5, 'min_samples_split': 12, 'n_estimators': 200}\n",
      "0.480952 (0.166070) with: {'max_depth': 100, 'max_features': 3, 'min_samples_leaf': 5, 'min_samples_split': 12, 'n_estimators': 300}\n",
      "0.473016 (0.157968) with: {'max_depth': 100, 'max_features': 3, 'min_samples_leaf': 5, 'min_samples_split': 12, 'n_estimators': 1000}\n",
      "0.441270 (0.153454) with: {'max_depth': 110, 'max_features': 2, 'min_samples_leaf': 3, 'min_samples_split': 8, 'n_estimators': 100}\n",
      "0.456349 (0.114002) with: {'max_depth': 110, 'max_features': 2, 'min_samples_leaf': 3, 'min_samples_split': 8, 'n_estimators': 200}\n",
      "0.455952 (0.130285) with: {'max_depth': 110, 'max_features': 2, 'min_samples_leaf': 3, 'min_samples_split': 8, 'n_estimators': 300}\n",
      "0.444444 (0.156212) with: {'max_depth': 110, 'max_features': 2, 'min_samples_leaf': 3, 'min_samples_split': 8, 'n_estimators': 1000}\n",
      "0.457540 (0.146961) with: {'max_depth': 110, 'max_features': 2, 'min_samples_leaf': 3, 'min_samples_split': 10, 'n_estimators': 100}\n",
      "0.455556 (0.155387) with: {'max_depth': 110, 'max_features': 2, 'min_samples_leaf': 3, 'min_samples_split': 10, 'n_estimators': 200}\n",
      "0.438095 (0.125567) with: {'max_depth': 110, 'max_features': 2, 'min_samples_leaf': 3, 'min_samples_split': 10, 'n_estimators': 300}\n",
      "0.447222 (0.138658) with: {'max_depth': 110, 'max_features': 2, 'min_samples_leaf': 3, 'min_samples_split': 10, 'n_estimators': 1000}\n",
      "0.428571 (0.196516) with: {'max_depth': 110, 'max_features': 2, 'min_samples_leaf': 3, 'min_samples_split': 12, 'n_estimators': 100}\n",
      "0.412698 (0.170498) with: {'max_depth': 110, 'max_features': 2, 'min_samples_leaf': 3, 'min_samples_split': 12, 'n_estimators': 200}\n",
      "0.451190 (0.162265) with: {'max_depth': 110, 'max_features': 2, 'min_samples_leaf': 3, 'min_samples_split': 12, 'n_estimators': 300}\n",
      "0.436508 (0.134622) with: {'max_depth': 110, 'max_features': 2, 'min_samples_leaf': 3, 'min_samples_split': 12, 'n_estimators': 1000}\n",
      "0.465079 (0.125836) with: {'max_depth': 110, 'max_features': 2, 'min_samples_leaf': 4, 'min_samples_split': 8, 'n_estimators': 100}\n",
      "0.469048 (0.130113) with: {'max_depth': 110, 'max_features': 2, 'min_samples_leaf': 4, 'min_samples_split': 8, 'n_estimators': 200}\n",
      "0.472222 (0.167507) with: {'max_depth': 110, 'max_features': 2, 'min_samples_leaf': 4, 'min_samples_split': 8, 'n_estimators': 300}\n",
      "0.473810 (0.144305) with: {'max_depth': 110, 'max_features': 2, 'min_samples_leaf': 4, 'min_samples_split': 8, 'n_estimators': 1000}\n",
      "0.459921 (0.140929) with: {'max_depth': 110, 'max_features': 2, 'min_samples_leaf': 4, 'min_samples_split': 10, 'n_estimators': 100}\n",
      "0.463889 (0.128956) with: {'max_depth': 110, 'max_features': 2, 'min_samples_leaf': 4, 'min_samples_split': 10, 'n_estimators': 200}\n",
      "0.425000 (0.152912) with: {'max_depth': 110, 'max_features': 2, 'min_samples_leaf': 4, 'min_samples_split': 10, 'n_estimators': 300}\n",
      "0.460317 (0.149316) with: {'max_depth': 110, 'max_features': 2, 'min_samples_leaf': 4, 'min_samples_split': 10, 'n_estimators': 1000}\n",
      "0.432937 (0.175257) with: {'max_depth': 110, 'max_features': 2, 'min_samples_leaf': 4, 'min_samples_split': 12, 'n_estimators': 100}\n",
      "0.461905 (0.162156) with: {'max_depth': 110, 'max_features': 2, 'min_samples_leaf': 4, 'min_samples_split': 12, 'n_estimators': 200}\n",
      "0.455159 (0.160994) with: {'max_depth': 110, 'max_features': 2, 'min_samples_leaf': 4, 'min_samples_split': 12, 'n_estimators': 300}\n",
      "0.467063 (0.164018) with: {'max_depth': 110, 'max_features': 2, 'min_samples_leaf': 4, 'min_samples_split': 12, 'n_estimators': 1000}\n",
      "0.439286 (0.127388) with: {'max_depth': 110, 'max_features': 2, 'min_samples_leaf': 5, 'min_samples_split': 8, 'n_estimators': 100}\n",
      "0.478175 (0.139771) with: {'max_depth': 110, 'max_features': 2, 'min_samples_leaf': 5, 'min_samples_split': 8, 'n_estimators': 200}\n",
      "0.458333 (0.139679) with: {'max_depth': 110, 'max_features': 2, 'min_samples_leaf': 5, 'min_samples_split': 8, 'n_estimators': 300}\n",
      "0.481349 (0.151088) with: {'max_depth': 110, 'max_features': 2, 'min_samples_leaf': 5, 'min_samples_split': 8, 'n_estimators': 1000}\n",
      "0.414683 (0.128022) with: {'max_depth': 110, 'max_features': 2, 'min_samples_leaf': 5, 'min_samples_split': 10, 'n_estimators': 100}\n",
      "0.432143 (0.142591) with: {'max_depth': 110, 'max_features': 2, 'min_samples_leaf': 5, 'min_samples_split': 10, 'n_estimators': 200}\n",
      "0.485714 (0.138280) with: {'max_depth': 110, 'max_features': 2, 'min_samples_leaf': 5, 'min_samples_split': 10, 'n_estimators': 300}\n",
      "0.459524 (0.150929) with: {'max_depth': 110, 'max_features': 2, 'min_samples_leaf': 5, 'min_samples_split': 10, 'n_estimators': 1000}\n",
      "0.514286 (0.059205) with: {'max_depth': 110, 'max_features': 2, 'min_samples_leaf': 5, 'min_samples_split': 12, 'n_estimators': 100}\n",
      "0.486508 (0.129528) with: {'max_depth': 110, 'max_features': 2, 'min_samples_leaf': 5, 'min_samples_split': 12, 'n_estimators': 200}\n",
      "0.491667 (0.123471) with: {'max_depth': 110, 'max_features': 2, 'min_samples_leaf': 5, 'min_samples_split': 12, 'n_estimators': 300}\n",
      "0.459921 (0.149270) with: {'max_depth': 110, 'max_features': 2, 'min_samples_leaf': 5, 'min_samples_split': 12, 'n_estimators': 1000}\n",
      "0.471429 (0.163305) with: {'max_depth': 110, 'max_features': 3, 'min_samples_leaf': 3, 'min_samples_split': 8, 'n_estimators': 100}\n",
      "0.451984 (0.166964) with: {'max_depth': 110, 'max_features': 3, 'min_samples_leaf': 3, 'min_samples_split': 8, 'n_estimators': 200}\n",
      "0.446825 (0.142152) with: {'max_depth': 110, 'max_features': 3, 'min_samples_leaf': 3, 'min_samples_split': 8, 'n_estimators': 300}\n",
      "0.433730 (0.154905) with: {'max_depth': 110, 'max_features': 3, 'min_samples_leaf': 3, 'min_samples_split': 8, 'n_estimators': 1000}\n",
      "0.421825 (0.145987) with: {'max_depth': 110, 'max_features': 3, 'min_samples_leaf': 3, 'min_samples_split': 10, 'n_estimators': 100}\n",
      "0.468651 (0.144438) with: {'max_depth': 110, 'max_features': 3, 'min_samples_leaf': 3, 'min_samples_split': 10, 'n_estimators': 200}\n",
      "0.460317 (0.131698) with: {'max_depth': 110, 'max_features': 3, 'min_samples_leaf': 3, 'min_samples_split': 10, 'n_estimators': 300}\n",
      "0.466270 (0.153926) with: {'max_depth': 110, 'max_features': 3, 'min_samples_leaf': 3, 'min_samples_split': 10, 'n_estimators': 1000}\n",
      "0.466270 (0.143612) with: {'max_depth': 110, 'max_features': 3, 'min_samples_leaf': 3, 'min_samples_split': 12, 'n_estimators': 100}\n",
      "0.460714 (0.165356) with: {'max_depth': 110, 'max_features': 3, 'min_samples_leaf': 3, 'min_samples_split': 12, 'n_estimators': 200}\n",
      "0.472619 (0.154436) with: {'max_depth': 110, 'max_features': 3, 'min_samples_leaf': 3, 'min_samples_split': 12, 'n_estimators': 300}\n",
      "0.448810 (0.144917) with: {'max_depth': 110, 'max_features': 3, 'min_samples_leaf': 3, 'min_samples_split': 12, 'n_estimators': 1000}\n",
      "0.474603 (0.143304) with: {'max_depth': 110, 'max_features': 3, 'min_samples_leaf': 4, 'min_samples_split': 8, 'n_estimators': 100}\n",
      "0.452778 (0.159852) with: {'max_depth': 110, 'max_features': 3, 'min_samples_leaf': 4, 'min_samples_split': 8, 'n_estimators': 200}\n",
      "0.475397 (0.133876) with: {'max_depth': 110, 'max_features': 3, 'min_samples_leaf': 4, 'min_samples_split': 8, 'n_estimators': 300}\n",
      "0.472222 (0.157339) with: {'max_depth': 110, 'max_features': 3, 'min_samples_leaf': 4, 'min_samples_split': 8, 'n_estimators': 1000}\n",
      "0.464683 (0.132112) with: {'max_depth': 110, 'max_features': 3, 'min_samples_leaf': 4, 'min_samples_split': 10, 'n_estimators': 100}\n",
      "0.493254 (0.168417) with: {'max_depth': 110, 'max_features': 3, 'min_samples_leaf': 4, 'min_samples_split': 10, 'n_estimators': 200}\n",
      "0.499603 (0.140055) with: {'max_depth': 110, 'max_features': 3, 'min_samples_leaf': 4, 'min_samples_split': 10, 'n_estimators': 300}\n",
      "0.464683 (0.154159) with: {'max_depth': 110, 'max_features': 3, 'min_samples_leaf': 4, 'min_samples_split': 10, 'n_estimators': 1000}\n",
      "0.472619 (0.158798) with: {'max_depth': 110, 'max_features': 3, 'min_samples_leaf': 4, 'min_samples_split': 12, 'n_estimators': 100}\n",
      "0.468254 (0.150275) with: {'max_depth': 110, 'max_features': 3, 'min_samples_leaf': 4, 'min_samples_split': 12, 'n_estimators': 200}\n",
      "0.475397 (0.180412) with: {'max_depth': 110, 'max_features': 3, 'min_samples_leaf': 4, 'min_samples_split': 12, 'n_estimators': 300}\n",
      "0.457143 (0.161770) with: {'max_depth': 110, 'max_features': 3, 'min_samples_leaf': 4, 'min_samples_split': 12, 'n_estimators': 1000}\n",
      "0.433333 (0.155420) with: {'max_depth': 110, 'max_features': 3, 'min_samples_leaf': 5, 'min_samples_split': 8, 'n_estimators': 100}\n",
      "0.501984 (0.138590) with: {'max_depth': 110, 'max_features': 3, 'min_samples_leaf': 5, 'min_samples_split': 8, 'n_estimators': 200}\n",
      "0.467460 (0.165076) with: {'max_depth': 110, 'max_features': 3, 'min_samples_leaf': 5, 'min_samples_split': 8, 'n_estimators': 300}\n",
      "0.474206 (0.159580) with: {'max_depth': 110, 'max_features': 3, 'min_samples_leaf': 5, 'min_samples_split': 8, 'n_estimators': 1000}\n",
      "0.492063 (0.149031) with: {'max_depth': 110, 'max_features': 3, 'min_samples_leaf': 5, 'min_samples_split': 10, 'n_estimators': 100}\n",
      "0.482540 (0.170121) with: {'max_depth': 110, 'max_features': 3, 'min_samples_leaf': 5, 'min_samples_split': 10, 'n_estimators': 200}\n",
      "0.500000 (0.147587) with: {'max_depth': 110, 'max_features': 3, 'min_samples_leaf': 5, 'min_samples_split': 10, 'n_estimators': 300}\n",
      "0.469841 (0.150971) with: {'max_depth': 110, 'max_features': 3, 'min_samples_leaf': 5, 'min_samples_split': 10, 'n_estimators': 1000}\n",
      "0.502381 (0.135470) with: {'max_depth': 110, 'max_features': 3, 'min_samples_leaf': 5, 'min_samples_split': 12, 'n_estimators': 100}\n",
      "0.486111 (0.123415) with: {'max_depth': 110, 'max_features': 3, 'min_samples_leaf': 5, 'min_samples_split': 12, 'n_estimators': 200}\n",
      "0.444048 (0.153387) with: {'max_depth': 110, 'max_features': 3, 'min_samples_leaf': 5, 'min_samples_split': 12, 'n_estimators': 300}\n",
      "0.469444 (0.156724) with: {'max_depth': 110, 'max_features': 3, 'min_samples_leaf': 5, 'min_samples_split': 12, 'n_estimators': 1000}\n"
     ]
    }
   ],
   "source": [
    "model = RandomForestClassifier()\n",
    "\n",
    "max_depth= [80, 90, 100, 110]\n",
    "max_features = [2, 3]\n",
    "min_samples_leaf = [3, 4, 5]\n",
    "min_samples_split = [8, 10, 12]\n",
    "n_estimators = [100, 200, 300, 1000]\n",
    "# define grid search\n",
    "grid = dict(max_depth=max_depth, max_features=max_features, min_samples_leaf=min_samples_leaf,\n",
    "           min_samples_split=min_samples_split, n_estimators=n_estimators)\n",
    "cv = RepeatedStratifiedKFold(n_splits=n_splits, n_repeats=3, random_state=1)\n",
    "grid_search = GridSearchCV(estimator=model, param_grid=grid, n_jobs=-1, cv=cv, scoring=criterion,error_score=0)\n",
    "grid_result = grid_search.fit(X_train, y_train)\n",
    "# summarize results\n",
    "print(\"Best: %f using %s\" % (grid_result.best_score_, grid_result.best_params_))\n",
    "means = grid_result.cv_results_['mean_test_score']\n",
    "stds = grid_result.cv_results_['std_test_score']\n",
    "params = grid_result.cv_results_['params']\n",
    "for mean, stdev, param in zip(means, stds, params):\n",
    "    print(\"%f (%f) with: %r\" % (mean, stdev, param))"
   ]
  },
  {
   "cell_type": "code",
   "execution_count": 37,
   "id": "2da231be-0e58-42a6-9552-ae0c21c3036a",
   "metadata": {},
   "outputs": [],
   "source": [
    "params = grid_search.best_params_\n"
   ]
  },
  {
   "cell_type": "code",
   "execution_count": 56,
   "id": "2e631d61-4852-45b5-9ca0-da3cd8aafb06",
   "metadata": {},
   "outputs": [
    {
     "ename": "KeyError",
     "evalue": "'max_features'",
     "output_type": "error",
     "traceback": [
      "\u001b[0;31m---------------------------------------------------------------------------\u001b[0m",
      "\u001b[0;31mKeyError\u001b[0m                                  Traceback (most recent call last)",
      "\u001b[0;32m<ipython-input-56-608d466172fa>\u001b[0m in \u001b[0;36m<module>\u001b[0;34m\u001b[0m\n\u001b[1;32m      1\u001b[0m \u001b[0;31m# instantiate the model (using tuned params)\u001b[0m\u001b[0;34m\u001b[0m\u001b[0;34m\u001b[0m\u001b[0;34m\u001b[0m\u001b[0m\n\u001b[0;32m----> 2\u001b[0;31m ranForest_tuned = RandomForestClassifier(max_features=params['max_features'],\n\u001b[0m\u001b[1;32m      3\u001b[0m                                          \u001b[0mmin_samples_leaf\u001b[0m\u001b[0;34m=\u001b[0m\u001b[0mparams\u001b[0m\u001b[0;34m[\u001b[0m\u001b[0;34m'min_samples_leaf'\u001b[0m\u001b[0;34m]\u001b[0m\u001b[0;34m,\u001b[0m\u001b[0;34m\u001b[0m\u001b[0;34m\u001b[0m\u001b[0m\n\u001b[1;32m      4\u001b[0m                                          \u001b[0mmin_samples_split\u001b[0m\u001b[0;34m=\u001b[0m\u001b[0mparams\u001b[0m\u001b[0;34m[\u001b[0m\u001b[0;34m'min_samples_split'\u001b[0m\u001b[0;34m]\u001b[0m\u001b[0;34m,\u001b[0m\u001b[0;34m\u001b[0m\u001b[0;34m\u001b[0m\u001b[0m\n\u001b[1;32m      5\u001b[0m                                      max_depth=params['max_depth'], n_estimators=params['n_estimators'])\n",
      "\u001b[0;31mKeyError\u001b[0m: 'max_features'"
     ]
    }
   ],
   "source": [
    "# instantiate the model (using tuned params)\n",
    "ranForest_tuned = RandomForestClassifier(max_features=params['max_features'],\n",
    "                                         min_samples_leaf=params['min_samples_leaf'], \n",
    "                                         min_samples_split=params['min_samples_split'],\n",
    "                                     max_depth=params['max_depth'], n_estimators=params['n_estimators'])\n",
    "\n",
    "# fit the model with data\n",
    "ranForest_tuned.fit(X_train, y_train)\n",
    "\n",
    "y_pred = ranForest_tuned.predict(X_test)\n",
    "cnf_matrix = metrics.confusion_matrix(y_test, y_pred)\n",
    "print(f'Random Forest Acccuracy (Tuned Using Optimal Params): {np.trace(cnf_matrix)/np.sum(cnf_matrix)}')"
   ]
  },
  {
   "cell_type": "code",
   "execution_count": 41,
   "id": "a4f37041-7997-4012-a216-62bdda14e060",
   "metadata": {},
   "outputs": [
    {
     "data": {
      "text/plain": [
       "Text(0.5, 257.44, 'Predicted label')"
      ]
     },
     "execution_count": 41,
     "metadata": {},
     "output_type": "execute_result"
    },
    {
     "data": {
      "image/png": "[encoded data removed]",
      "text/plain": [
       "<Figure size 432x288 with 2 Axes>"
      ]
     },
     "metadata": {
      "needs_background": "light"
     },
     "output_type": "display_data"
    }
   ],
   "source": [
    "\n",
    "class_names=[0,1] # name  of classes\n",
    "fig, ax = plt.subplots()\n",
    "tick_marks = np.arange(len(class_names))\n",
    "plt.xticks(tick_marks, class_names)\n",
    "plt.yticks(tick_marks, class_names)\n",
    "# create heatmap\n",
    "sns.heatmap(pd.DataFrame(cnf_matrix), annot=True, cmap=\"YlGnBu\" ,fmt='g')\n",
    "ax.xaxis.set_label_position(\"top\")\n",
    "plt.tight_layout()\n",
    "plt.title('Confusion matrix', y=1.1)\n",
    "plt.ylabel('Actual label')\n",
    "plt.xlabel('Predicted label')\n",
    "\n"
   ]
  },
  {
   "cell_type": "code",
   "execution_count": 42,
   "id": "51b3e8c1-135e-4776-92eb-a12c757b9505",
   "metadata": {},
   "outputs": [
    {
     "data": {
      "text/plain": [
       "<sklearn.metrics._plot.roc_curve.RocCurveDisplay at 0x7fc540662eb0>"
      ]
     },
     "execution_count": 42,
     "metadata": {},
     "output_type": "execute_result"
    },
    {
     "data": {
      "image/png": "[encoded data removed]",
      "text/plain": [
       "<Figure size 432x288 with 1 Axes>"
      ]
     },
     "metadata": {
      "needs_background": "light"
     },
     "output_type": "display_data"
    }
   ],
   "source": [
    "from sklearn.metrics import plot_roc_curve\n",
    "\n",
    "\n",
    "plot_roc_curve(ranForest_tuned,X_test,y_test)"
   ]
  },
  {
   "cell_type": "markdown",
   "id": "fee85f00-3b73-4db5-a414-6b7741cd77af",
   "metadata": {
    "tags": []
   },
   "source": [
    "## Naive Bayes"
   ]
  },
  {
   "cell_type": "code",
   "execution_count": 43,
   "id": "70da8ae3-995b-4f53-8fbd-7df8b01f9344",
   "metadata": {
    "tags": []
   },
   "outputs": [
    {
     "name": "stdout",
     "output_type": "stream",
     "text": [
      "Best: 0.669841 using {'var_smoothing': 0.012328467394420659}\n",
      "0.537302 (0.120473) with: {'var_smoothing': 1.0}\n",
      "0.553968 (0.107922) with: {'var_smoothing': 0.8111308307896871}\n",
      "0.561508 (0.113209) with: {'var_smoothing': 0.657933224657568}\n",
      "0.569841 (0.116413) with: {'var_smoothing': 0.533669923120631}\n",
      "0.583333 (0.117835) with: {'var_smoothing': 0.43287612810830584}\n",
      "0.609921 (0.107666) with: {'var_smoothing': 0.3511191734215131}\n",
      "0.615873 (0.112407) with: {'var_smoothing': 0.2848035868435802}\n",
      "0.622222 (0.107466) with: {'var_smoothing': 0.23101297000831597}\n",
      "0.625794 (0.123927) with: {'var_smoothing': 0.1873817422860384}\n",
      "0.629762 (0.123456) with: {'var_smoothing': 0.15199110829529336}\n",
      "0.636111 (0.121401) with: {'var_smoothing': 0.12328467394420659}\n",
      "0.636111 (0.116248) with: {'var_smoothing': 0.1}\n",
      "0.642460 (0.116654) with: {'var_smoothing': 0.08111308307896872}\n",
      "0.644444 (0.121884) with: {'var_smoothing': 0.0657933224657568}\n",
      "0.646825 (0.123080) with: {'var_smoothing': 0.0533669923120631}\n",
      "0.648810 (0.122904) with: {'var_smoothing': 0.04328761281083057}\n",
      "0.653175 (0.125550) with: {'var_smoothing': 0.03511191734215131}\n",
      "0.659524 (0.123748) with: {'var_smoothing': 0.02848035868435802}\n",
      "0.663492 (0.123914) with: {'var_smoothing': 0.02310129700083159}\n",
      "0.665873 (0.119718) with: {'var_smoothing': 0.01873817422860384}\n",
      "0.665873 (0.119718) with: {'var_smoothing': 0.01519911082952933}\n",
      "0.669841 (0.118687) with: {'var_smoothing': 0.012328467394420659}\n",
      "0.667460 (0.122995) with: {'var_smoothing': 0.01}\n",
      "0.665476 (0.122318) with: {'var_smoothing': 0.008111308307896872}\n",
      "0.665476 (0.122318) with: {'var_smoothing': 0.006579332246575682}\n",
      "0.665476 (0.122318) with: {'var_smoothing': 0.005336699231206307}\n",
      "0.665476 (0.122318) with: {'var_smoothing': 0.004328761281083057}\n",
      "0.665476 (0.122318) with: {'var_smoothing': 0.003511191734215131}\n",
      "0.665476 (0.122318) with: {'var_smoothing': 0.002848035868435802}\n",
      "0.665476 (0.122318) with: {'var_smoothing': 0.0023101297000831605}\n",
      "0.665476 (0.122318) with: {'var_smoothing': 0.001873817422860383}\n",
      "0.665476 (0.122318) with: {'var_smoothing': 0.0015199110829529332}\n",
      "0.665476 (0.122318) with: {'var_smoothing': 0.0012328467394420659}\n",
      "0.665476 (0.122318) with: {'var_smoothing': 0.001}\n",
      "0.663492 (0.121799) with: {'var_smoothing': 0.0008111308307896872}\n",
      "0.663492 (0.121799) with: {'var_smoothing': 0.0006579332246575676}\n",
      "0.663492 (0.121799) with: {'var_smoothing': 0.0005336699231206307}\n",
      "0.663492 (0.121799) with: {'var_smoothing': 0.0004328761281083057}\n",
      "0.663492 (0.121799) with: {'var_smoothing': 0.0003511191734215131}\n",
      "0.663492 (0.121799) with: {'var_smoothing': 0.0002848035868435802}\n",
      "0.663492 (0.121799) with: {'var_smoothing': 0.0002310129700083158}\n",
      "0.663492 (0.121799) with: {'var_smoothing': 0.0001873817422860383}\n",
      "0.663492 (0.121799) with: {'var_smoothing': 0.0001519911082952933}\n",
      "0.663492 (0.121799) with: {'var_smoothing': 0.0001232846739442066}\n",
      "0.663492 (0.121799) with: {'var_smoothing': 0.0001}\n",
      "0.663492 (0.121799) with: {'var_smoothing': 8.111308307896872e-05}\n",
      "0.663492 (0.121799) with: {'var_smoothing': 6.579332246575683e-05}\n",
      "0.663492 (0.121799) with: {'var_smoothing': 5.3366992312063123e-05}\n",
      "0.663492 (0.121799) with: {'var_smoothing': 4.328761281083062e-05}\n",
      "0.663492 (0.121799) with: {'var_smoothing': 3.511191734215127e-05}\n",
      "0.663492 (0.121799) with: {'var_smoothing': 2.848035868435799e-05}\n",
      "0.663492 (0.121799) with: {'var_smoothing': 2.310129700083158e-05}\n",
      "0.663492 (0.121799) with: {'var_smoothing': 1.873817422860383e-05}\n",
      "0.663492 (0.121799) with: {'var_smoothing': 1.5199110829529332e-05}\n",
      "0.663492 (0.121799) with: {'var_smoothing': 1.2328467394420658e-05}\n",
      "0.663492 (0.121799) with: {'var_smoothing': 1e-05}\n",
      "0.663492 (0.121799) with: {'var_smoothing': 8.111308307896873e-06}\n",
      "0.663492 (0.121799) with: {'var_smoothing': 6.579332246575683e-06}\n",
      "0.663492 (0.121799) with: {'var_smoothing': 5.336699231206313e-06}\n",
      "0.663492 (0.121799) with: {'var_smoothing': 4.328761281083053e-06}\n",
      "0.663492 (0.121799) with: {'var_smoothing': 3.5111917342151275e-06}\n",
      "0.663492 (0.121799) with: {'var_smoothing': 2.848035868435799e-06}\n",
      "0.663492 (0.121799) with: {'var_smoothing': 2.310129700083158e-06}\n",
      "0.663492 (0.121799) with: {'var_smoothing': 1.873817422860383e-06}\n",
      "0.663492 (0.121799) with: {'var_smoothing': 1.519911082952933e-06}\n",
      "0.663492 (0.121799) with: {'var_smoothing': 1.232846739442066e-06}\n",
      "0.663492 (0.121799) with: {'var_smoothing': 1e-06}\n",
      "0.663492 (0.121799) with: {'var_smoothing': 8.111308307896872e-07}\n",
      "0.663492 (0.121799) with: {'var_smoothing': 6.579332246575682e-07}\n",
      "0.663492 (0.121799) with: {'var_smoothing': 5.336699231206313e-07}\n",
      "0.663492 (0.121799) with: {'var_smoothing': 4.3287612810830526e-07}\n",
      "0.663492 (0.121799) with: {'var_smoothing': 3.5111917342151277e-07}\n",
      "0.663492 (0.121799) with: {'var_smoothing': 2.848035868435799e-07}\n",
      "0.663492 (0.121799) with: {'var_smoothing': 2.310129700083158e-07}\n",
      "0.663492 (0.121799) with: {'var_smoothing': 1.873817422860383e-07}\n",
      "0.663492 (0.121799) with: {'var_smoothing': 1.519911082952933e-07}\n",
      "0.663492 (0.121799) with: {'var_smoothing': 1.232846739442066e-07}\n",
      "0.663492 (0.121799) with: {'var_smoothing': 1e-07}\n",
      "0.663492 (0.121799) with: {'var_smoothing': 8.111308307896873e-08}\n",
      "0.663492 (0.121799) with: {'var_smoothing': 6.579332246575682e-08}\n",
      "0.663492 (0.121799) with: {'var_smoothing': 5.336699231206302e-08}\n",
      "0.663492 (0.121799) with: {'var_smoothing': 4.3287612810830526e-08}\n",
      "0.663492 (0.121799) with: {'var_smoothing': 3.5111917342151277e-08}\n",
      "0.663492 (0.121799) with: {'var_smoothing': 2.848035868435799e-08}\n",
      "0.663492 (0.121799) with: {'var_smoothing': 2.310129700083158e-08}\n",
      "0.663492 (0.121799) with: {'var_smoothing': 1.873817422860383e-08}\n",
      "0.663492 (0.121799) with: {'var_smoothing': 1.519911082952933e-08}\n",
      "0.663492 (0.121799) with: {'var_smoothing': 1.232846739442066e-08}\n",
      "0.663492 (0.121799) with: {'var_smoothing': 1e-08}\n",
      "0.663492 (0.121799) with: {'var_smoothing': 8.111308307896856e-09}\n",
      "0.663492 (0.121799) with: {'var_smoothing': 6.579332246575682e-09}\n",
      "0.663492 (0.121799) with: {'var_smoothing': 5.336699231206302e-09}\n",
      "0.663492 (0.121799) with: {'var_smoothing': 4.328761281083061e-09}\n",
      "0.663492 (0.121799) with: {'var_smoothing': 3.5111917342151273e-09}\n",
      "0.663492 (0.121799) with: {'var_smoothing': 2.848035868435805e-09}\n",
      "0.663492 (0.121799) with: {'var_smoothing': 2.310129700083158e-09}\n",
      "0.663492 (0.121799) with: {'var_smoothing': 1.873817422860387e-09}\n",
      "0.663492 (0.121799) with: {'var_smoothing': 1.519911082952933e-09}\n",
      "0.663492 (0.121799) with: {'var_smoothing': 1.2328467394420635e-09}\n",
      "0.663492 (0.121799) with: {'var_smoothing': 1e-09}\n"
     ]
    }
   ],
   "source": [
    "model = GaussianNB()\n",
    "\n",
    "params_NB = {'var_smoothing': np.logspace(0,-9, num=100)}\n",
    "cv = RepeatedStratifiedKFold(n_splits=n_splits, n_repeats=3, random_state=1)\n",
    "grid_search = GridSearchCV(estimator=model, param_grid=params_NB, cv=cv, scoring=criterion, error_score=0)\n",
    "grid_result = grid_search.fit(X_train, y_train)\n",
    "# summarize results\n",
    "print(\"Best: %f using %s\" % (grid_result.best_score_, grid_result.best_params_))\n",
    "means = grid_result.cv_results_['mean_test_score']\n",
    "stds = grid_result.cv_results_['std_test_score']\n",
    "params = grid_result.cv_results_['params']\n",
    "for mean, stdev, param in zip(means, stds, params):\n",
    "    print(\"%f (%f) with: %r\" % (mean, stdev, param))"
   ]
  },
  {
   "cell_type": "code",
   "execution_count": 44,
   "id": "ab35b3a7-b5d2-4408-83b0-70e011e111ba",
   "metadata": {},
   "outputs": [],
   "source": [
    "params = grid_search.best_params_"
   ]
  },
  {
   "cell_type": "code",
   "execution_count": 45,
   "id": "e9a96b7f-d22e-4a91-8a38-4a0ff60d95b8",
   "metadata": {},
   "outputs": [
    {
     "data": {
      "text/plain": [
       "array([[ 3,  9],\n",
       "       [ 6, 21]])"
      ]
     },
     "execution_count": 45,
     "metadata": {},
     "output_type": "execute_result"
    }
   ],
   "source": [
    "nb_tuned = GaussianNB(var_smoothing =  params['var_smoothing'])\n",
    "# fit the model with data\n",
    "nb_tuned.fit(X_train, y_train)\n",
    "\n",
    "y_pred = nb_tuned.predict(X_test)\n",
    "cnf_matrix = metrics.confusion_matrix(y_test, y_pred)\n",
    "cnf_matrix"
   ]
  },
  {
   "cell_type": "code",
   "execution_count": 46,
   "id": "cf1586a0-4432-40a0-afe9-242ccd21d87d",
   "metadata": {},
   "outputs": [
    {
     "name": "stdout",
     "output_type": "stream",
     "text": [
      "Gaussian Naive Bayes Acccuracy (Tuned Using Optimal Params): 0.6153846153846154\n"
     ]
    }
   ],
   "source": [
    "print(f'Gaussian Naive Bayes Acccuracy (Tuned Using Optimal Params): {np.trace(cnf_matrix)/np.sum(cnf_matrix)}')"
   ]
  },
  {
   "cell_type": "code",
   "execution_count": 47,
   "id": "30c5d89c-b794-4a34-9940-37e850a0b85d",
   "metadata": {},
   "outputs": [
    {
     "data": {
      "text/plain": [
       "0.5138888888888888"
      ]
     },
     "execution_count": 47,
     "metadata": {},
     "output_type": "execute_result"
    }
   ],
   "source": [
    "roc_auc_score(y_test, y_pred)"
   ]
  },
  {
   "cell_type": "code",
   "execution_count": 48,
   "id": "7d95267f-c964-4918-be1d-812c5ee3f3f4",
   "metadata": {},
   "outputs": [
    {
     "data": {
      "text/plain": [
       "Text(0.5, 257.44, 'Predicted label')"
      ]
     },
     "execution_count": 48,
     "metadata": {},
     "output_type": "execute_result"
    },
    {
     "data": {
      "image/png": "[encoded data removed]",
      "text/plain": [
       "<Figure size 432x288 with 2 Axes>"
      ]
     },
     "metadata": {
      "needs_background": "light"
     },
     "output_type": "display_data"
    }
   ],
   "source": [
    "class_names=[0,1] # name  of classes\n",
    "fig, ax = plt.subplots()\n",
    "tick_marks = np.arange(len(class_names))\n",
    "plt.xticks(tick_marks, class_names)\n",
    "plt.yticks(tick_marks, class_names)\n",
    "# create heatmap\n",
    "sns.heatmap(pd.DataFrame(cnf_matrix), annot=True, cmap=\"YlGnBu\" ,fmt='g')\n",
    "ax.xaxis.set_label_position(\"top\")\n",
    "plt.tight_layout()\n",
    "plt.title('Confusion matrix', y=1.1)\n",
    "plt.ylabel('Actual label')\n",
    "plt.xlabel('Predicted label')\n",
    "\n"
   ]
  },
  {
   "cell_type": "code",
   "execution_count": 49,
   "id": "b796773f-a1a2-4a5d-8106-951505e14cc2",
   "metadata": {},
   "outputs": [
    {
     "data": {
      "text/plain": [
       "<sklearn.metrics._plot.roc_curve.RocCurveDisplay at 0x7fc540654190>"
      ]
     },
     "execution_count": 49,
     "metadata": {},
     "output_type": "execute_result"
    },
    {
     "data": {
      "image/png": "[encoded data removed]",
      "text/plain": [
       "<Figure size 432x288 with 1 Axes>"
      ]
     },
     "metadata": {
      "needs_background": "light"
     },
     "output_type": "display_data"
    }
   ],
   "source": [
    "plot_roc_curve(nb_tuned,X_test,y_test)"
   ]
  },
  {
   "cell_type": "markdown",
   "id": "e832006b-3f79-400a-a278-4948b8e30dc8",
   "metadata": {
    "tags": []
   },
   "source": [
    "## KNN Classifier"
   ]
  },
  {
   "cell_type": "code",
   "execution_count": 50,
   "id": "6ad0cc5c-6d44-4554-a3ae-18d1df4ba841",
   "metadata": {
    "tags": []
   },
   "outputs": [
    {
     "name": "stdout",
     "output_type": "stream",
     "text": [
      "Best: 0.607341 using {'leaf_size': 1, 'n_neighbors': 3, 'p': 3}\n",
      "0.000000 (0.000000) with: {'leaf_size': 0, 'n_neighbors': 0, 'p': 1}\n",
      "0.000000 (0.000000) with: {'leaf_size': 0, 'n_neighbors': 0, 'p': 2}\n",
      "0.000000 (0.000000) with: {'leaf_size': 0, 'n_neighbors': 0, 'p': 3}\n",
      "0.000000 (0.000000) with: {'leaf_size': 0, 'n_neighbors': 1, 'p': 1}\n",
      "0.000000 (0.000000) with: {'leaf_size': 0, 'n_neighbors': 1, 'p': 2}\n",
      "0.000000 (0.000000) with: {'leaf_size': 0, 'n_neighbors': 1, 'p': 3}\n",
      "0.000000 (0.000000) with: {'leaf_size': 0, 'n_neighbors': 2, 'p': 1}\n",
      "0.000000 (0.000000) with: {'leaf_size': 0, 'n_neighbors': 2, 'p': 2}\n",
      "0.000000 (0.000000) with: {'leaf_size': 0, 'n_neighbors': 2, 'p': 3}\n",
      "0.000000 (0.000000) with: {'leaf_size': 0, 'n_neighbors': 3, 'p': 1}\n",
      "0.000000 (0.000000) with: {'leaf_size': 0, 'n_neighbors': 3, 'p': 2}\n",
      "0.000000 (0.000000) with: {'leaf_size': 0, 'n_neighbors': 3, 'p': 3}\n",
      "0.000000 (0.000000) with: {'leaf_size': 0, 'n_neighbors': 4, 'p': 1}\n",
      "0.000000 (0.000000) with: {'leaf_size': 0, 'n_neighbors': 4, 'p': 2}\n",
      "0.000000 (0.000000) with: {'leaf_size': 0, 'n_neighbors': 4, 'p': 3}\n",
      "0.000000 (0.000000) with: {'leaf_size': 0, 'n_neighbors': 5, 'p': 1}\n",
      "0.000000 (0.000000) with: {'leaf_size': 0, 'n_neighbors': 5, 'p': 2}\n",
      "0.000000 (0.000000) with: {'leaf_size': 0, 'n_neighbors': 5, 'p': 3}\n",
      "0.000000 (0.000000) with: {'leaf_size': 0, 'n_neighbors': 6, 'p': 1}\n",
      "0.000000 (0.000000) with: {'leaf_size': 0, 'n_neighbors': 6, 'p': 2}\n",
      "0.000000 (0.000000) with: {'leaf_size': 0, 'n_neighbors': 6, 'p': 3}\n",
      "0.000000 (0.000000) with: {'leaf_size': 0, 'n_neighbors': 7, 'p': 1}\n",
      "0.000000 (0.000000) with: {'leaf_size': 0, 'n_neighbors': 7, 'p': 2}\n",
      "0.000000 (0.000000) with: {'leaf_size': 0, 'n_neighbors': 7, 'p': 3}\n",
      "0.000000 (0.000000) with: {'leaf_size': 0, 'n_neighbors': 8, 'p': 1}\n",
      "0.000000 (0.000000) with: {'leaf_size': 0, 'n_neighbors': 8, 'p': 2}\n",
      "0.000000 (0.000000) with: {'leaf_size': 0, 'n_neighbors': 8, 'p': 3}\n",
      "0.246032 (0.256889) with: {'leaf_size': 0, 'n_neighbors': 9, 'p': 1}\n",
      "0.248016 (0.259063) with: {'leaf_size': 0, 'n_neighbors': 9, 'p': 2}\n",
      "0.222222 (0.230603) with: {'leaf_size': 0, 'n_neighbors': 9, 'p': 3}\n",
      "0.486310 (0.077597) with: {'leaf_size': 0, 'n_neighbors': 10, 'p': 1}\n",
      "0.468056 (0.097339) with: {'leaf_size': 0, 'n_neighbors': 10, 'p': 2}\n",
      "0.446627 (0.113253) with: {'leaf_size': 0, 'n_neighbors': 10, 'p': 3}\n",
      "0.425000 (0.084903) with: {'leaf_size': 0, 'n_neighbors': 11, 'p': 1}\n",
      "0.412500 (0.064578) with: {'leaf_size': 0, 'n_neighbors': 11, 'p': 2}\n",
      "0.416468 (0.081431) with: {'leaf_size': 0, 'n_neighbors': 11, 'p': 3}\n",
      "0.374802 (0.105168) with: {'leaf_size': 0, 'n_neighbors': 12, 'p': 1}\n",
      "0.441270 (0.052104) with: {'leaf_size': 0, 'n_neighbors': 12, 'p': 2}\n",
      "0.424603 (0.042739) with: {'leaf_size': 0, 'n_neighbors': 12, 'p': 3}\n",
      "0.461508 (0.097749) with: {'leaf_size': 0, 'n_neighbors': 13, 'p': 1}\n",
      "0.430754 (0.120402) with: {'leaf_size': 0, 'n_neighbors': 13, 'p': 2}\n",
      "0.451389 (0.091871) with: {'leaf_size': 0, 'n_neighbors': 13, 'p': 3}\n",
      "0.399206 (0.135522) with: {'leaf_size': 0, 'n_neighbors': 14, 'p': 1}\n",
      "0.487698 (0.144563) with: {'leaf_size': 0, 'n_neighbors': 14, 'p': 2}\n",
      "0.466468 (0.081512) with: {'leaf_size': 0, 'n_neighbors': 14, 'p': 3}\n",
      "0.000000 (0.000000) with: {'leaf_size': 1, 'n_neighbors': 0, 'p': 1}\n",
      "0.000000 (0.000000) with: {'leaf_size': 1, 'n_neighbors': 0, 'p': 2}\n",
      "0.000000 (0.000000) with: {'leaf_size': 1, 'n_neighbors': 0, 'p': 3}\n",
      "0.486111 (0.074070) with: {'leaf_size': 1, 'n_neighbors': 1, 'p': 1}\n",
      "0.520635 (0.108785) with: {'leaf_size': 1, 'n_neighbors': 1, 'p': 2}\n",
      "0.523413 (0.105583) with: {'leaf_size': 1, 'n_neighbors': 1, 'p': 3}\n",
      "0.543849 (0.038786) with: {'leaf_size': 1, 'n_neighbors': 2, 'p': 1}\n",
      "0.587500 (0.066168) with: {'leaf_size': 1, 'n_neighbors': 2, 'p': 2}\n",
      "0.587500 (0.046646) with: {'leaf_size': 1, 'n_neighbors': 2, 'p': 3}\n",
      "0.565873 (0.113937) with: {'leaf_size': 1, 'n_neighbors': 3, 'p': 1}\n",
      "0.600595 (0.056107) with: {'leaf_size': 1, 'n_neighbors': 3, 'p': 2}\n",
      "0.607341 (0.087806) with: {'leaf_size': 1, 'n_neighbors': 3, 'p': 3}\n",
      "0.539484 (0.096251) with: {'leaf_size': 1, 'n_neighbors': 4, 'p': 1}\n",
      "0.544048 (0.050358) with: {'leaf_size': 1, 'n_neighbors': 4, 'p': 2}\n",
      "0.540079 (0.094515) with: {'leaf_size': 1, 'n_neighbors': 4, 'p': 3}\n",
      "0.525992 (0.093386) with: {'leaf_size': 1, 'n_neighbors': 5, 'p': 1}\n",
      "0.508532 (0.081076) with: {'leaf_size': 1, 'n_neighbors': 5, 'p': 2}\n",
      "0.560317 (0.115682) with: {'leaf_size': 1, 'n_neighbors': 5, 'p': 3}\n",
      "0.510317 (0.091428) with: {'leaf_size': 1, 'n_neighbors': 6, 'p': 1}\n",
      "0.473214 (0.100841) with: {'leaf_size': 1, 'n_neighbors': 6, 'p': 2}\n",
      "0.540873 (0.104108) with: {'leaf_size': 1, 'n_neighbors': 6, 'p': 3}\n",
      "0.481548 (0.096975) with: {'leaf_size': 1, 'n_neighbors': 7, 'p': 1}\n",
      "0.453175 (0.118846) with: {'leaf_size': 1, 'n_neighbors': 7, 'p': 2}\n",
      "0.481944 (0.121172) with: {'leaf_size': 1, 'n_neighbors': 7, 'p': 3}\n",
      "0.426984 (0.112536) with: {'leaf_size': 1, 'n_neighbors': 8, 'p': 1}\n",
      "0.452381 (0.111149) with: {'leaf_size': 1, 'n_neighbors': 8, 'p': 2}\n",
      "0.499405 (0.139873) with: {'leaf_size': 1, 'n_neighbors': 8, 'p': 3}\n",
      "0.461508 (0.098310) with: {'leaf_size': 1, 'n_neighbors': 9, 'p': 1}\n",
      "0.490873 (0.099143) with: {'leaf_size': 1, 'n_neighbors': 9, 'p': 2}\n",
      "0.467460 (0.091810) with: {'leaf_size': 1, 'n_neighbors': 9, 'p': 3}\n",
      "0.486310 (0.077597) with: {'leaf_size': 1, 'n_neighbors': 10, 'p': 1}\n",
      "0.468056 (0.097339) with: {'leaf_size': 1, 'n_neighbors': 10, 'p': 2}\n",
      "0.446627 (0.113253) with: {'leaf_size': 1, 'n_neighbors': 10, 'p': 3}\n",
      "0.425000 (0.084903) with: {'leaf_size': 1, 'n_neighbors': 11, 'p': 1}\n",
      "0.412500 (0.064578) with: {'leaf_size': 1, 'n_neighbors': 11, 'p': 2}\n",
      "0.416468 (0.081431) with: {'leaf_size': 1, 'n_neighbors': 11, 'p': 3}\n",
      "0.374802 (0.105168) with: {'leaf_size': 1, 'n_neighbors': 12, 'p': 1}\n",
      "0.441270 (0.052104) with: {'leaf_size': 1, 'n_neighbors': 12, 'p': 2}\n",
      "0.424603 (0.042739) with: {'leaf_size': 1, 'n_neighbors': 12, 'p': 3}\n",
      "0.461508 (0.097749) with: {'leaf_size': 1, 'n_neighbors': 13, 'p': 1}\n",
      "0.430754 (0.120402) with: {'leaf_size': 1, 'n_neighbors': 13, 'p': 2}\n",
      "0.451389 (0.091871) with: {'leaf_size': 1, 'n_neighbors': 13, 'p': 3}\n",
      "0.399206 (0.135522) with: {'leaf_size': 1, 'n_neighbors': 14, 'p': 1}\n",
      "0.487698 (0.144563) with: {'leaf_size': 1, 'n_neighbors': 14, 'p': 2}\n",
      "0.466468 (0.081512) with: {'leaf_size': 1, 'n_neighbors': 14, 'p': 3}\n",
      "0.000000 (0.000000) with: {'leaf_size': 2, 'n_neighbors': 0, 'p': 1}\n",
      "0.000000 (0.000000) with: {'leaf_size': 2, 'n_neighbors': 0, 'p': 2}\n",
      "0.000000 (0.000000) with: {'leaf_size': 2, 'n_neighbors': 0, 'p': 3}\n",
      "0.486111 (0.074070) with: {'leaf_size': 2, 'n_neighbors': 1, 'p': 1}\n",
      "0.520635 (0.108785) with: {'leaf_size': 2, 'n_neighbors': 1, 'p': 2}\n",
      "0.523413 (0.105583) with: {'leaf_size': 2, 'n_neighbors': 1, 'p': 3}\n",
      "0.543849 (0.038786) with: {'leaf_size': 2, 'n_neighbors': 2, 'p': 1}\n",
      "0.587500 (0.066168) with: {'leaf_size': 2, 'n_neighbors': 2, 'p': 2}\n",
      "0.587500 (0.046646) with: {'leaf_size': 2, 'n_neighbors': 2, 'p': 3}\n",
      "0.565873 (0.113937) with: {'leaf_size': 2, 'n_neighbors': 3, 'p': 1}\n",
      "0.600595 (0.056107) with: {'leaf_size': 2, 'n_neighbors': 3, 'p': 2}\n",
      "0.607341 (0.087806) with: {'leaf_size': 2, 'n_neighbors': 3, 'p': 3}\n",
      "0.539484 (0.096251) with: {'leaf_size': 2, 'n_neighbors': 4, 'p': 1}\n",
      "0.544048 (0.050358) with: {'leaf_size': 2, 'n_neighbors': 4, 'p': 2}\n",
      "0.540079 (0.094515) with: {'leaf_size': 2, 'n_neighbors': 4, 'p': 3}\n",
      "0.525992 (0.093386) with: {'leaf_size': 2, 'n_neighbors': 5, 'p': 1}\n",
      "0.508532 (0.081076) with: {'leaf_size': 2, 'n_neighbors': 5, 'p': 2}\n",
      "0.560317 (0.115682) with: {'leaf_size': 2, 'n_neighbors': 5, 'p': 3}\n",
      "0.510317 (0.091428) with: {'leaf_size': 2, 'n_neighbors': 6, 'p': 1}\n",
      "0.473214 (0.100841) with: {'leaf_size': 2, 'n_neighbors': 6, 'p': 2}\n",
      "0.540873 (0.104108) with: {'leaf_size': 2, 'n_neighbors': 6, 'p': 3}\n",
      "0.481548 (0.096975) with: {'leaf_size': 2, 'n_neighbors': 7, 'p': 1}\n",
      "0.453175 (0.118846) with: {'leaf_size': 2, 'n_neighbors': 7, 'p': 2}\n",
      "0.481944 (0.121172) with: {'leaf_size': 2, 'n_neighbors': 7, 'p': 3}\n",
      "0.426984 (0.112536) with: {'leaf_size': 2, 'n_neighbors': 8, 'p': 1}\n",
      "0.452381 (0.111149) with: {'leaf_size': 2, 'n_neighbors': 8, 'p': 2}\n",
      "0.499405 (0.139873) with: {'leaf_size': 2, 'n_neighbors': 8, 'p': 3}\n",
      "0.461508 (0.098310) with: {'leaf_size': 2, 'n_neighbors': 9, 'p': 1}\n",
      "0.490873 (0.099143) with: {'leaf_size': 2, 'n_neighbors': 9, 'p': 2}\n",
      "0.467460 (0.091810) with: {'leaf_size': 2, 'n_neighbors': 9, 'p': 3}\n",
      "0.486310 (0.077597) with: {'leaf_size': 2, 'n_neighbors': 10, 'p': 1}\n",
      "0.468056 (0.097339) with: {'leaf_size': 2, 'n_neighbors': 10, 'p': 2}\n",
      "0.446627 (0.113253) with: {'leaf_size': 2, 'n_neighbors': 10, 'p': 3}\n",
      "0.425000 (0.084903) with: {'leaf_size': 2, 'n_neighbors': 11, 'p': 1}\n",
      "0.412500 (0.064578) with: {'leaf_size': 2, 'n_neighbors': 11, 'p': 2}\n",
      "0.416468 (0.081431) with: {'leaf_size': 2, 'n_neighbors': 11, 'p': 3}\n",
      "0.374802 (0.105168) with: {'leaf_size': 2, 'n_neighbors': 12, 'p': 1}\n",
      "0.441270 (0.052104) with: {'leaf_size': 2, 'n_neighbors': 12, 'p': 2}\n",
      "0.424603 (0.042739) with: {'leaf_size': 2, 'n_neighbors': 12, 'p': 3}\n",
      "0.461508 (0.097749) with: {'leaf_size': 2, 'n_neighbors': 13, 'p': 1}\n",
      "0.430754 (0.120402) with: {'leaf_size': 2, 'n_neighbors': 13, 'p': 2}\n",
      "0.451389 (0.091871) with: {'leaf_size': 2, 'n_neighbors': 13, 'p': 3}\n",
      "0.399206 (0.135522) with: {'leaf_size': 2, 'n_neighbors': 14, 'p': 1}\n",
      "0.487698 (0.144563) with: {'leaf_size': 2, 'n_neighbors': 14, 'p': 2}\n",
      "0.466468 (0.081512) with: {'leaf_size': 2, 'n_neighbors': 14, 'p': 3}\n",
      "0.000000 (0.000000) with: {'leaf_size': 3, 'n_neighbors': 0, 'p': 1}\n",
      "0.000000 (0.000000) with: {'leaf_size': 3, 'n_neighbors': 0, 'p': 2}\n",
      "0.000000 (0.000000) with: {'leaf_size': 3, 'n_neighbors': 0, 'p': 3}\n",
      "0.486111 (0.074070) with: {'leaf_size': 3, 'n_neighbors': 1, 'p': 1}\n",
      "0.520635 (0.108785) with: {'leaf_size': 3, 'n_neighbors': 1, 'p': 2}\n",
      "0.523413 (0.105583) with: {'leaf_size': 3, 'n_neighbors': 1, 'p': 3}\n",
      "0.543849 (0.038786) with: {'leaf_size': 3, 'n_neighbors': 2, 'p': 1}\n",
      "0.587500 (0.066168) with: {'leaf_size': 3, 'n_neighbors': 2, 'p': 2}\n",
      "0.587500 (0.046646) with: {'leaf_size': 3, 'n_neighbors': 2, 'p': 3}\n",
      "0.565873 (0.113937) with: {'leaf_size': 3, 'n_neighbors': 3, 'p': 1}\n",
      "0.600595 (0.056107) with: {'leaf_size': 3, 'n_neighbors': 3, 'p': 2}\n",
      "0.607341 (0.087806) with: {'leaf_size': 3, 'n_neighbors': 3, 'p': 3}\n",
      "0.539484 (0.096251) with: {'leaf_size': 3, 'n_neighbors': 4, 'p': 1}\n",
      "0.544048 (0.050358) with: {'leaf_size': 3, 'n_neighbors': 4, 'p': 2}\n",
      "0.540079 (0.094515) with: {'leaf_size': 3, 'n_neighbors': 4, 'p': 3}\n",
      "0.525992 (0.093386) with: {'leaf_size': 3, 'n_neighbors': 5, 'p': 1}\n",
      "0.508532 (0.081076) with: {'leaf_size': 3, 'n_neighbors': 5, 'p': 2}\n",
      "0.560317 (0.115682) with: {'leaf_size': 3, 'n_neighbors': 5, 'p': 3}\n",
      "0.510317 (0.091428) with: {'leaf_size': 3, 'n_neighbors': 6, 'p': 1}\n",
      "0.473214 (0.100841) with: {'leaf_size': 3, 'n_neighbors': 6, 'p': 2}\n",
      "0.540873 (0.104108) with: {'leaf_size': 3, 'n_neighbors': 6, 'p': 3}\n",
      "0.481548 (0.096975) with: {'leaf_size': 3, 'n_neighbors': 7, 'p': 1}\n",
      "0.453175 (0.118846) with: {'leaf_size': 3, 'n_neighbors': 7, 'p': 2}\n",
      "0.481944 (0.121172) with: {'leaf_size': 3, 'n_neighbors': 7, 'p': 3}\n",
      "0.426984 (0.112536) with: {'leaf_size': 3, 'n_neighbors': 8, 'p': 1}\n",
      "0.452381 (0.111149) with: {'leaf_size': 3, 'n_neighbors': 8, 'p': 2}\n",
      "0.499405 (0.139873) with: {'leaf_size': 3, 'n_neighbors': 8, 'p': 3}\n",
      "0.461508 (0.098310) with: {'leaf_size': 3, 'n_neighbors': 9, 'p': 1}\n",
      "0.490873 (0.099143) with: {'leaf_size': 3, 'n_neighbors': 9, 'p': 2}\n",
      "0.467460 (0.091810) with: {'leaf_size': 3, 'n_neighbors': 9, 'p': 3}\n",
      "0.486310 (0.077597) with: {'leaf_size': 3, 'n_neighbors': 10, 'p': 1}\n",
      "0.468056 (0.097339) with: {'leaf_size': 3, 'n_neighbors': 10, 'p': 2}\n",
      "0.446627 (0.113253) with: {'leaf_size': 3, 'n_neighbors': 10, 'p': 3}\n",
      "0.425000 (0.084903) with: {'leaf_size': 3, 'n_neighbors': 11, 'p': 1}\n",
      "0.412500 (0.064578) with: {'leaf_size': 3, 'n_neighbors': 11, 'p': 2}\n",
      "0.416468 (0.081431) with: {'leaf_size': 3, 'n_neighbors': 11, 'p': 3}\n",
      "0.374802 (0.105168) with: {'leaf_size': 3, 'n_neighbors': 12, 'p': 1}\n",
      "0.441270 (0.052104) with: {'leaf_size': 3, 'n_neighbors': 12, 'p': 2}\n",
      "0.424603 (0.042739) with: {'leaf_size': 3, 'n_neighbors': 12, 'p': 3}\n",
      "0.461508 (0.097749) with: {'leaf_size': 3, 'n_neighbors': 13, 'p': 1}\n",
      "0.430754 (0.120402) with: {'leaf_size': 3, 'n_neighbors': 13, 'p': 2}\n",
      "0.451389 (0.091871) with: {'leaf_size': 3, 'n_neighbors': 13, 'p': 3}\n",
      "0.399206 (0.135522) with: {'leaf_size': 3, 'n_neighbors': 14, 'p': 1}\n",
      "0.487698 (0.144563) with: {'leaf_size': 3, 'n_neighbors': 14, 'p': 2}\n",
      "0.466468 (0.081512) with: {'leaf_size': 3, 'n_neighbors': 14, 'p': 3}\n",
      "0.000000 (0.000000) with: {'leaf_size': 4, 'n_neighbors': 0, 'p': 1}\n",
      "0.000000 (0.000000) with: {'leaf_size': 4, 'n_neighbors': 0, 'p': 2}\n",
      "0.000000 (0.000000) with: {'leaf_size': 4, 'n_neighbors': 0, 'p': 3}\n",
      "0.486111 (0.074070) with: {'leaf_size': 4, 'n_neighbors': 1, 'p': 1}\n",
      "0.520635 (0.108785) with: {'leaf_size': 4, 'n_neighbors': 1, 'p': 2}\n",
      "0.523413 (0.105583) with: {'leaf_size': 4, 'n_neighbors': 1, 'p': 3}\n",
      "0.543849 (0.038786) with: {'leaf_size': 4, 'n_neighbors': 2, 'p': 1}\n",
      "0.587500 (0.066168) with: {'leaf_size': 4, 'n_neighbors': 2, 'p': 2}\n",
      "0.587500 (0.046646) with: {'leaf_size': 4, 'n_neighbors': 2, 'p': 3}\n",
      "0.565873 (0.113937) with: {'leaf_size': 4, 'n_neighbors': 3, 'p': 1}\n",
      "0.600595 (0.056107) with: {'leaf_size': 4, 'n_neighbors': 3, 'p': 2}\n",
      "0.607341 (0.087806) with: {'leaf_size': 4, 'n_neighbors': 3, 'p': 3}\n",
      "0.539484 (0.096251) with: {'leaf_size': 4, 'n_neighbors': 4, 'p': 1}\n",
      "0.544048 (0.050358) with: {'leaf_size': 4, 'n_neighbors': 4, 'p': 2}\n",
      "0.540079 (0.094515) with: {'leaf_size': 4, 'n_neighbors': 4, 'p': 3}\n",
      "0.525992 (0.093386) with: {'leaf_size': 4, 'n_neighbors': 5, 'p': 1}\n",
      "0.508532 (0.081076) with: {'leaf_size': 4, 'n_neighbors': 5, 'p': 2}\n",
      "0.560317 (0.115682) with: {'leaf_size': 4, 'n_neighbors': 5, 'p': 3}\n",
      "0.510317 (0.091428) with: {'leaf_size': 4, 'n_neighbors': 6, 'p': 1}\n",
      "0.473214 (0.100841) with: {'leaf_size': 4, 'n_neighbors': 6, 'p': 2}\n",
      "0.540873 (0.104108) with: {'leaf_size': 4, 'n_neighbors': 6, 'p': 3}\n",
      "0.481548 (0.096975) with: {'leaf_size': 4, 'n_neighbors': 7, 'p': 1}\n",
      "0.453175 (0.118846) with: {'leaf_size': 4, 'n_neighbors': 7, 'p': 2}\n",
      "0.481944 (0.121172) with: {'leaf_size': 4, 'n_neighbors': 7, 'p': 3}\n",
      "0.426984 (0.112536) with: {'leaf_size': 4, 'n_neighbors': 8, 'p': 1}\n",
      "0.452381 (0.111149) with: {'leaf_size': 4, 'n_neighbors': 8, 'p': 2}\n",
      "0.499405 (0.139873) with: {'leaf_size': 4, 'n_neighbors': 8, 'p': 3}\n",
      "0.461508 (0.098310) with: {'leaf_size': 4, 'n_neighbors': 9, 'p': 1}\n",
      "0.490873 (0.099143) with: {'leaf_size': 4, 'n_neighbors': 9, 'p': 2}\n",
      "0.467460 (0.091810) with: {'leaf_size': 4, 'n_neighbors': 9, 'p': 3}\n",
      "0.486310 (0.077597) with: {'leaf_size': 4, 'n_neighbors': 10, 'p': 1}\n",
      "0.468056 (0.097339) with: {'leaf_size': 4, 'n_neighbors': 10, 'p': 2}\n",
      "0.446627 (0.113253) with: {'leaf_size': 4, 'n_neighbors': 10, 'p': 3}\n",
      "0.425000 (0.084903) with: {'leaf_size': 4, 'n_neighbors': 11, 'p': 1}\n",
      "0.412500 (0.064578) with: {'leaf_size': 4, 'n_neighbors': 11, 'p': 2}\n",
      "0.416468 (0.081431) with: {'leaf_size': 4, 'n_neighbors': 11, 'p': 3}\n",
      "0.374802 (0.105168) with: {'leaf_size': 4, 'n_neighbors': 12, 'p': 1}\n",
      "0.441270 (0.052104) with: {'leaf_size': 4, 'n_neighbors': 12, 'p': 2}\n",
      "0.424603 (0.042739) with: {'leaf_size': 4, 'n_neighbors': 12, 'p': 3}\n",
      "0.461508 (0.097749) with: {'leaf_size': 4, 'n_neighbors': 13, 'p': 1}\n",
      "0.430754 (0.120402) with: {'leaf_size': 4, 'n_neighbors': 13, 'p': 2}\n",
      "0.451389 (0.091871) with: {'leaf_size': 4, 'n_neighbors': 13, 'p': 3}\n",
      "0.399206 (0.135522) with: {'leaf_size': 4, 'n_neighbors': 14, 'p': 1}\n",
      "0.487698 (0.144563) with: {'leaf_size': 4, 'n_neighbors': 14, 'p': 2}\n",
      "0.466468 (0.081512) with: {'leaf_size': 4, 'n_neighbors': 14, 'p': 3}\n",
      "0.000000 (0.000000) with: {'leaf_size': 5, 'n_neighbors': 0, 'p': 1}\n",
      "0.000000 (0.000000) with: {'leaf_size': 5, 'n_neighbors': 0, 'p': 2}\n",
      "0.000000 (0.000000) with: {'leaf_size': 5, 'n_neighbors': 0, 'p': 3}\n",
      "0.486111 (0.074070) with: {'leaf_size': 5, 'n_neighbors': 1, 'p': 1}\n",
      "0.520635 (0.108785) with: {'leaf_size': 5, 'n_neighbors': 1, 'p': 2}\n",
      "0.523413 (0.105583) with: {'leaf_size': 5, 'n_neighbors': 1, 'p': 3}\n",
      "0.543849 (0.038786) with: {'leaf_size': 5, 'n_neighbors': 2, 'p': 1}\n",
      "0.587500 (0.066168) with: {'leaf_size': 5, 'n_neighbors': 2, 'p': 2}\n",
      "0.587500 (0.046646) with: {'leaf_size': 5, 'n_neighbors': 2, 'p': 3}\n",
      "0.565873 (0.113937) with: {'leaf_size': 5, 'n_neighbors': 3, 'p': 1}\n",
      "0.600595 (0.056107) with: {'leaf_size': 5, 'n_neighbors': 3, 'p': 2}\n",
      "0.607341 (0.087806) with: {'leaf_size': 5, 'n_neighbors': 3, 'p': 3}\n",
      "0.539484 (0.096251) with: {'leaf_size': 5, 'n_neighbors': 4, 'p': 1}\n",
      "0.544048 (0.050358) with: {'leaf_size': 5, 'n_neighbors': 4, 'p': 2}\n",
      "0.540079 (0.094515) with: {'leaf_size': 5, 'n_neighbors': 4, 'p': 3}\n",
      "0.525992 (0.093386) with: {'leaf_size': 5, 'n_neighbors': 5, 'p': 1}\n",
      "0.508532 (0.081076) with: {'leaf_size': 5, 'n_neighbors': 5, 'p': 2}\n",
      "0.560317 (0.115682) with: {'leaf_size': 5, 'n_neighbors': 5, 'p': 3}\n",
      "0.510317 (0.091428) with: {'leaf_size': 5, 'n_neighbors': 6, 'p': 1}\n",
      "0.473214 (0.100841) with: {'leaf_size': 5, 'n_neighbors': 6, 'p': 2}\n",
      "0.540873 (0.104108) with: {'leaf_size': 5, 'n_neighbors': 6, 'p': 3}\n",
      "0.481548 (0.096975) with: {'leaf_size': 5, 'n_neighbors': 7, 'p': 1}\n",
      "0.453175 (0.118846) with: {'leaf_size': 5, 'n_neighbors': 7, 'p': 2}\n",
      "0.481944 (0.121172) with: {'leaf_size': 5, 'n_neighbors': 7, 'p': 3}\n",
      "0.426984 (0.112536) with: {'leaf_size': 5, 'n_neighbors': 8, 'p': 1}\n",
      "0.452381 (0.111149) with: {'leaf_size': 5, 'n_neighbors': 8, 'p': 2}\n",
      "0.499405 (0.139873) with: {'leaf_size': 5, 'n_neighbors': 8, 'p': 3}\n",
      "0.461508 (0.098310) with: {'leaf_size': 5, 'n_neighbors': 9, 'p': 1}\n",
      "0.490873 (0.099143) with: {'leaf_size': 5, 'n_neighbors': 9, 'p': 2}\n",
      "0.467460 (0.091810) with: {'leaf_size': 5, 'n_neighbors': 9, 'p': 3}\n",
      "0.486310 (0.077597) with: {'leaf_size': 5, 'n_neighbors': 10, 'p': 1}\n",
      "0.468056 (0.097339) with: {'leaf_size': 5, 'n_neighbors': 10, 'p': 2}\n",
      "0.446627 (0.113253) with: {'leaf_size': 5, 'n_neighbors': 10, 'p': 3}\n",
      "0.425000 (0.084903) with: {'leaf_size': 5, 'n_neighbors': 11, 'p': 1}\n",
      "0.412500 (0.064578) with: {'leaf_size': 5, 'n_neighbors': 11, 'p': 2}\n",
      "0.416468 (0.081431) with: {'leaf_size': 5, 'n_neighbors': 11, 'p': 3}\n",
      "0.374802 (0.105168) with: {'leaf_size': 5, 'n_neighbors': 12, 'p': 1}\n",
      "0.441270 (0.052104) with: {'leaf_size': 5, 'n_neighbors': 12, 'p': 2}\n",
      "0.424603 (0.042739) with: {'leaf_size': 5, 'n_neighbors': 12, 'p': 3}\n",
      "0.461508 (0.097749) with: {'leaf_size': 5, 'n_neighbors': 13, 'p': 1}\n",
      "0.430754 (0.120402) with: {'leaf_size': 5, 'n_neighbors': 13, 'p': 2}\n",
      "0.451389 (0.091871) with: {'leaf_size': 5, 'n_neighbors': 13, 'p': 3}\n",
      "0.399206 (0.135522) with: {'leaf_size': 5, 'n_neighbors': 14, 'p': 1}\n",
      "0.487698 (0.144563) with: {'leaf_size': 5, 'n_neighbors': 14, 'p': 2}\n",
      "0.466468 (0.081512) with: {'leaf_size': 5, 'n_neighbors': 14, 'p': 3}\n",
      "0.000000 (0.000000) with: {'leaf_size': 6, 'n_neighbors': 0, 'p': 1}\n",
      "0.000000 (0.000000) with: {'leaf_size': 6, 'n_neighbors': 0, 'p': 2}\n",
      "0.000000 (0.000000) with: {'leaf_size': 6, 'n_neighbors': 0, 'p': 3}\n",
      "0.486111 (0.074070) with: {'leaf_size': 6, 'n_neighbors': 1, 'p': 1}\n",
      "0.520635 (0.108785) with: {'leaf_size': 6, 'n_neighbors': 1, 'p': 2}\n",
      "0.523413 (0.105583) with: {'leaf_size': 6, 'n_neighbors': 1, 'p': 3}\n",
      "0.543849 (0.038786) with: {'leaf_size': 6, 'n_neighbors': 2, 'p': 1}\n",
      "0.587500 (0.066168) with: {'leaf_size': 6, 'n_neighbors': 2, 'p': 2}\n",
      "0.587500 (0.046646) with: {'leaf_size': 6, 'n_neighbors': 2, 'p': 3}\n",
      "0.565873 (0.113937) with: {'leaf_size': 6, 'n_neighbors': 3, 'p': 1}\n",
      "0.600595 (0.056107) with: {'leaf_size': 6, 'n_neighbors': 3, 'p': 2}\n",
      "0.607341 (0.087806) with: {'leaf_size': 6, 'n_neighbors': 3, 'p': 3}\n",
      "0.539484 (0.096251) with: {'leaf_size': 6, 'n_neighbors': 4, 'p': 1}\n",
      "0.544048 (0.050358) with: {'leaf_size': 6, 'n_neighbors': 4, 'p': 2}\n",
      "0.540079 (0.094515) with: {'leaf_size': 6, 'n_neighbors': 4, 'p': 3}\n",
      "0.525992 (0.093386) with: {'leaf_size': 6, 'n_neighbors': 5, 'p': 1}\n",
      "0.508532 (0.081076) with: {'leaf_size': 6, 'n_neighbors': 5, 'p': 2}\n",
      "0.560317 (0.115682) with: {'leaf_size': 6, 'n_neighbors': 5, 'p': 3}\n",
      "0.510317 (0.091428) with: {'leaf_size': 6, 'n_neighbors': 6, 'p': 1}\n",
      "0.473214 (0.100841) with: {'leaf_size': 6, 'n_neighbors': 6, 'p': 2}\n",
      "0.540873 (0.104108) with: {'leaf_size': 6, 'n_neighbors': 6, 'p': 3}\n",
      "0.481548 (0.096975) with: {'leaf_size': 6, 'n_neighbors': 7, 'p': 1}\n",
      "0.453175 (0.118846) with: {'leaf_size': 6, 'n_neighbors': 7, 'p': 2}\n",
      "0.481944 (0.121172) with: {'leaf_size': 6, 'n_neighbors': 7, 'p': 3}\n",
      "0.426984 (0.112536) with: {'leaf_size': 6, 'n_neighbors': 8, 'p': 1}\n",
      "0.452381 (0.111149) with: {'leaf_size': 6, 'n_neighbors': 8, 'p': 2}\n",
      "0.499405 (0.139873) with: {'leaf_size': 6, 'n_neighbors': 8, 'p': 3}\n",
      "0.461508 (0.098310) with: {'leaf_size': 6, 'n_neighbors': 9, 'p': 1}\n",
      "0.490873 (0.099143) with: {'leaf_size': 6, 'n_neighbors': 9, 'p': 2}\n",
      "0.467460 (0.091810) with: {'leaf_size': 6, 'n_neighbors': 9, 'p': 3}\n",
      "0.486310 (0.077597) with: {'leaf_size': 6, 'n_neighbors': 10, 'p': 1}\n",
      "0.468056 (0.097339) with: {'leaf_size': 6, 'n_neighbors': 10, 'p': 2}\n",
      "0.446627 (0.113253) with: {'leaf_size': 6, 'n_neighbors': 10, 'p': 3}\n",
      "0.425000 (0.084903) with: {'leaf_size': 6, 'n_neighbors': 11, 'p': 1}\n",
      "0.412500 (0.064578) with: {'leaf_size': 6, 'n_neighbors': 11, 'p': 2}\n",
      "0.416468 (0.081431) with: {'leaf_size': 6, 'n_neighbors': 11, 'p': 3}\n",
      "0.374802 (0.105168) with: {'leaf_size': 6, 'n_neighbors': 12, 'p': 1}\n",
      "0.441270 (0.052104) with: {'leaf_size': 6, 'n_neighbors': 12, 'p': 2}\n",
      "0.424603 (0.042739) with: {'leaf_size': 6, 'n_neighbors': 12, 'p': 3}\n",
      "0.461508 (0.097749) with: {'leaf_size': 6, 'n_neighbors': 13, 'p': 1}\n",
      "0.430754 (0.120402) with: {'leaf_size': 6, 'n_neighbors': 13, 'p': 2}\n",
      "0.451389 (0.091871) with: {'leaf_size': 6, 'n_neighbors': 13, 'p': 3}\n",
      "0.399206 (0.135522) with: {'leaf_size': 6, 'n_neighbors': 14, 'p': 1}\n",
      "0.487698 (0.144563) with: {'leaf_size': 6, 'n_neighbors': 14, 'p': 2}\n",
      "0.466468 (0.081512) with: {'leaf_size': 6, 'n_neighbors': 14, 'p': 3}\n",
      "0.000000 (0.000000) with: {'leaf_size': 7, 'n_neighbors': 0, 'p': 1}\n",
      "0.000000 (0.000000) with: {'leaf_size': 7, 'n_neighbors': 0, 'p': 2}\n",
      "0.000000 (0.000000) with: {'leaf_size': 7, 'n_neighbors': 0, 'p': 3}\n",
      "0.486111 (0.074070) with: {'leaf_size': 7, 'n_neighbors': 1, 'p': 1}\n",
      "0.520635 (0.108785) with: {'leaf_size': 7, 'n_neighbors': 1, 'p': 2}\n",
      "0.523413 (0.105583) with: {'leaf_size': 7, 'n_neighbors': 1, 'p': 3}\n",
      "0.543849 (0.038786) with: {'leaf_size': 7, 'n_neighbors': 2, 'p': 1}\n",
      "0.587500 (0.066168) with: {'leaf_size': 7, 'n_neighbors': 2, 'p': 2}\n",
      "0.587500 (0.046646) with: {'leaf_size': 7, 'n_neighbors': 2, 'p': 3}\n",
      "0.565873 (0.113937) with: {'leaf_size': 7, 'n_neighbors': 3, 'p': 1}\n",
      "0.600595 (0.056107) with: {'leaf_size': 7, 'n_neighbors': 3, 'p': 2}\n",
      "0.607341 (0.087806) with: {'leaf_size': 7, 'n_neighbors': 3, 'p': 3}\n",
      "0.539484 (0.096251) with: {'leaf_size': 7, 'n_neighbors': 4, 'p': 1}\n",
      "0.544048 (0.050358) with: {'leaf_size': 7, 'n_neighbors': 4, 'p': 2}\n",
      "0.540079 (0.094515) with: {'leaf_size': 7, 'n_neighbors': 4, 'p': 3}\n",
      "0.525992 (0.093386) with: {'leaf_size': 7, 'n_neighbors': 5, 'p': 1}\n",
      "0.508532 (0.081076) with: {'leaf_size': 7, 'n_neighbors': 5, 'p': 2}\n",
      "0.560317 (0.115682) with: {'leaf_size': 7, 'n_neighbors': 5, 'p': 3}\n",
      "0.510317 (0.091428) with: {'leaf_size': 7, 'n_neighbors': 6, 'p': 1}\n",
      "0.473214 (0.100841) with: {'leaf_size': 7, 'n_neighbors': 6, 'p': 2}\n",
      "0.540873 (0.104108) with: {'leaf_size': 7, 'n_neighbors': 6, 'p': 3}\n",
      "0.481548 (0.096975) with: {'leaf_size': 7, 'n_neighbors': 7, 'p': 1}\n",
      "0.453175 (0.118846) with: {'leaf_size': 7, 'n_neighbors': 7, 'p': 2}\n",
      "0.481944 (0.121172) with: {'leaf_size': 7, 'n_neighbors': 7, 'p': 3}\n",
      "0.426984 (0.112536) with: {'leaf_size': 7, 'n_neighbors': 8, 'p': 1}\n",
      "0.452381 (0.111149) with: {'leaf_size': 7, 'n_neighbors': 8, 'p': 2}\n",
      "0.499405 (0.139873) with: {'leaf_size': 7, 'n_neighbors': 8, 'p': 3}\n",
      "0.461508 (0.098310) with: {'leaf_size': 7, 'n_neighbors': 9, 'p': 1}\n",
      "0.490873 (0.099143) with: {'leaf_size': 7, 'n_neighbors': 9, 'p': 2}\n",
      "0.467460 (0.091810) with: {'leaf_size': 7, 'n_neighbors': 9, 'p': 3}\n",
      "0.486310 (0.077597) with: {'leaf_size': 7, 'n_neighbors': 10, 'p': 1}\n",
      "0.468056 (0.097339) with: {'leaf_size': 7, 'n_neighbors': 10, 'p': 2}\n",
      "0.446627 (0.113253) with: {'leaf_size': 7, 'n_neighbors': 10, 'p': 3}\n",
      "0.425000 (0.084903) with: {'leaf_size': 7, 'n_neighbors': 11, 'p': 1}\n",
      "0.412500 (0.064578) with: {'leaf_size': 7, 'n_neighbors': 11, 'p': 2}\n",
      "0.416468 (0.081431) with: {'leaf_size': 7, 'n_neighbors': 11, 'p': 3}\n",
      "0.374802 (0.105168) with: {'leaf_size': 7, 'n_neighbors': 12, 'p': 1}\n",
      "0.441270 (0.052104) with: {'leaf_size': 7, 'n_neighbors': 12, 'p': 2}\n",
      "0.424603 (0.042739) with: {'leaf_size': 7, 'n_neighbors': 12, 'p': 3}\n",
      "0.461508 (0.097749) with: {'leaf_size': 7, 'n_neighbors': 13, 'p': 1}\n",
      "0.430754 (0.120402) with: {'leaf_size': 7, 'n_neighbors': 13, 'p': 2}\n",
      "0.451389 (0.091871) with: {'leaf_size': 7, 'n_neighbors': 13, 'p': 3}\n",
      "0.399206 (0.135522) with: {'leaf_size': 7, 'n_neighbors': 14, 'p': 1}\n",
      "0.487698 (0.144563) with: {'leaf_size': 7, 'n_neighbors': 14, 'p': 2}\n",
      "0.466468 (0.081512) with: {'leaf_size': 7, 'n_neighbors': 14, 'p': 3}\n",
      "0.000000 (0.000000) with: {'leaf_size': 8, 'n_neighbors': 0, 'p': 1}\n",
      "0.000000 (0.000000) with: {'leaf_size': 8, 'n_neighbors': 0, 'p': 2}\n",
      "0.000000 (0.000000) with: {'leaf_size': 8, 'n_neighbors': 0, 'p': 3}\n",
      "0.486111 (0.074070) with: {'leaf_size': 8, 'n_neighbors': 1, 'p': 1}\n",
      "0.520635 (0.108785) with: {'leaf_size': 8, 'n_neighbors': 1, 'p': 2}\n",
      "0.523413 (0.105583) with: {'leaf_size': 8, 'n_neighbors': 1, 'p': 3}\n",
      "0.543849 (0.038786) with: {'leaf_size': 8, 'n_neighbors': 2, 'p': 1}\n",
      "0.587500 (0.066168) with: {'leaf_size': 8, 'n_neighbors': 2, 'p': 2}\n",
      "0.587500 (0.046646) with: {'leaf_size': 8, 'n_neighbors': 2, 'p': 3}\n",
      "0.565873 (0.113937) with: {'leaf_size': 8, 'n_neighbors': 3, 'p': 1}\n",
      "0.600595 (0.056107) with: {'leaf_size': 8, 'n_neighbors': 3, 'p': 2}\n",
      "0.607341 (0.087806) with: {'leaf_size': 8, 'n_neighbors': 3, 'p': 3}\n",
      "0.539484 (0.096251) with: {'leaf_size': 8, 'n_neighbors': 4, 'p': 1}\n",
      "0.544048 (0.050358) with: {'leaf_size': 8, 'n_neighbors': 4, 'p': 2}\n",
      "0.540079 (0.094515) with: {'leaf_size': 8, 'n_neighbors': 4, 'p': 3}\n",
      "0.525992 (0.093386) with: {'leaf_size': 8, 'n_neighbors': 5, 'p': 1}\n",
      "0.508532 (0.081076) with: {'leaf_size': 8, 'n_neighbors': 5, 'p': 2}\n",
      "0.560317 (0.115682) with: {'leaf_size': 8, 'n_neighbors': 5, 'p': 3}\n",
      "0.510317 (0.091428) with: {'leaf_size': 8, 'n_neighbors': 6, 'p': 1}\n",
      "0.473214 (0.100841) with: {'leaf_size': 8, 'n_neighbors': 6, 'p': 2}\n",
      "0.540873 (0.104108) with: {'leaf_size': 8, 'n_neighbors': 6, 'p': 3}\n",
      "0.481548 (0.096975) with: {'leaf_size': 8, 'n_neighbors': 7, 'p': 1}\n",
      "0.453175 (0.118846) with: {'leaf_size': 8, 'n_neighbors': 7, 'p': 2}\n",
      "0.481944 (0.121172) with: {'leaf_size': 8, 'n_neighbors': 7, 'p': 3}\n",
      "0.426984 (0.112536) with: {'leaf_size': 8, 'n_neighbors': 8, 'p': 1}\n",
      "0.452381 (0.111149) with: {'leaf_size': 8, 'n_neighbors': 8, 'p': 2}\n",
      "0.499405 (0.139873) with: {'leaf_size': 8, 'n_neighbors': 8, 'p': 3}\n",
      "0.461508 (0.098310) with: {'leaf_size': 8, 'n_neighbors': 9, 'p': 1}\n",
      "0.490873 (0.099143) with: {'leaf_size': 8, 'n_neighbors': 9, 'p': 2}\n",
      "0.467460 (0.091810) with: {'leaf_size': 8, 'n_neighbors': 9, 'p': 3}\n",
      "0.486310 (0.077597) with: {'leaf_size': 8, 'n_neighbors': 10, 'p': 1}\n",
      "0.468056 (0.097339) with: {'leaf_size': 8, 'n_neighbors': 10, 'p': 2}\n",
      "0.446627 (0.113253) with: {'leaf_size': 8, 'n_neighbors': 10, 'p': 3}\n",
      "0.425000 (0.084903) with: {'leaf_size': 8, 'n_neighbors': 11, 'p': 1}\n",
      "0.412500 (0.064578) with: {'leaf_size': 8, 'n_neighbors': 11, 'p': 2}\n",
      "0.416468 (0.081431) with: {'leaf_size': 8, 'n_neighbors': 11, 'p': 3}\n",
      "0.374802 (0.105168) with: {'leaf_size': 8, 'n_neighbors': 12, 'p': 1}\n",
      "0.441270 (0.052104) with: {'leaf_size': 8, 'n_neighbors': 12, 'p': 2}\n",
      "0.424603 (0.042739) with: {'leaf_size': 8, 'n_neighbors': 12, 'p': 3}\n",
      "0.461508 (0.097749) with: {'leaf_size': 8, 'n_neighbors': 13, 'p': 1}\n",
      "0.430754 (0.120402) with: {'leaf_size': 8, 'n_neighbors': 13, 'p': 2}\n",
      "0.451389 (0.091871) with: {'leaf_size': 8, 'n_neighbors': 13, 'p': 3}\n",
      "0.399206 (0.135522) with: {'leaf_size': 8, 'n_neighbors': 14, 'p': 1}\n",
      "0.487698 (0.144563) with: {'leaf_size': 8, 'n_neighbors': 14, 'p': 2}\n",
      "0.466468 (0.081512) with: {'leaf_size': 8, 'n_neighbors': 14, 'p': 3}\n",
      "0.000000 (0.000000) with: {'leaf_size': 9, 'n_neighbors': 0, 'p': 1}\n",
      "0.000000 (0.000000) with: {'leaf_size': 9, 'n_neighbors': 0, 'p': 2}\n",
      "0.000000 (0.000000) with: {'leaf_size': 9, 'n_neighbors': 0, 'p': 3}\n",
      "0.486111 (0.074070) with: {'leaf_size': 9, 'n_neighbors': 1, 'p': 1}\n",
      "0.520635 (0.108785) with: {'leaf_size': 9, 'n_neighbors': 1, 'p': 2}\n",
      "0.523413 (0.105583) with: {'leaf_size': 9, 'n_neighbors': 1, 'p': 3}\n",
      "0.543849 (0.038786) with: {'leaf_size': 9, 'n_neighbors': 2, 'p': 1}\n",
      "0.587500 (0.066168) with: {'leaf_size': 9, 'n_neighbors': 2, 'p': 2}\n",
      "0.587500 (0.046646) with: {'leaf_size': 9, 'n_neighbors': 2, 'p': 3}\n",
      "0.565873 (0.113937) with: {'leaf_size': 9, 'n_neighbors': 3, 'p': 1}\n",
      "0.600595 (0.056107) with: {'leaf_size': 9, 'n_neighbors': 3, 'p': 2}\n",
      "0.607341 (0.087806) with: {'leaf_size': 9, 'n_neighbors': 3, 'p': 3}\n",
      "0.539484 (0.096251) with: {'leaf_size': 9, 'n_neighbors': 4, 'p': 1}\n",
      "0.544048 (0.050358) with: {'leaf_size': 9, 'n_neighbors': 4, 'p': 2}\n",
      "0.540079 (0.094515) with: {'leaf_size': 9, 'n_neighbors': 4, 'p': 3}\n",
      "0.525992 (0.093386) with: {'leaf_size': 9, 'n_neighbors': 5, 'p': 1}\n",
      "0.508532 (0.081076) with: {'leaf_size': 9, 'n_neighbors': 5, 'p': 2}\n",
      "0.560317 (0.115682) with: {'leaf_size': 9, 'n_neighbors': 5, 'p': 3}\n",
      "0.510317 (0.091428) with: {'leaf_size': 9, 'n_neighbors': 6, 'p': 1}\n",
      "0.473214 (0.100841) with: {'leaf_size': 9, 'n_neighbors': 6, 'p': 2}\n",
      "0.540873 (0.104108) with: {'leaf_size': 9, 'n_neighbors': 6, 'p': 3}\n",
      "0.481548 (0.096975) with: {'leaf_size': 9, 'n_neighbors': 7, 'p': 1}\n",
      "0.453175 (0.118846) with: {'leaf_size': 9, 'n_neighbors': 7, 'p': 2}\n",
      "0.481944 (0.121172) with: {'leaf_size': 9, 'n_neighbors': 7, 'p': 3}\n",
      "0.426984 (0.112536) with: {'leaf_size': 9, 'n_neighbors': 8, 'p': 1}\n",
      "0.452381 (0.111149) with: {'leaf_size': 9, 'n_neighbors': 8, 'p': 2}\n",
      "0.499405 (0.139873) with: {'leaf_size': 9, 'n_neighbors': 8, 'p': 3}\n",
      "0.461508 (0.098310) with: {'leaf_size': 9, 'n_neighbors': 9, 'p': 1}\n",
      "0.490873 (0.099143) with: {'leaf_size': 9, 'n_neighbors': 9, 'p': 2}\n",
      "0.467460 (0.091810) with: {'leaf_size': 9, 'n_neighbors': 9, 'p': 3}\n",
      "0.486310 (0.077597) with: {'leaf_size': 9, 'n_neighbors': 10, 'p': 1}\n",
      "0.468056 (0.097339) with: {'leaf_size': 9, 'n_neighbors': 10, 'p': 2}\n",
      "0.446627 (0.113253) with: {'leaf_size': 9, 'n_neighbors': 10, 'p': 3}\n",
      "0.425000 (0.084903) with: {'leaf_size': 9, 'n_neighbors': 11, 'p': 1}\n",
      "0.412500 (0.064578) with: {'leaf_size': 9, 'n_neighbors': 11, 'p': 2}\n",
      "0.416468 (0.081431) with: {'leaf_size': 9, 'n_neighbors': 11, 'p': 3}\n",
      "0.374802 (0.105168) with: {'leaf_size': 9, 'n_neighbors': 12, 'p': 1}\n",
      "0.441270 (0.052104) with: {'leaf_size': 9, 'n_neighbors': 12, 'p': 2}\n",
      "0.424603 (0.042739) with: {'leaf_size': 9, 'n_neighbors': 12, 'p': 3}\n",
      "0.461508 (0.097749) with: {'leaf_size': 9, 'n_neighbors': 13, 'p': 1}\n",
      "0.430754 (0.120402) with: {'leaf_size': 9, 'n_neighbors': 13, 'p': 2}\n",
      "0.451389 (0.091871) with: {'leaf_size': 9, 'n_neighbors': 13, 'p': 3}\n",
      "0.399206 (0.135522) with: {'leaf_size': 9, 'n_neighbors': 14, 'p': 1}\n",
      "0.487698 (0.144563) with: {'leaf_size': 9, 'n_neighbors': 14, 'p': 2}\n",
      "0.466468 (0.081512) with: {'leaf_size': 9, 'n_neighbors': 14, 'p': 3}\n",
      "0.000000 (0.000000) with: {'leaf_size': 10, 'n_neighbors': 0, 'p': 1}\n",
      "0.000000 (0.000000) with: {'leaf_size': 10, 'n_neighbors': 0, 'p': 2}\n",
      "0.000000 (0.000000) with: {'leaf_size': 10, 'n_neighbors': 0, 'p': 3}\n",
      "0.486111 (0.074070) with: {'leaf_size': 10, 'n_neighbors': 1, 'p': 1}\n",
      "0.520635 (0.108785) with: {'leaf_size': 10, 'n_neighbors': 1, 'p': 2}\n",
      "0.523413 (0.105583) with: {'leaf_size': 10, 'n_neighbors': 1, 'p': 3}\n",
      "0.543849 (0.038786) with: {'leaf_size': 10, 'n_neighbors': 2, 'p': 1}\n",
      "0.587500 (0.066168) with: {'leaf_size': 10, 'n_neighbors': 2, 'p': 2}\n",
      "0.587500 (0.046646) with: {'leaf_size': 10, 'n_neighbors': 2, 'p': 3}\n",
      "0.565873 (0.113937) with: {'leaf_size': 10, 'n_neighbors': 3, 'p': 1}\n",
      "0.600595 (0.056107) with: {'leaf_size': 10, 'n_neighbors': 3, 'p': 2}\n",
      "0.607341 (0.087806) with: {'leaf_size': 10, 'n_neighbors': 3, 'p': 3}\n",
      "0.539484 (0.096251) with: {'leaf_size': 10, 'n_neighbors': 4, 'p': 1}\n",
      "0.544048 (0.050358) with: {'leaf_size': 10, 'n_neighbors': 4, 'p': 2}\n",
      "0.540079 (0.094515) with: {'leaf_size': 10, 'n_neighbors': 4, 'p': 3}\n",
      "0.525992 (0.093386) with: {'leaf_size': 10, 'n_neighbors': 5, 'p': 1}\n",
      "0.508532 (0.081076) with: {'leaf_size': 10, 'n_neighbors': 5, 'p': 2}\n",
      "0.560317 (0.115682) with: {'leaf_size': 10, 'n_neighbors': 5, 'p': 3}\n",
      "0.510317 (0.091428) with: {'leaf_size': 10, 'n_neighbors': 6, 'p': 1}\n",
      "0.473214 (0.100841) with: {'leaf_size': 10, 'n_neighbors': 6, 'p': 2}\n",
      "0.540873 (0.104108) with: {'leaf_size': 10, 'n_neighbors': 6, 'p': 3}\n",
      "0.481548 (0.096975) with: {'leaf_size': 10, 'n_neighbors': 7, 'p': 1}\n",
      "0.453175 (0.118846) with: {'leaf_size': 10, 'n_neighbors': 7, 'p': 2}\n",
      "0.481944 (0.121172) with: {'leaf_size': 10, 'n_neighbors': 7, 'p': 3}\n",
      "0.426984 (0.112536) with: {'leaf_size': 10, 'n_neighbors': 8, 'p': 1}\n",
      "0.452381 (0.111149) with: {'leaf_size': 10, 'n_neighbors': 8, 'p': 2}\n",
      "0.499405 (0.139873) with: {'leaf_size': 10, 'n_neighbors': 8, 'p': 3}\n",
      "0.461508 (0.098310) with: {'leaf_size': 10, 'n_neighbors': 9, 'p': 1}\n",
      "0.490873 (0.099143) with: {'leaf_size': 10, 'n_neighbors': 9, 'p': 2}\n",
      "0.467460 (0.091810) with: {'leaf_size': 10, 'n_neighbors': 9, 'p': 3}\n",
      "0.486310 (0.077597) with: {'leaf_size': 10, 'n_neighbors': 10, 'p': 1}\n",
      "0.468056 (0.097339) with: {'leaf_size': 10, 'n_neighbors': 10, 'p': 2}\n",
      "0.446627 (0.113253) with: {'leaf_size': 10, 'n_neighbors': 10, 'p': 3}\n",
      "0.425000 (0.084903) with: {'leaf_size': 10, 'n_neighbors': 11, 'p': 1}\n",
      "0.412500 (0.064578) with: {'leaf_size': 10, 'n_neighbors': 11, 'p': 2}\n",
      "0.416468 (0.081431) with: {'leaf_size': 10, 'n_neighbors': 11, 'p': 3}\n",
      "0.374802 (0.105168) with: {'leaf_size': 10, 'n_neighbors': 12, 'p': 1}\n",
      "0.441270 (0.052104) with: {'leaf_size': 10, 'n_neighbors': 12, 'p': 2}\n",
      "0.424603 (0.042739) with: {'leaf_size': 10, 'n_neighbors': 12, 'p': 3}\n",
      "0.461508 (0.097749) with: {'leaf_size': 10, 'n_neighbors': 13, 'p': 1}\n",
      "0.430754 (0.120402) with: {'leaf_size': 10, 'n_neighbors': 13, 'p': 2}\n",
      "0.451389 (0.091871) with: {'leaf_size': 10, 'n_neighbors': 13, 'p': 3}\n",
      "0.399206 (0.135522) with: {'leaf_size': 10, 'n_neighbors': 14, 'p': 1}\n",
      "0.487698 (0.144563) with: {'leaf_size': 10, 'n_neighbors': 14, 'p': 2}\n",
      "0.466468 (0.081512) with: {'leaf_size': 10, 'n_neighbors': 14, 'p': 3}\n",
      "0.000000 (0.000000) with: {'leaf_size': 11, 'n_neighbors': 0, 'p': 1}\n",
      "0.000000 (0.000000) with: {'leaf_size': 11, 'n_neighbors': 0, 'p': 2}\n",
      "0.000000 (0.000000) with: {'leaf_size': 11, 'n_neighbors': 0, 'p': 3}\n",
      "0.486111 (0.074070) with: {'leaf_size': 11, 'n_neighbors': 1, 'p': 1}\n",
      "0.520635 (0.108785) with: {'leaf_size': 11, 'n_neighbors': 1, 'p': 2}\n",
      "0.523413 (0.105583) with: {'leaf_size': 11, 'n_neighbors': 1, 'p': 3}\n",
      "0.543849 (0.038786) with: {'leaf_size': 11, 'n_neighbors': 2, 'p': 1}\n",
      "0.587500 (0.066168) with: {'leaf_size': 11, 'n_neighbors': 2, 'p': 2}\n",
      "0.587500 (0.046646) with: {'leaf_size': 11, 'n_neighbors': 2, 'p': 3}\n",
      "0.565873 (0.113937) with: {'leaf_size': 11, 'n_neighbors': 3, 'p': 1}\n",
      "0.600595 (0.056107) with: {'leaf_size': 11, 'n_neighbors': 3, 'p': 2}\n",
      "0.607341 (0.087806) with: {'leaf_size': 11, 'n_neighbors': 3, 'p': 3}\n",
      "0.539484 (0.096251) with: {'leaf_size': 11, 'n_neighbors': 4, 'p': 1}\n",
      "0.544048 (0.050358) with: {'leaf_size': 11, 'n_neighbors': 4, 'p': 2}\n",
      "0.540079 (0.094515) with: {'leaf_size': 11, 'n_neighbors': 4, 'p': 3}\n",
      "0.525992 (0.093386) with: {'leaf_size': 11, 'n_neighbors': 5, 'p': 1}\n",
      "0.508532 (0.081076) with: {'leaf_size': 11, 'n_neighbors': 5, 'p': 2}\n",
      "0.560317 (0.115682) with: {'leaf_size': 11, 'n_neighbors': 5, 'p': 3}\n",
      "0.510317 (0.091428) with: {'leaf_size': 11, 'n_neighbors': 6, 'p': 1}\n",
      "0.473214 (0.100841) with: {'leaf_size': 11, 'n_neighbors': 6, 'p': 2}\n",
      "0.540873 (0.104108) with: {'leaf_size': 11, 'n_neighbors': 6, 'p': 3}\n",
      "0.481548 (0.096975) with: {'leaf_size': 11, 'n_neighbors': 7, 'p': 1}\n",
      "0.453175 (0.118846) with: {'leaf_size': 11, 'n_neighbors': 7, 'p': 2}\n",
      "0.481944 (0.121172) with: {'leaf_size': 11, 'n_neighbors': 7, 'p': 3}\n",
      "0.426984 (0.112536) with: {'leaf_size': 11, 'n_neighbors': 8, 'p': 1}\n",
      "0.452381 (0.111149) with: {'leaf_size': 11, 'n_neighbors': 8, 'p': 2}\n",
      "0.499405 (0.139873) with: {'leaf_size': 11, 'n_neighbors': 8, 'p': 3}\n",
      "0.461508 (0.098310) with: {'leaf_size': 11, 'n_neighbors': 9, 'p': 1}\n",
      "0.490873 (0.099143) with: {'leaf_size': 11, 'n_neighbors': 9, 'p': 2}\n",
      "0.467460 (0.091810) with: {'leaf_size': 11, 'n_neighbors': 9, 'p': 3}\n",
      "0.486310 (0.077597) with: {'leaf_size': 11, 'n_neighbors': 10, 'p': 1}\n",
      "0.468056 (0.097339) with: {'leaf_size': 11, 'n_neighbors': 10, 'p': 2}\n",
      "0.446627 (0.113253) with: {'leaf_size': 11, 'n_neighbors': 10, 'p': 3}\n",
      "0.425000 (0.084903) with: {'leaf_size': 11, 'n_neighbors': 11, 'p': 1}\n",
      "0.412500 (0.064578) with: {'leaf_size': 11, 'n_neighbors': 11, 'p': 2}\n",
      "0.416468 (0.081431) with: {'leaf_size': 11, 'n_neighbors': 11, 'p': 3}\n",
      "0.374802 (0.105168) with: {'leaf_size': 11, 'n_neighbors': 12, 'p': 1}\n",
      "0.441270 (0.052104) with: {'leaf_size': 11, 'n_neighbors': 12, 'p': 2}\n",
      "0.424603 (0.042739) with: {'leaf_size': 11, 'n_neighbors': 12, 'p': 3}\n",
      "0.461508 (0.097749) with: {'leaf_size': 11, 'n_neighbors': 13, 'p': 1}\n",
      "0.430754 (0.120402) with: {'leaf_size': 11, 'n_neighbors': 13, 'p': 2}\n",
      "0.451389 (0.091871) with: {'leaf_size': 11, 'n_neighbors': 13, 'p': 3}\n",
      "0.399206 (0.135522) with: {'leaf_size': 11, 'n_neighbors': 14, 'p': 1}\n",
      "0.487698 (0.144563) with: {'leaf_size': 11, 'n_neighbors': 14, 'p': 2}\n",
      "0.466468 (0.081512) with: {'leaf_size': 11, 'n_neighbors': 14, 'p': 3}\n",
      "0.000000 (0.000000) with: {'leaf_size': 12, 'n_neighbors': 0, 'p': 1}\n",
      "0.000000 (0.000000) with: {'leaf_size': 12, 'n_neighbors': 0, 'p': 2}\n",
      "0.000000 (0.000000) with: {'leaf_size': 12, 'n_neighbors': 0, 'p': 3}\n",
      "0.486111 (0.074070) with: {'leaf_size': 12, 'n_neighbors': 1, 'p': 1}\n",
      "0.520635 (0.108785) with: {'leaf_size': 12, 'n_neighbors': 1, 'p': 2}\n",
      "0.523413 (0.105583) with: {'leaf_size': 12, 'n_neighbors': 1, 'p': 3}\n",
      "0.543849 (0.038786) with: {'leaf_size': 12, 'n_neighbors': 2, 'p': 1}\n",
      "0.587500 (0.066168) with: {'leaf_size': 12, 'n_neighbors': 2, 'p': 2}\n",
      "0.587500 (0.046646) with: {'leaf_size': 12, 'n_neighbors': 2, 'p': 3}\n",
      "0.565873 (0.113937) with: {'leaf_size': 12, 'n_neighbors': 3, 'p': 1}\n",
      "0.600595 (0.056107) with: {'leaf_size': 12, 'n_neighbors': 3, 'p': 2}\n",
      "0.607341 (0.087806) with: {'leaf_size': 12, 'n_neighbors': 3, 'p': 3}\n",
      "0.539484 (0.096251) with: {'leaf_size': 12, 'n_neighbors': 4, 'p': 1}\n",
      "0.544048 (0.050358) with: {'leaf_size': 12, 'n_neighbors': 4, 'p': 2}\n",
      "0.540079 (0.094515) with: {'leaf_size': 12, 'n_neighbors': 4, 'p': 3}\n",
      "0.525992 (0.093386) with: {'leaf_size': 12, 'n_neighbors': 5, 'p': 1}\n",
      "0.508532 (0.081076) with: {'leaf_size': 12, 'n_neighbors': 5, 'p': 2}\n",
      "0.560317 (0.115682) with: {'leaf_size': 12, 'n_neighbors': 5, 'p': 3}\n",
      "0.510317 (0.091428) with: {'leaf_size': 12, 'n_neighbors': 6, 'p': 1}\n",
      "0.473214 (0.100841) with: {'leaf_size': 12, 'n_neighbors': 6, 'p': 2}\n",
      "0.540873 (0.104108) with: {'leaf_size': 12, 'n_neighbors': 6, 'p': 3}\n",
      "0.481548 (0.096975) with: {'leaf_size': 12, 'n_neighbors': 7, 'p': 1}\n",
      "0.453175 (0.118846) with: {'leaf_size': 12, 'n_neighbors': 7, 'p': 2}\n",
      "0.481944 (0.121172) with: {'leaf_size': 12, 'n_neighbors': 7, 'p': 3}\n",
      "0.426984 (0.112536) with: {'leaf_size': 12, 'n_neighbors': 8, 'p': 1}\n",
      "0.452381 (0.111149) with: {'leaf_size': 12, 'n_neighbors': 8, 'p': 2}\n",
      "0.499405 (0.139873) with: {'leaf_size': 12, 'n_neighbors': 8, 'p': 3}\n",
      "0.461508 (0.098310) with: {'leaf_size': 12, 'n_neighbors': 9, 'p': 1}\n",
      "0.490873 (0.099143) with: {'leaf_size': 12, 'n_neighbors': 9, 'p': 2}\n",
      "0.467460 (0.091810) with: {'leaf_size': 12, 'n_neighbors': 9, 'p': 3}\n",
      "0.486310 (0.077597) with: {'leaf_size': 12, 'n_neighbors': 10, 'p': 1}\n",
      "0.468056 (0.097339) with: {'leaf_size': 12, 'n_neighbors': 10, 'p': 2}\n",
      "0.446627 (0.113253) with: {'leaf_size': 12, 'n_neighbors': 10, 'p': 3}\n",
      "0.425000 (0.084903) with: {'leaf_size': 12, 'n_neighbors': 11, 'p': 1}\n",
      "0.412500 (0.064578) with: {'leaf_size': 12, 'n_neighbors': 11, 'p': 2}\n",
      "0.416468 (0.081431) with: {'leaf_size': 12, 'n_neighbors': 11, 'p': 3}\n",
      "0.374802 (0.105168) with: {'leaf_size': 12, 'n_neighbors': 12, 'p': 1}\n",
      "0.441270 (0.052104) with: {'leaf_size': 12, 'n_neighbors': 12, 'p': 2}\n",
      "0.424603 (0.042739) with: {'leaf_size': 12, 'n_neighbors': 12, 'p': 3}\n",
      "0.461508 (0.097749) with: {'leaf_size': 12, 'n_neighbors': 13, 'p': 1}\n",
      "0.430754 (0.120402) with: {'leaf_size': 12, 'n_neighbors': 13, 'p': 2}\n",
      "0.451389 (0.091871) with: {'leaf_size': 12, 'n_neighbors': 13, 'p': 3}\n",
      "0.399206 (0.135522) with: {'leaf_size': 12, 'n_neighbors': 14, 'p': 1}\n",
      "0.487698 (0.144563) with: {'leaf_size': 12, 'n_neighbors': 14, 'p': 2}\n",
      "0.466468 (0.081512) with: {'leaf_size': 12, 'n_neighbors': 14, 'p': 3}\n",
      "0.000000 (0.000000) with: {'leaf_size': 13, 'n_neighbors': 0, 'p': 1}\n",
      "0.000000 (0.000000) with: {'leaf_size': 13, 'n_neighbors': 0, 'p': 2}\n",
      "0.000000 (0.000000) with: {'leaf_size': 13, 'n_neighbors': 0, 'p': 3}\n",
      "0.486111 (0.074070) with: {'leaf_size': 13, 'n_neighbors': 1, 'p': 1}\n",
      "0.520635 (0.108785) with: {'leaf_size': 13, 'n_neighbors': 1, 'p': 2}\n",
      "0.523413 (0.105583) with: {'leaf_size': 13, 'n_neighbors': 1, 'p': 3}\n",
      "0.543849 (0.038786) with: {'leaf_size': 13, 'n_neighbors': 2, 'p': 1}\n",
      "0.587500 (0.066168) with: {'leaf_size': 13, 'n_neighbors': 2, 'p': 2}\n",
      "0.587500 (0.046646) with: {'leaf_size': 13, 'n_neighbors': 2, 'p': 3}\n",
      "0.565873 (0.113937) with: {'leaf_size': 13, 'n_neighbors': 3, 'p': 1}\n",
      "0.600595 (0.056107) with: {'leaf_size': 13, 'n_neighbors': 3, 'p': 2}\n",
      "0.607341 (0.087806) with: {'leaf_size': 13, 'n_neighbors': 3, 'p': 3}\n",
      "0.539484 (0.096251) with: {'leaf_size': 13, 'n_neighbors': 4, 'p': 1}\n",
      "0.544048 (0.050358) with: {'leaf_size': 13, 'n_neighbors': 4, 'p': 2}\n",
      "0.540079 (0.094515) with: {'leaf_size': 13, 'n_neighbors': 4, 'p': 3}\n",
      "0.525992 (0.093386) with: {'leaf_size': 13, 'n_neighbors': 5, 'p': 1}\n",
      "0.508532 (0.081076) with: {'leaf_size': 13, 'n_neighbors': 5, 'p': 2}\n",
      "0.560317 (0.115682) with: {'leaf_size': 13, 'n_neighbors': 5, 'p': 3}\n",
      "0.510317 (0.091428) with: {'leaf_size': 13, 'n_neighbors': 6, 'p': 1}\n",
      "0.473214 (0.100841) with: {'leaf_size': 13, 'n_neighbors': 6, 'p': 2}\n",
      "0.540873 (0.104108) with: {'leaf_size': 13, 'n_neighbors': 6, 'p': 3}\n",
      "0.481548 (0.096975) with: {'leaf_size': 13, 'n_neighbors': 7, 'p': 1}\n",
      "0.453175 (0.118846) with: {'leaf_size': 13, 'n_neighbors': 7, 'p': 2}\n",
      "0.481944 (0.121172) with: {'leaf_size': 13, 'n_neighbors': 7, 'p': 3}\n",
      "0.426984 (0.112536) with: {'leaf_size': 13, 'n_neighbors': 8, 'p': 1}\n",
      "0.452381 (0.111149) with: {'leaf_size': 13, 'n_neighbors': 8, 'p': 2}\n",
      "0.499405 (0.139873) with: {'leaf_size': 13, 'n_neighbors': 8, 'p': 3}\n",
      "0.461508 (0.098310) with: {'leaf_size': 13, 'n_neighbors': 9, 'p': 1}\n",
      "0.490873 (0.099143) with: {'leaf_size': 13, 'n_neighbors': 9, 'p': 2}\n",
      "0.467460 (0.091810) with: {'leaf_size': 13, 'n_neighbors': 9, 'p': 3}\n",
      "0.486310 (0.077597) with: {'leaf_size': 13, 'n_neighbors': 10, 'p': 1}\n",
      "0.468056 (0.097339) with: {'leaf_size': 13, 'n_neighbors': 10, 'p': 2}\n",
      "0.446627 (0.113253) with: {'leaf_size': 13, 'n_neighbors': 10, 'p': 3}\n",
      "0.425000 (0.084903) with: {'leaf_size': 13, 'n_neighbors': 11, 'p': 1}\n",
      "0.412500 (0.064578) with: {'leaf_size': 13, 'n_neighbors': 11, 'p': 2}\n",
      "0.416468 (0.081431) with: {'leaf_size': 13, 'n_neighbors': 11, 'p': 3}\n",
      "0.374802 (0.105168) with: {'leaf_size': 13, 'n_neighbors': 12, 'p': 1}\n",
      "0.441270 (0.052104) with: {'leaf_size': 13, 'n_neighbors': 12, 'p': 2}\n",
      "0.424603 (0.042739) with: {'leaf_size': 13, 'n_neighbors': 12, 'p': 3}\n",
      "0.461508 (0.097749) with: {'leaf_size': 13, 'n_neighbors': 13, 'p': 1}\n",
      "0.430754 (0.120402) with: {'leaf_size': 13, 'n_neighbors': 13, 'p': 2}\n",
      "0.451389 (0.091871) with: {'leaf_size': 13, 'n_neighbors': 13, 'p': 3}\n",
      "0.399206 (0.135522) with: {'leaf_size': 13, 'n_neighbors': 14, 'p': 1}\n",
      "0.487698 (0.144563) with: {'leaf_size': 13, 'n_neighbors': 14, 'p': 2}\n",
      "0.466468 (0.081512) with: {'leaf_size': 13, 'n_neighbors': 14, 'p': 3}\n",
      "0.000000 (0.000000) with: {'leaf_size': 14, 'n_neighbors': 0, 'p': 1}\n",
      "0.000000 (0.000000) with: {'leaf_size': 14, 'n_neighbors': 0, 'p': 2}\n",
      "0.000000 (0.000000) with: {'leaf_size': 14, 'n_neighbors': 0, 'p': 3}\n",
      "0.486111 (0.074070) with: {'leaf_size': 14, 'n_neighbors': 1, 'p': 1}\n",
      "0.520635 (0.108785) with: {'leaf_size': 14, 'n_neighbors': 1, 'p': 2}\n",
      "0.523413 (0.105583) with: {'leaf_size': 14, 'n_neighbors': 1, 'p': 3}\n",
      "0.543849 (0.038786) with: {'leaf_size': 14, 'n_neighbors': 2, 'p': 1}\n",
      "0.587500 (0.066168) with: {'leaf_size': 14, 'n_neighbors': 2, 'p': 2}\n",
      "0.587500 (0.046646) with: {'leaf_size': 14, 'n_neighbors': 2, 'p': 3}\n",
      "0.565873 (0.113937) with: {'leaf_size': 14, 'n_neighbors': 3, 'p': 1}\n",
      "0.600595 (0.056107) with: {'leaf_size': 14, 'n_neighbors': 3, 'p': 2}\n",
      "0.607341 (0.087806) with: {'leaf_size': 14, 'n_neighbors': 3, 'p': 3}\n",
      "0.539484 (0.096251) with: {'leaf_size': 14, 'n_neighbors': 4, 'p': 1}\n",
      "0.544048 (0.050358) with: {'leaf_size': 14, 'n_neighbors': 4, 'p': 2}\n",
      "0.540079 (0.094515) with: {'leaf_size': 14, 'n_neighbors': 4, 'p': 3}\n",
      "0.525992 (0.093386) with: {'leaf_size': 14, 'n_neighbors': 5, 'p': 1}\n",
      "0.508532 (0.081076) with: {'leaf_size': 14, 'n_neighbors': 5, 'p': 2}\n",
      "0.560317 (0.115682) with: {'leaf_size': 14, 'n_neighbors': 5, 'p': 3}\n",
      "0.510317 (0.091428) with: {'leaf_size': 14, 'n_neighbors': 6, 'p': 1}\n",
      "0.473214 (0.100841) with: {'leaf_size': 14, 'n_neighbors': 6, 'p': 2}\n",
      "0.540873 (0.104108) with: {'leaf_size': 14, 'n_neighbors': 6, 'p': 3}\n",
      "0.481548 (0.096975) with: {'leaf_size': 14, 'n_neighbors': 7, 'p': 1}\n",
      "0.453175 (0.118846) with: {'leaf_size': 14, 'n_neighbors': 7, 'p': 2}\n",
      "0.481944 (0.121172) with: {'leaf_size': 14, 'n_neighbors': 7, 'p': 3}\n",
      "0.426984 (0.112536) with: {'leaf_size': 14, 'n_neighbors': 8, 'p': 1}\n",
      "0.452381 (0.111149) with: {'leaf_size': 14, 'n_neighbors': 8, 'p': 2}\n",
      "0.499405 (0.139873) with: {'leaf_size': 14, 'n_neighbors': 8, 'p': 3}\n",
      "0.461508 (0.098310) with: {'leaf_size': 14, 'n_neighbors': 9, 'p': 1}\n",
      "0.490873 (0.099143) with: {'leaf_size': 14, 'n_neighbors': 9, 'p': 2}\n",
      "0.467460 (0.091810) with: {'leaf_size': 14, 'n_neighbors': 9, 'p': 3}\n",
      "0.486310 (0.077597) with: {'leaf_size': 14, 'n_neighbors': 10, 'p': 1}\n",
      "0.468056 (0.097339) with: {'leaf_size': 14, 'n_neighbors': 10, 'p': 2}\n",
      "0.446627 (0.113253) with: {'leaf_size': 14, 'n_neighbors': 10, 'p': 3}\n",
      "0.425000 (0.084903) with: {'leaf_size': 14, 'n_neighbors': 11, 'p': 1}\n",
      "0.412500 (0.064578) with: {'leaf_size': 14, 'n_neighbors': 11, 'p': 2}\n",
      "0.416468 (0.081431) with: {'leaf_size': 14, 'n_neighbors': 11, 'p': 3}\n",
      "0.374802 (0.105168) with: {'leaf_size': 14, 'n_neighbors': 12, 'p': 1}\n",
      "0.441270 (0.052104) with: {'leaf_size': 14, 'n_neighbors': 12, 'p': 2}\n",
      "0.424603 (0.042739) with: {'leaf_size': 14, 'n_neighbors': 12, 'p': 3}\n",
      "0.461508 (0.097749) with: {'leaf_size': 14, 'n_neighbors': 13, 'p': 1}\n",
      "0.430754 (0.120402) with: {'leaf_size': 14, 'n_neighbors': 13, 'p': 2}\n",
      "0.451389 (0.091871) with: {'leaf_size': 14, 'n_neighbors': 13, 'p': 3}\n",
      "0.399206 (0.135522) with: {'leaf_size': 14, 'n_neighbors': 14, 'p': 1}\n",
      "0.487698 (0.144563) with: {'leaf_size': 14, 'n_neighbors': 14, 'p': 2}\n",
      "0.466468 (0.081512) with: {'leaf_size': 14, 'n_neighbors': 14, 'p': 3}\n"
     ]
    }
   ],
   "source": [
    "model = KNeighborsClassifier()\n",
    "\n",
    "leaf_size = list(range(0,15))\n",
    "n_neighbors = list(range(0,15))\n",
    "p=[1,2,3]\n",
    "\n",
    "# define grid search\n",
    "grid = dict(leaf_size=leaf_size, n_neighbors=n_neighbors, p=p)\n",
    "cv = RepeatedStratifiedKFold(n_splits=n_splits, n_repeats=3, random_state=1)\n",
    "grid_search = GridSearchCV(estimator=model, param_grid=grid, n_jobs=-1, cv=cv, scoring=criterion,error_score=0)\n",
    "grid_result = grid_search.fit(X_train, y_train)\n",
    "# summarize results\n",
    "print(\"Best: %f using %s\" % (grid_result.best_score_, grid_result.best_params_))\n",
    "means = grid_result.cv_results_['mean_test_score']\n",
    "stds = grid_result.cv_results_['std_test_score']\n",
    "params = grid_result.cv_results_['params']\n",
    "for mean, stdev, param in zip(means, stds, params):\n",
    "    print(\"%f (%f) with: %r\" % (mean, stdev, param))"
   ]
  },
  {
   "cell_type": "code",
   "execution_count": 51,
   "id": "aa60687a-32f3-4301-afde-bcac90c611ed",
   "metadata": {},
   "outputs": [],
   "source": [
    "params = grid_search.best_params_"
   ]
  },
  {
   "cell_type": "code",
   "execution_count": 52,
   "id": "a41e14f1-df87-466e-b8ad-9b3d49ac3cb7",
   "metadata": {},
   "outputs": [
    {
     "data": {
      "text/plain": [
       "array([[ 3,  9],\n",
       "       [ 4, 23]])"
      ]
     },
     "execution_count": 52,
     "metadata": {},
     "output_type": "execute_result"
    }
   ],
   "source": [
    "knn_tuned = KNeighborsClassifier(leaf_size=params['leaf_size'], \n",
    "                                 n_neighbors=params['n_neighbors'], \n",
    "                                p=params['p'])\n",
    "# fit the model with data\n",
    "knn_tuned.fit(X_train, y_train)\n",
    "\n",
    "y_pred = knn_tuned.predict(X_test)\n",
    "cnf_matrix = metrics.confusion_matrix(y_test, y_pred)\n",
    "cnf_matrix"
   ]
  },
  {
   "cell_type": "code",
   "execution_count": 53,
   "id": "b6e26447-0bdc-4f00-a6da-8970a5193ed3",
   "metadata": {},
   "outputs": [
    {
     "name": "stdout",
     "output_type": "stream",
     "text": [
      "KNN Classifier Acccuracy (Tuned Using Optimal Params): 0.6666666666666666\n"
     ]
    }
   ],
   "source": [
    "print(f'KNN Classifier Acccuracy (Tuned Using Optimal Params): {np.trace(cnf_matrix)/np.sum(cnf_matrix)}')"
   ]
  },
  {
   "cell_type": "code",
   "execution_count": 54,
   "id": "c9df84c1-b9a8-49b1-ac95-52913d072135",
   "metadata": {},
   "outputs": [
    {
     "data": {
      "text/plain": [
       "Text(0.5, 257.44, 'Predicted label')"
      ]
     },
     "execution_count": 54,
     "metadata": {},
     "output_type": "execute_result"
    },
    {
     "data": {
      "image/png": "[encoded data removed]",
      "text/plain": [
       "<Figure size 432x288 with 2 Axes>"
      ]
     },
     "metadata": {
      "needs_background": "light"
     },
     "output_type": "display_data"
    }
   ],
   "source": [
    "class_names=[0,1] # name  of classes\n",
    "fig, ax = plt.subplots()\n",
    "tick_marks = np.arange(len(class_names))\n",
    "plt.xticks(tick_marks, class_names)\n",
    "plt.yticks(tick_marks, class_names)\n",
    "# create heatmap\n",
    "sns.heatmap(pd.DataFrame(cnf_matrix), annot=True, cmap=\"YlGnBu\" ,fmt='g')\n",
    "ax.xaxis.set_label_position(\"top\")\n",
    "plt.tight_layout()\n",
    "plt.title('Confusion matrix', y=1.1)\n",
    "plt.ylabel('Actual label')\n",
    "plt.xlabel('Predicted label')\n",
    "\n"
   ]
  },
  {
   "cell_type": "code",
   "execution_count": 55,
   "id": "a658f419-ee7b-4850-905e-9457db67cc13",
   "metadata": {},
   "outputs": [
    {
     "data": {
      "text/plain": [
       "<sklearn.metrics._plot.roc_curve.RocCurveDisplay at 0x7fc540731190>"
      ]
     },
     "execution_count": 55,
     "metadata": {},
     "output_type": "execute_result"
    },
    {
     "data": {
      "image/png": "[encoded data removed]",
      "text/plain": [
       "<Figure size 432x288 with 1 Axes>"
      ]
     },
     "metadata": {
      "needs_background": "light"
     },
     "output_type": "display_data"
    }
   ],
   "source": [
    "plot_roc_curve(knn_tuned,X_test,y_test)"
   ]
  },
  {
   "cell_type": "code",
   "execution_count": null,
   "id": "3aa62bce-92cb-416e-8523-0f464590ebcd",
   "metadata": {},
   "outputs": [],
   "source": []
  }
 ],
 "metadata": {
  "kernelspec": {
   "display_name": "Python 3",
   "language": "python",
   "name": "python3"
  },
  "language_info": {
   "codemirror_mode": {
    "name": "ipython",
    "version": 3
   },
   "file_extension": ".py",
   "mimetype": "text/x-python",
   "name": "python",
   "nbconvert_exporter": "python",
   "pygments_lexer": "ipython3",
   "version": "3.8.8"
  }
 },
 "nbformat": 4,
 "nbformat_minor": 5
}
