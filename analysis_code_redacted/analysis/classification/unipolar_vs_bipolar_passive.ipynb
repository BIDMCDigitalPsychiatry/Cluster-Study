{
 "cells": [
  {
   "cell_type": "code",
   "execution_count": 1,
   "id": "7cb0fd0f-b231-4450-b2a4-91057d798013",
   "metadata": {},
   "outputs": [],
   "source": [
    "import pandas as pd\n",
    "import numpy as np\n",
    "import matplotlib.pyplot as plt\n",
    "from sklearn import metrics # for the evaluation\n",
    "\n",
    "from sklearn.model_selection import train_test_split\n",
    "from sklearn.preprocessing import StandardScaler\n",
    "\n",
    "from sklearn.model_selection import RepeatedStratifiedKFold\n",
    "from sklearn.model_selection import GridSearchCV\n",
    "\n",
    "from sklearn.linear_model import LogisticRegression\n",
    "from sklearn.metrics import accuracy_score, precision_score, recall_score, roc_auc_score\n",
    "import seaborn as sns\n",
    "import os"
   ]
  },
  {
   "cell_type": "markdown",
   "id": "e743d44f-70f5-4cb7-bb3e-aa87f31c6184",
   "metadata": {},
   "source": [
    "# Unipolar vs Bipolar: Passive"
   ]
  },
  {
   "cell_type": "code",
   "execution_count": 2,
   "id": "47df09d0-5db2-479b-9d26-7f2e5ef3fd0e",
   "metadata": {},
   "outputs": [],
   "source": [
    "# parameter tuning variables\n",
    "n_splits = 5\n",
    "criterion = 'accuracy'"
   ]
  },
  {
   "cell_type": "code",
   "execution_count": 3,
   "id": "b91345eb-ec40-48db-8d64-0994f09e9b82",
   "metadata": {},
   "outputs": [],
   "source": [
    "df = pd.read_csv('../../data/final_dataset.csv')\n",
    "df = df[df['Diagnosis'] != 'Control'] "
   ]
  },
  {
   "cell_type": "code",
   "execution_count": 4,
   "id": "0236c54a-4ce2-47d9-8620-2fe3dba53795",
   "metadata": {
    "tags": []
   },
   "outputs": [
    {
     "data": {
      "text/plain": [
       "array(['Bipolar II', 'Major Depressive Disorder', 'Bipolar I', 'MDD'],\n",
       "      dtype=object)"
      ]
     },
     "execution_count": 4,
     "metadata": {},
     "output_type": "execute_result"
    }
   ],
   "source": [
    "df['Diagnosis'].unique()"
   ]
  },
  {
   "cell_type": "code",
   "execution_count": 5,
   "id": "6aaeed95-7590-4c80-b2ab-89acec30292b",
   "metadata": {
    "tags": []
   },
   "outputs": [
    {
     "data": {
      "text/plain": [
       "Index(['Unnamed: 0', 'Watch Status', 'Phone Brand', 'Diagnosis', 'Gender',\n",
       "       'Study ID', 'LAMP ID', 'Race', 'Age', 'DOB', 'Date of Consent',\n",
       "       'gps_data_quality_mean', 'gps_data_quality_var', 'hometime_mean',\n",
       "       'hometime_var', 'entropy_mean', 'entropy_var', 'screen_duration_mean',\n",
       "       'screen_duration_var', 'internal_sleep_mean', 'internal_sleep_var',\n",
       "       'PHQ-2_mean', 'PHQ-2_var', 'GAD-2_mean', 'GAD-2_var', 'Group'],\n",
       "      dtype='object')"
      ]
     },
     "execution_count": 5,
     "metadata": {},
     "output_type": "execute_result"
    }
   ],
   "source": [
    "df['Group'] = df['Diagnosis']\n",
    "df['Group'] = df['Group'].replace('Bipolar I',0)\n",
    "df['Group'] = df['Group'].replace('Bipolar II',0)\n",
    "df['Group'] = df['Group'].replace('MDD',1)\n",
    "df['Group'] = df['Group'].replace('Major Depressive Disorder',1)\n",
    "df.columns"
   ]
  },
  {
   "cell_type": "code",
   "execution_count": 6,
   "id": "f4d5f663-8914-4658-b6b8-94b3c665d2f5",
   "metadata": {},
   "outputs": [],
   "source": [
    "# predictor and target vars\n",
    "X = df[['gps_data_quality_mean', 'gps_data_quality_var',\n",
    "  'hometime_mean', 'hometime_var', 'entropy_mean',\n",
    "       'entropy_var', 'internal_sleep_mean', 'internal_sleep_var', 'screen_duration_mean',\n",
    "     'screen_duration_var']]\n",
    "y = df['Group']"
   ]
  },
  {
   "cell_type": "code",
   "execution_count": 7,
   "id": "f3319bbc-b7d7-4dc2-a333-d5a61238bb7d",
   "metadata": {},
   "outputs": [
    {
     "name": "stdout",
     "output_type": "stream",
     "text": [
      "We have imputed 16.4 percent of the data\n"
     ]
    }
   ],
   "source": [
    "pct_imputed = (X.isnull().sum().sum())/(np.shape(X)[0]*np.shape(X)[1])\n",
    "print(\"We have imputed %0.1f percent of the data\" % (pct_imputed * 100))"
   ]
  },
  {
   "cell_type": "code",
   "execution_count": 8,
   "id": "3a849c2d-6359-46fa-aea5-3379ad5dd2a4",
   "metadata": {},
   "outputs": [],
   "source": [
    "# train and test\n",
    "X_train, X_test, y_train, y_test = train_test_split(X, y, stratify=y, test_size=0.5, random_state=0)\n",
    "X_train = X_train.fillna(X_train.mean())\n",
    "X_test = X_test.fillna(X_test.mean())"
   ]
  },
  {
   "cell_type": "code",
   "execution_count": 9,
   "id": "8e943636-8043-44fd-907b-ace580a6eb57",
   "metadata": {},
   "outputs": [],
   "source": [
    "# standardize\n",
    "scale_train = StandardScaler()\n",
    "scale_test = StandardScaler()\n",
    "\n",
    "X_train = scale_train.fit_transform(X_train)\n",
    "X_test = scale_test.fit_transform(X_test)"
   ]
  },
  {
   "cell_type": "code",
   "execution_count": 10,
   "id": "b6f902c6-4080-4aa8-a0c4-3a7268b4a404",
   "metadata": {},
   "outputs": [],
   "source": [
    "models = {}\n",
    "\n",
    "# Logistic Regression\n",
    "from sklearn.linear_model import LogisticRegression\n",
    "models['Logistic Regression'] = LogisticRegression()\n",
    "\n",
    "# Support Vector Machines\n",
    "from sklearn.svm import LinearSVC\n",
    "models['Support Vector Machines'] = LinearSVC()\n",
    "\n",
    "# Decision Trees\n",
    "from sklearn.tree import DecisionTreeClassifier\n",
    "models['Decision Trees'] = DecisionTreeClassifier()\n",
    "\n",
    "# Random Forest\n",
    "from sklearn.ensemble import RandomForestClassifier\n",
    "models['Random Forest'] = RandomForestClassifier()\n",
    "\n",
    "# Naive Bayes\n",
    "from sklearn.naive_bayes import GaussianNB\n",
    "models['Naive Bayes'] = GaussianNB()\n",
    "\n",
    "# K-Nearest Neighbors\n",
    "from sklearn.neighbors import KNeighborsClassifier\n",
    "models['K-Nearest Neighbor'] = KNeighborsClassifier()"
   ]
  },
  {
   "cell_type": "code",
   "execution_count": 11,
   "id": "a50dbe0c-740b-4f75-8ffc-7020812f2ca4",
   "metadata": {},
   "outputs": [],
   "source": [
    "accuracy, precision, recall, auc = {}, {}, {}, {}\n",
    "\n",
    "for key in models.keys():\n",
    "    \n",
    "    # Fit the classifier\n",
    "    models[key].fit(X_train, y_train)\n",
    "    \n",
    "    # Make predictions\n",
    "    predictions = models[key].predict(X_test)\n",
    "    \n",
    "    # Calculate metrics\n",
    "    accuracy[key] = accuracy_score(y_test, predictions)\n",
    "    precision[key] = precision_score(y_test, predictions)\n",
    "    recall[key] = recall_score(y_test, predictions)\n",
    "    auc[key] = roc_auc_score(y_test, predictions)"
   ]
  },
  {
   "cell_type": "code",
   "execution_count": 12,
   "id": "31721907-1334-4815-81ef-3c1255180dcd",
   "metadata": {},
   "outputs": [],
   "source": [
    "df_model = pd.DataFrame(index=models.keys(), columns=['Accuracy', 'Precision', 'Recall'])\n",
    "df_model['Accuracy'] = accuracy.values()\n",
    "df_model['Precision'] = precision.values()\n",
    "df_model['Recall'] = recall.values()\n",
    "df_model['AUC'] = auc.values()"
   ]
  },
  {
   "cell_type": "code",
   "execution_count": 13,
   "id": "38b0957e-07f3-4df2-a488-ae4515bf0de0",
   "metadata": {},
   "outputs": [
    {
     "data": {
      "text/html": [
       "<div>\n",
       "<style scoped>\n",
       "    .dataframe tbody tr th:only-of-type {\n",
       "        vertical-align: middle;\n",
       "    }\n",
       "\n",
       "    .dataframe tbody tr th {\n",
       "        vertical-align: top;\n",
       "    }\n",
       "\n",
       "    .dataframe thead th {\n",
       "        text-align: right;\n",
       "    }\n",
       "</style>\n",
       "<table border=\"1\" class=\"dataframe\">\n",
       "  <thead>\n",
       "    <tr style=\"text-align: right;\">\n",
       "      <th></th>\n",
       "      <th>Accuracy</th>\n",
       "      <th>Precision</th>\n",
       "      <th>Recall</th>\n",
       "      <th>AUC</th>\n",
       "    </tr>\n",
       "  </thead>\n",
       "  <tbody>\n",
       "    <tr>\n",
       "      <th>Logistic Regression</th>\n",
       "      <td>0.464286</td>\n",
       "      <td>0.578947</td>\n",
       "      <td>0.611111</td>\n",
       "      <td>0.405556</td>\n",
       "    </tr>\n",
       "    <tr>\n",
       "      <th>Support Vector Machines</th>\n",
       "      <td>0.535714</td>\n",
       "      <td>0.619048</td>\n",
       "      <td>0.722222</td>\n",
       "      <td>0.461111</td>\n",
       "    </tr>\n",
       "    <tr>\n",
       "      <th>Decision Trees</th>\n",
       "      <td>0.607143</td>\n",
       "      <td>0.705882</td>\n",
       "      <td>0.666667</td>\n",
       "      <td>0.583333</td>\n",
       "    </tr>\n",
       "    <tr>\n",
       "      <th>Random Forest</th>\n",
       "      <td>0.571429</td>\n",
       "      <td>0.625000</td>\n",
       "      <td>0.833333</td>\n",
       "      <td>0.466667</td>\n",
       "    </tr>\n",
       "    <tr>\n",
       "      <th>Naive Bayes</th>\n",
       "      <td>0.500000</td>\n",
       "      <td>0.625000</td>\n",
       "      <td>0.555556</td>\n",
       "      <td>0.477778</td>\n",
       "    </tr>\n",
       "    <tr>\n",
       "      <th>K-Nearest Neighbor</th>\n",
       "      <td>0.500000</td>\n",
       "      <td>0.611111</td>\n",
       "      <td>0.611111</td>\n",
       "      <td>0.455556</td>\n",
       "    </tr>\n",
       "  </tbody>\n",
       "</table>\n",
       "</div>"
      ],
      "text/plain": [
       "                         Accuracy  Precision    Recall       AUC\n",
       "Logistic Regression      0.464286   0.578947  0.611111  0.405556\n",
       "Support Vector Machines  0.535714   0.619048  0.722222  0.461111\n",
       "Decision Trees           0.607143   0.705882  0.666667  0.583333\n",
       "Random Forest            0.571429   0.625000  0.833333  0.466667\n",
       "Naive Bayes              0.500000   0.625000  0.555556  0.477778\n",
       "K-Nearest Neighbor       0.500000   0.611111  0.611111  0.455556"
      ]
     },
     "execution_count": 13,
     "metadata": {},
     "output_type": "execute_result"
    }
   ],
   "source": [
    "df_model"
   ]
  },
  {
   "cell_type": "code",
   "execution_count": 14,
   "id": "26074e27-4b52-40d9-8b2d-d54c1500fd78",
   "metadata": {},
   "outputs": [
    {
     "data": {
      "text/plain": [
       "<matplotlib.legend.Legend at 0x7f9c6cce7a00>"
      ]
     },
     "execution_count": 14,
     "metadata": {},
     "output_type": "execute_result"
    },
    {
     "data": {
      "image/png": "[encoded data removed]",
      "text/plain": [
       "<Figure size 432x288 with 1 Axes>"
      ]
     },
     "metadata": {
      "needs_background": "light"
     },
     "output_type": "display_data"
    }
   ],
   "source": [
    "df_model.plot(kind=\"bar\")\n",
    "plt.title(\"Control vs. Patient (No Tuning)\")\n",
    "plt.xlabel(\"Classification Method\")\n",
    "plt.ylabel(\"Score\")\n",
    "plt.legend(loc='center left', bbox_to_anchor=(1, 0.5))"
   ]
  },
  {
   "cell_type": "markdown",
   "id": "a3fc7861-3acc-4908-ad09-aa18be14792f",
   "metadata": {
    "tags": []
   },
   "source": [
    "## Logistic Regression"
   ]
  },
  {
   "cell_type": "code",
   "execution_count": 15,
   "id": "d1b852f5-04cc-40a9-9965-06d121e54475",
   "metadata": {
    "tags": []
   },
   "outputs": [
    {
     "name": "stdout",
     "output_type": "stream",
     "text": [
      "Best: 0.666667 using {'C': 0.01, 'penalty': 'l2', 'solver': 'newton-cg'}\n",
      "0.540000 (0.209832) with: {'C': 100, 'penalty': 'l2', 'solver': 'newton-cg'}\n",
      "0.540000 (0.209832) with: {'C': 100, 'penalty': 'l2', 'solver': 'lbfgs'}\n",
      "0.540000 (0.209832) with: {'C': 100, 'penalty': 'l2', 'solver': 'liblinear'}\n",
      "0.588889 (0.194238) with: {'C': 10, 'penalty': 'l2', 'solver': 'newton-cg'}\n",
      "0.588889 (0.194238) with: {'C': 10, 'penalty': 'l2', 'solver': 'lbfgs'}\n",
      "0.577778 (0.194238) with: {'C': 10, 'penalty': 'l2', 'solver': 'liblinear'}\n",
      "0.615556 (0.189685) with: {'C': 1.0, 'penalty': 'l2', 'solver': 'newton-cg'}\n",
      "0.615556 (0.189685) with: {'C': 1.0, 'penalty': 'l2', 'solver': 'lbfgs'}\n",
      "0.580000 (0.211099) with: {'C': 1.0, 'penalty': 'l2', 'solver': 'liblinear'}\n",
      "0.620000 (0.114698) with: {'C': 0.1, 'penalty': 'l2', 'solver': 'newton-cg'}\n",
      "0.620000 (0.114698) with: {'C': 0.1, 'penalty': 'l2', 'solver': 'lbfgs'}\n",
      "0.595556 (0.221398) with: {'C': 0.1, 'penalty': 'l2', 'solver': 'liblinear'}\n",
      "0.666667 (0.073030) with: {'C': 0.01, 'penalty': 'l2', 'solver': 'newton-cg'}\n",
      "0.666667 (0.073030) with: {'C': 0.01, 'penalty': 'l2', 'solver': 'lbfgs'}\n",
      "0.508889 (0.240514) with: {'C': 0.01, 'penalty': 'l2', 'solver': 'liblinear'}\n"
     ]
    }
   ],
   "source": [
    "# define models and parameters\n",
    "model = LogisticRegression()\n",
    "solvers = ['newton-cg', 'lbfgs', 'liblinear']\n",
    "penalty = ['l2']\n",
    "c_values = [100, 10, 1.0, 0.1, 0.01]\n",
    "# define grid search\n",
    "grid = dict(solver=solvers,penalty=penalty,C=c_values)\n",
    "cv = RepeatedStratifiedKFold(n_splits=n_splits, n_repeats=3, random_state=1)\n",
    "grid_search = GridSearchCV(estimator=model, param_grid=grid, n_jobs=-1, cv=cv, scoring=criterion,error_score=0)\n",
    "grid_result = grid_search.fit(X_train, y_train)\n",
    "# summarize results\n",
    "print(\"Best: %f using %s\" % (grid_result.best_score_, grid_result.best_params_))\n",
    "means = grid_result.cv_results_['mean_test_score']\n",
    "stds = grid_result.cv_results_['std_test_score']\n",
    "params = grid_result.cv_results_['params']\n",
    "for mean, stdev, param in zip(means, stds, params):\n",
    "    print(\"%f (%f) with: %r\" % (mean, stdev, param))\n",
    "params = grid_search.best_params_"
   ]
  },
  {
   "cell_type": "code",
   "execution_count": 16,
   "id": "1c551c88-f751-42cd-be84-026f17ffe1ac",
   "metadata": {},
   "outputs": [],
   "source": [
    "# instantiate the model (using tuned params)\n",
    "logreg_tuned = LogisticRegression(C=params['C'], penalty=params['penalty'], solver=params['solver'])\n",
    "\n",
    "# fit the model with data\n",
    "logreg_tuned.fit(X_train, y_train)\n",
    "\n",
    "y_pred = logreg_tuned.predict(X_test)"
   ]
  },
  {
   "cell_type": "code",
   "execution_count": 17,
   "id": "bda7b71e-2fd2-43b0-bb03-c9893499ad7f",
   "metadata": {},
   "outputs": [
    {
     "data": {
      "text/plain": [
       "array([[ 0, 10],\n",
       "       [ 0, 18]])"
      ]
     },
     "execution_count": 17,
     "metadata": {},
     "output_type": "execute_result"
    }
   ],
   "source": [
    "from sklearn import metrics\n",
    "\n",
    "cnf_matrix = metrics.confusion_matrix(y_test, y_pred)\n",
    "cnf_matrix"
   ]
  },
  {
   "cell_type": "code",
   "execution_count": 18,
   "id": "2bbb07e7-d4b3-4c29-aa16-02e95621cbbb",
   "metadata": {},
   "outputs": [
    {
     "data": {
      "text/plain": [
       "Text(0.5, 257.44, 'Predicted label')"
      ]
     },
     "execution_count": 18,
     "metadata": {},
     "output_type": "execute_result"
    },
    {
     "data": {
      "image/png": "[encoded data removed]",
      "text/plain": [
       "<Figure size 432x288 with 2 Axes>"
      ]
     },
     "metadata": {
      "needs_background": "light"
     },
     "output_type": "display_data"
    }
   ],
   "source": [
    "import numpy as np\n",
    "import matplotlib.pyplot as plt\n",
    "import seaborn as sns\n",
    "\n",
    "class_names=[0,1] # name  of classes\n",
    "fig, ax = plt.subplots()\n",
    "tick_marks = np.arange(len(class_names))\n",
    "plt.xticks(tick_marks, class_names)\n",
    "plt.yticks(tick_marks, class_names)\n",
    "# create heatmap\n",
    "sns.heatmap(pd.DataFrame(cnf_matrix), annot=True, cmap=\"YlGnBu\" ,fmt='g')\n",
    "ax.xaxis.set_label_position(\"top\")\n",
    "plt.tight_layout()\n",
    "plt.title('Confusion matrix', y=1.1)\n",
    "plt.ylabel('Actual label')\n",
    "plt.xlabel('Predicted label')\n"
   ]
  },
  {
   "cell_type": "code",
   "execution_count": 19,
   "id": "d203d4d5-bddb-423a-9daa-e62624d0dfd0",
   "metadata": {},
   "outputs": [
    {
     "name": "stdout",
     "output_type": "stream",
     "text": [
      "Logistic Regression Model Acccuracy (Tuned Using Optimal Params): 0.6428571428571429\n"
     ]
    }
   ],
   "source": [
    "print(f'Logistic Regression Model Acccuracy (Tuned Using Optimal Params): {np.trace(cnf_matrix)/np.sum(cnf_matrix)}')"
   ]
  },
  {
   "cell_type": "code",
   "execution_count": 20,
   "id": "df562a67-c3df-452a-8f00-5793523b4767",
   "metadata": {},
   "outputs": [
    {
     "data": {
      "image/png": "[encoded data removed]",
      "text/plain": [
       "<Figure size 432x288 with 1 Axes>"
      ]
     },
     "metadata": {
      "needs_background": "light"
     },
     "output_type": "display_data"
    }
   ],
   "source": [
    "y_pred_proba = logreg_tuned.predict_proba(X_test)[::,1]\n",
    "fpr, tpr, _ = metrics.roc_curve(y_test,  y_pred_proba)\n",
    "auc = metrics.roc_auc_score(y_test, y_pred_proba)\n",
    "plt.plot(fpr,tpr,label=\"data 1, auc=\"+str(auc))\n",
    "plt.legend(loc=4)\n",
    "plt.show()"
   ]
  },
  {
   "cell_type": "markdown",
   "id": "21f74b9a-151b-473b-83cd-39b5228eeb63",
   "metadata": {
    "tags": []
   },
   "source": [
    "## Support Vector Machines"
   ]
  },
  {
   "cell_type": "code",
   "execution_count": 21,
   "id": "800532b9-ade8-4f89-894d-f565c4c03620",
   "metadata": {
    "tags": []
   },
   "outputs": [
    {
     "name": "stdout",
     "output_type": "stream",
     "text": [
      "Best: 0.606667 using {'C': 0.1, 'dual': True, 'loss': 'squared_hinge', 'penalty': 'l2'}\n",
      "0.506667 (0.212986) with: {'C': 10, 'dual': True, 'loss': 'squared_hinge', 'penalty': 'l2'}\n",
      "0.553333 (0.210748) with: {'C': 10, 'dual': False, 'loss': 'squared_hinge', 'penalty': 'l2'}\n",
      "0.577778 (0.194238) with: {'C': 1.0, 'dual': True, 'loss': 'squared_hinge', 'penalty': 'l2'}\n",
      "0.577778 (0.194238) with: {'C': 1.0, 'dual': False, 'loss': 'squared_hinge', 'penalty': 'l2'}\n",
      "0.606667 (0.211940) with: {'C': 0.1, 'dual': True, 'loss': 'squared_hinge', 'penalty': 'l2'}\n",
      "0.606667 (0.211940) with: {'C': 0.1, 'dual': False, 'loss': 'squared_hinge', 'penalty': 'l2'}\n",
      "0.595556 (0.221398) with: {'C': 0.01, 'dual': True, 'loss': 'squared_hinge', 'penalty': 'l2'}\n",
      "0.595556 (0.221398) with: {'C': 0.01, 'dual': False, 'loss': 'squared_hinge', 'penalty': 'l2'}\n"
     ]
    }
   ],
   "source": [
    "# define model and parameters\n",
    "model = LinearSVC()\n",
    "penalty = ['l2']\n",
    "loss=['squared_hinge']\n",
    "dual=[True, False]\n",
    "C = [10, 1.0, 0.1, 0.01]\n",
    "\n",
    "# define grid search\n",
    "grid = dict(penalty=penalty, loss=loss, dual=dual, C=C)\n",
    "cv = RepeatedStratifiedKFold(n_splits=n_splits, n_repeats=3, random_state=1)\n",
    "grid_search = GridSearchCV(estimator=model, param_grid=grid, n_jobs=-1, cv=cv, scoring=criterion,error_score=0)\n",
    "grid_result = grid_search.fit(X_train, y_train)\n",
    "# summarize results\n",
    "print(\"Best: %f using %s\" % (grid_result.best_score_, grid_result.best_params_))\n",
    "means = grid_result.cv_results_['mean_test_score']\n",
    "stds = grid_result.cv_results_['std_test_score']\n",
    "params = grid_result.cv_results_['params']\n",
    "for mean, stdev, param in zip(means, stds, params):\n",
    "    print(\"%f (%f) with: %r\" % (mean, stdev, param))"
   ]
  },
  {
   "cell_type": "code",
   "execution_count": 22,
   "id": "5dae27b6-21cf-45da-bf58-4bee8a12e1f0",
   "metadata": {},
   "outputs": [],
   "source": [
    "params = grid_search.best_params_"
   ]
  },
  {
   "cell_type": "code",
   "execution_count": 23,
   "id": "fca08b7f-fe67-4822-a326-a5ad915281c9",
   "metadata": {},
   "outputs": [],
   "source": [
    "linSVC_tuned = LinearSVC(C=params['C'], dual=params['dual'], loss=params['loss'])"
   ]
  },
  {
   "cell_type": "code",
   "execution_count": 24,
   "id": "8af3aaa7-aae7-4c61-872e-fdb794b6bd38",
   "metadata": {},
   "outputs": [],
   "source": [
    "# fit the model with data\n",
    "linSVC_tuned.fit(X_train, y_train)\n",
    "\n",
    "y_pred = linSVC_tuned.predict(X_test)"
   ]
  },
  {
   "cell_type": "code",
   "execution_count": 25,
   "id": "7ba48cbb-dcf1-4e39-a4a6-84f168030256",
   "metadata": {},
   "outputs": [
    {
     "data": {
      "text/plain": [
       "array([[ 2,  8],\n",
       "       [ 6, 12]])"
      ]
     },
     "execution_count": 25,
     "metadata": {},
     "output_type": "execute_result"
    }
   ],
   "source": [
    "cnf_matrix = metrics.confusion_matrix(y_test, y_pred)\n",
    "cnf_matrix"
   ]
  },
  {
   "cell_type": "code",
   "execution_count": 26,
   "id": "7edce7f7-bcac-4b8a-8848-7dfb25f84028",
   "metadata": {},
   "outputs": [
    {
     "name": "stdout",
     "output_type": "stream",
     "text": [
      "Linear SVM Acccuracy (Tuned Using Optimal Params): 0.5\n"
     ]
    }
   ],
   "source": [
    "print(f'Linear SVM Acccuracy (Tuned Using Optimal Params): {np.trace(cnf_matrix)/np.sum(cnf_matrix)}')"
   ]
  },
  {
   "cell_type": "code",
   "execution_count": 27,
   "id": "08653e6d-1e04-4bd0-8563-100c9cc1c05e",
   "metadata": {},
   "outputs": [
    {
     "data": {
      "text/plain": [
       "<sklearn.metrics._plot.roc_curve.RocCurveDisplay at 0x7f9c6cb9fa60>"
      ]
     },
     "execution_count": 27,
     "metadata": {},
     "output_type": "execute_result"
    },
    {
     "data": {
      "image/png": "[encoded data removed]",
      "text/plain": [
       "<Figure size 432x288 with 1 Axes>"
      ]
     },
     "metadata": {
      "needs_background": "light"
     },
     "output_type": "display_data"
    }
   ],
   "source": [
    "from sklearn.metrics import plot_roc_curve\n",
    "\n",
    "plot_roc_curve(linSVC_tuned,X_test,y_test)"
   ]
  },
  {
   "cell_type": "code",
   "execution_count": 28,
   "id": "07593d41-a8c1-4b11-8e91-5a6407edff94",
   "metadata": {},
   "outputs": [
    {
     "data": {
      "text/plain": [
       "Text(0.5, 257.44, 'Predicted label')"
      ]
     },
     "execution_count": 28,
     "metadata": {},
     "output_type": "execute_result"
    },
    {
     "data": {
      "image/png": "[encoded data removed]",
      "text/plain": [
       "<Figure size 432x288 with 2 Axes>"
      ]
     },
     "metadata": {
      "needs_background": "light"
     },
     "output_type": "display_data"
    }
   ],
   "source": [
    "class_names=[0,1] # name  of classes\n",
    "fig, ax = plt.subplots()\n",
    "tick_marks = np.arange(len(class_names))\n",
    "plt.xticks(tick_marks, class_names)\n",
    "plt.yticks(tick_marks, class_names)\n",
    "# create heatmap\n",
    "sns.heatmap(pd.DataFrame(cnf_matrix), annot=True, cmap=\"YlGnBu\" ,fmt='g')\n",
    "ax.xaxis.set_label_position(\"top\")\n",
    "plt.tight_layout()\n",
    "plt.title('Confusion matrix', y=1.1)\n",
    "plt.ylabel('Actual label')\n",
    "plt.xlabel('Predicted label')\n",
    "\n"
   ]
  },
  {
   "cell_type": "markdown",
   "id": "b766889f-c8f7-49ba-900a-16ed7074d987",
   "metadata": {
    "tags": []
   },
   "source": [
    "## Decision Trees"
   ]
  },
  {
   "cell_type": "code",
   "execution_count": 29,
   "id": "6ffdb5e8-89e5-446a-8267-6207cdedeb43",
   "metadata": {
    "tags": []
   },
   "outputs": [
    {
     "name": "stdout",
     "output_type": "stream",
     "text": [
      "Best: 0.666667 using {'max_features': 'log2', 'min_samples_leaf': 4, 'min_samples_split': 3, 'splitter': 'random'}\n",
      "0.000000 (0.000000) with: {'max_features': None, 'min_samples_leaf': 1, 'min_samples_split': 1, 'splitter': 'best'}\n",
      "0.000000 (0.000000) with: {'max_features': None, 'min_samples_leaf': 1, 'min_samples_split': 1, 'splitter': 'random'}\n",
      "0.553333 (0.179216) with: {'max_features': None, 'min_samples_leaf': 1, 'min_samples_split': 2, 'splitter': 'best'}\n",
      "0.662222 (0.193933) with: {'max_features': None, 'min_samples_leaf': 1, 'min_samples_split': 2, 'splitter': 'random'}\n",
      "0.502222 (0.166652) with: {'max_features': None, 'min_samples_leaf': 1, 'min_samples_split': 3, 'splitter': 'best'}\n",
      "0.504444 (0.218367) with: {'max_features': None, 'min_samples_leaf': 1, 'min_samples_split': 3, 'splitter': 'random'}\n",
      "0.542222 (0.161230) with: {'max_features': None, 'min_samples_leaf': 1, 'min_samples_split': 4, 'splitter': 'best'}\n",
      "0.600000 (0.231261) with: {'max_features': None, 'min_samples_leaf': 1, 'min_samples_split': 4, 'splitter': 'random'}\n",
      "0.000000 (0.000000) with: {'max_features': None, 'min_samples_leaf': 2, 'min_samples_split': 1, 'splitter': 'best'}\n",
      "0.000000 (0.000000) with: {'max_features': None, 'min_samples_leaf': 2, 'min_samples_split': 1, 'splitter': 'random'}\n",
      "0.542222 (0.191473) with: {'max_features': None, 'min_samples_leaf': 2, 'min_samples_split': 2, 'splitter': 'best'}\n",
      "0.555556 (0.157135) with: {'max_features': None, 'min_samples_leaf': 2, 'min_samples_split': 2, 'splitter': 'random'}\n",
      "0.528889 (0.179657) with: {'max_features': None, 'min_samples_leaf': 2, 'min_samples_split': 3, 'splitter': 'best'}\n",
      "0.546667 (0.221376) with: {'max_features': None, 'min_samples_leaf': 2, 'min_samples_split': 3, 'splitter': 'random'}\n",
      "0.515556 (0.181298) with: {'max_features': None, 'min_samples_leaf': 2, 'min_samples_split': 4, 'splitter': 'best'}\n",
      "0.582222 (0.213565) with: {'max_features': None, 'min_samples_leaf': 2, 'min_samples_split': 4, 'splitter': 'random'}\n",
      "0.000000 (0.000000) with: {'max_features': None, 'min_samples_leaf': 3, 'min_samples_split': 1, 'splitter': 'best'}\n",
      "0.000000 (0.000000) with: {'max_features': None, 'min_samples_leaf': 3, 'min_samples_split': 1, 'splitter': 'random'}\n",
      "0.517778 (0.165044) with: {'max_features': None, 'min_samples_leaf': 3, 'min_samples_split': 2, 'splitter': 'best'}\n",
      "0.575556 (0.233005) with: {'max_features': None, 'min_samples_leaf': 3, 'min_samples_split': 2, 'splitter': 'random'}\n",
      "0.511111 (0.221332) with: {'max_features': None, 'min_samples_leaf': 3, 'min_samples_split': 3, 'splitter': 'best'}\n",
      "0.631111 (0.145789) with: {'max_features': None, 'min_samples_leaf': 3, 'min_samples_split': 3, 'splitter': 'random'}\n",
      "0.544444 (0.203912) with: {'max_features': None, 'min_samples_leaf': 3, 'min_samples_split': 4, 'splitter': 'best'}\n",
      "0.588889 (0.194238) with: {'max_features': None, 'min_samples_leaf': 3, 'min_samples_split': 4, 'splitter': 'random'}\n",
      "0.000000 (0.000000) with: {'max_features': None, 'min_samples_leaf': 4, 'min_samples_split': 1, 'splitter': 'best'}\n",
      "0.000000 (0.000000) with: {'max_features': None, 'min_samples_leaf': 4, 'min_samples_split': 1, 'splitter': 'random'}\n",
      "0.477778 (0.212452) with: {'max_features': None, 'min_samples_leaf': 4, 'min_samples_split': 2, 'splitter': 'best'}\n",
      "0.571111 (0.206511) with: {'max_features': None, 'min_samples_leaf': 4, 'min_samples_split': 2, 'splitter': 'random'}\n",
      "0.468889 (0.207442) with: {'max_features': None, 'min_samples_leaf': 4, 'min_samples_split': 3, 'splitter': 'best'}\n",
      "0.604444 (0.225706) with: {'max_features': None, 'min_samples_leaf': 4, 'min_samples_split': 3, 'splitter': 'random'}\n",
      "0.515556 (0.195455) with: {'max_features': None, 'min_samples_leaf': 4, 'min_samples_split': 4, 'splitter': 'best'}\n",
      "0.591111 (0.233323) with: {'max_features': None, 'min_samples_leaf': 4, 'min_samples_split': 4, 'splitter': 'random'}\n",
      "0.000000 (0.000000) with: {'max_features': 'auto', 'min_samples_leaf': 1, 'min_samples_split': 1, 'splitter': 'best'}\n",
      "0.000000 (0.000000) with: {'max_features': 'auto', 'min_samples_leaf': 1, 'min_samples_split': 1, 'splitter': 'random'}\n",
      "0.551111 (0.232177) with: {'max_features': 'auto', 'min_samples_leaf': 1, 'min_samples_split': 2, 'splitter': 'best'}\n",
      "0.628889 (0.185339) with: {'max_features': 'auto', 'min_samples_leaf': 1, 'min_samples_split': 2, 'splitter': 'random'}\n",
      "0.551111 (0.158636) with: {'max_features': 'auto', 'min_samples_leaf': 1, 'min_samples_split': 3, 'splitter': 'best'}\n",
      "0.548889 (0.184939) with: {'max_features': 'auto', 'min_samples_leaf': 1, 'min_samples_split': 3, 'splitter': 'random'}\n",
      "0.591111 (0.162602) with: {'max_features': 'auto', 'min_samples_leaf': 1, 'min_samples_split': 4, 'splitter': 'best'}\n",
      "0.533333 (0.242212) with: {'max_features': 'auto', 'min_samples_leaf': 1, 'min_samples_split': 4, 'splitter': 'random'}\n",
      "0.000000 (0.000000) with: {'max_features': 'auto', 'min_samples_leaf': 2, 'min_samples_split': 1, 'splitter': 'best'}\n",
      "0.000000 (0.000000) with: {'max_features': 'auto', 'min_samples_leaf': 2, 'min_samples_split': 1, 'splitter': 'random'}\n",
      "0.484444 (0.195455) with: {'max_features': 'auto', 'min_samples_leaf': 2, 'min_samples_split': 2, 'splitter': 'best'}\n",
      "0.544444 (0.259820) with: {'max_features': 'auto', 'min_samples_leaf': 2, 'min_samples_split': 2, 'splitter': 'random'}\n",
      "0.491111 (0.237102) with: {'max_features': 'auto', 'min_samples_leaf': 2, 'min_samples_split': 3, 'splitter': 'best'}\n",
      "0.620000 (0.225684) with: {'max_features': 'auto', 'min_samples_leaf': 2, 'min_samples_split': 3, 'splitter': 'random'}\n",
      "0.513333 (0.182087) with: {'max_features': 'auto', 'min_samples_leaf': 2, 'min_samples_split': 4, 'splitter': 'best'}\n",
      "0.553333 (0.168567) with: {'max_features': 'auto', 'min_samples_leaf': 2, 'min_samples_split': 4, 'splitter': 'random'}\n",
      "0.000000 (0.000000) with: {'max_features': 'auto', 'min_samples_leaf': 3, 'min_samples_split': 1, 'splitter': 'best'}\n",
      "0.000000 (0.000000) with: {'max_features': 'auto', 'min_samples_leaf': 3, 'min_samples_split': 1, 'splitter': 'random'}\n",
      "0.577778 (0.199506) with: {'max_features': 'auto', 'min_samples_leaf': 3, 'min_samples_split': 2, 'splitter': 'best'}\n",
      "0.613333 (0.177138) with: {'max_features': 'auto', 'min_samples_leaf': 3, 'min_samples_split': 2, 'splitter': 'random'}\n",
      "0.560000 (0.205553) with: {'max_features': 'auto', 'min_samples_leaf': 3, 'min_samples_split': 3, 'splitter': 'best'}\n",
      "0.582222 (0.167273) with: {'max_features': 'auto', 'min_samples_leaf': 3, 'min_samples_split': 3, 'splitter': 'random'}\n",
      "0.544444 (0.218638) with: {'max_features': 'auto', 'min_samples_leaf': 3, 'min_samples_split': 4, 'splitter': 'best'}\n",
      "0.595556 (0.254985) with: {'max_features': 'auto', 'min_samples_leaf': 3, 'min_samples_split': 4, 'splitter': 'random'}\n",
      "0.000000 (0.000000) with: {'max_features': 'auto', 'min_samples_leaf': 4, 'min_samples_split': 1, 'splitter': 'best'}\n",
      "0.000000 (0.000000) with: {'max_features': 'auto', 'min_samples_leaf': 4, 'min_samples_split': 1, 'splitter': 'random'}\n",
      "0.466667 (0.168215) with: {'max_features': 'auto', 'min_samples_leaf': 4, 'min_samples_split': 2, 'splitter': 'best'}\n",
      "0.562222 (0.160493) with: {'max_features': 'auto', 'min_samples_leaf': 4, 'min_samples_split': 2, 'splitter': 'random'}\n",
      "0.504444 (0.204710) with: {'max_features': 'auto', 'min_samples_leaf': 4, 'min_samples_split': 3, 'splitter': 'best'}\n",
      "0.555556 (0.219314) with: {'max_features': 'auto', 'min_samples_leaf': 4, 'min_samples_split': 3, 'splitter': 'random'}\n",
      "0.617778 (0.161872) with: {'max_features': 'auto', 'min_samples_leaf': 4, 'min_samples_split': 4, 'splitter': 'best'}\n",
      "0.653333 (0.186110) with: {'max_features': 'auto', 'min_samples_leaf': 4, 'min_samples_split': 4, 'splitter': 'random'}\n",
      "0.000000 (0.000000) with: {'max_features': 'sqrt', 'min_samples_leaf': 1, 'min_samples_split': 1, 'splitter': 'best'}\n",
      "0.000000 (0.000000) with: {'max_features': 'sqrt', 'min_samples_leaf': 1, 'min_samples_split': 1, 'splitter': 'random'}\n",
      "0.617778 (0.151470) with: {'max_features': 'sqrt', 'min_samples_leaf': 1, 'min_samples_split': 2, 'splitter': 'best'}\n",
      "0.604444 (0.186931) with: {'max_features': 'sqrt', 'min_samples_leaf': 1, 'min_samples_split': 2, 'splitter': 'random'}\n",
      "0.657778 (0.218231) with: {'max_features': 'sqrt', 'min_samples_leaf': 1, 'min_samples_split': 3, 'splitter': 'best'}\n",
      "0.540000 (0.200813) with: {'max_features': 'sqrt', 'min_samples_leaf': 1, 'min_samples_split': 3, 'splitter': 'random'}\n",
      "0.573333 (0.202283) with: {'max_features': 'sqrt', 'min_samples_leaf': 1, 'min_samples_split': 4, 'splitter': 'best'}\n",
      "0.488889 (0.177082) with: {'max_features': 'sqrt', 'min_samples_leaf': 1, 'min_samples_split': 4, 'splitter': 'random'}\n",
      "0.000000 (0.000000) with: {'max_features': 'sqrt', 'min_samples_leaf': 2, 'min_samples_split': 1, 'splitter': 'best'}\n",
      "0.000000 (0.000000) with: {'max_features': 'sqrt', 'min_samples_leaf': 2, 'min_samples_split': 1, 'splitter': 'random'}\n",
      "0.531111 (0.188745) with: {'max_features': 'sqrt', 'min_samples_leaf': 2, 'min_samples_split': 2, 'splitter': 'best'}\n",
      "0.548889 (0.171212) with: {'max_features': 'sqrt', 'min_samples_leaf': 2, 'min_samples_split': 2, 'splitter': 'random'}\n",
      "0.415556 (0.155333) with: {'max_features': 'sqrt', 'min_samples_leaf': 2, 'min_samples_split': 3, 'splitter': 'best'}\n",
      "0.542222 (0.185978) with: {'max_features': 'sqrt', 'min_samples_leaf': 2, 'min_samples_split': 3, 'splitter': 'random'}\n",
      "0.566667 (0.179299) with: {'max_features': 'sqrt', 'min_samples_leaf': 2, 'min_samples_split': 4, 'splitter': 'best'}\n",
      "0.566667 (0.189346) with: {'max_features': 'sqrt', 'min_samples_leaf': 2, 'min_samples_split': 4, 'splitter': 'random'}\n",
      "0.000000 (0.000000) with: {'max_features': 'sqrt', 'min_samples_leaf': 3, 'min_samples_split': 1, 'splitter': 'best'}\n",
      "0.000000 (0.000000) with: {'max_features': 'sqrt', 'min_samples_leaf': 3, 'min_samples_split': 1, 'splitter': 'random'}\n",
      "0.586667 (0.194670) with: {'max_features': 'sqrt', 'min_samples_leaf': 3, 'min_samples_split': 2, 'splitter': 'best'}\n",
      "0.608889 (0.132479) with: {'max_features': 'sqrt', 'min_samples_leaf': 3, 'min_samples_split': 2, 'splitter': 'random'}\n",
      "0.488889 (0.186057) with: {'max_features': 'sqrt', 'min_samples_leaf': 3, 'min_samples_split': 3, 'splitter': 'best'}\n",
      "0.597778 (0.199431) with: {'max_features': 'sqrt', 'min_samples_leaf': 3, 'min_samples_split': 3, 'splitter': 'random'}\n",
      "0.646667 (0.186508) with: {'max_features': 'sqrt', 'min_samples_leaf': 3, 'min_samples_split': 4, 'splitter': 'best'}\n",
      "0.608889 (0.174044) with: {'max_features': 'sqrt', 'min_samples_leaf': 3, 'min_samples_split': 4, 'splitter': 'random'}\n",
      "0.000000 (0.000000) with: {'max_features': 'sqrt', 'min_samples_leaf': 4, 'min_samples_split': 1, 'splitter': 'best'}\n",
      "0.000000 (0.000000) with: {'max_features': 'sqrt', 'min_samples_leaf': 4, 'min_samples_split': 1, 'splitter': 'random'}\n",
      "0.631111 (0.202381) with: {'max_features': 'sqrt', 'min_samples_leaf': 4, 'min_samples_split': 2, 'splitter': 'best'}\n",
      "0.644444 (0.156663) with: {'max_features': 'sqrt', 'min_samples_leaf': 4, 'min_samples_split': 2, 'splitter': 'random'}\n",
      "0.582222 (0.205793) with: {'max_features': 'sqrt', 'min_samples_leaf': 4, 'min_samples_split': 3, 'splitter': 'best'}\n",
      "0.577778 (0.147406) with: {'max_features': 'sqrt', 'min_samples_leaf': 4, 'min_samples_split': 3, 'splitter': 'random'}\n",
      "0.584444 (0.222733) with: {'max_features': 'sqrt', 'min_samples_leaf': 4, 'min_samples_split': 4, 'splitter': 'best'}\n",
      "0.633333 (0.098883) with: {'max_features': 'sqrt', 'min_samples_leaf': 4, 'min_samples_split': 4, 'splitter': 'random'}\n",
      "0.000000 (0.000000) with: {'max_features': 'log2', 'min_samples_leaf': 1, 'min_samples_split': 1, 'splitter': 'best'}\n",
      "0.000000 (0.000000) with: {'max_features': 'log2', 'min_samples_leaf': 1, 'min_samples_split': 1, 'splitter': 'random'}\n",
      "0.611111 (0.214534) with: {'max_features': 'log2', 'min_samples_leaf': 1, 'min_samples_split': 2, 'splitter': 'best'}\n",
      "0.662222 (0.182925) with: {'max_features': 'log2', 'min_samples_leaf': 1, 'min_samples_split': 2, 'splitter': 'random'}\n",
      "0.577778 (0.199506) with: {'max_features': 'log2', 'min_samples_leaf': 1, 'min_samples_split': 3, 'splitter': 'best'}\n",
      "0.491111 (0.186772) with: {'max_features': 'log2', 'min_samples_leaf': 1, 'min_samples_split': 3, 'splitter': 'random'}\n",
      "0.595556 (0.230576) with: {'max_features': 'log2', 'min_samples_leaf': 1, 'min_samples_split': 4, 'splitter': 'best'}\n",
      "0.562222 (0.209361) with: {'max_features': 'log2', 'min_samples_leaf': 1, 'min_samples_split': 4, 'splitter': 'random'}\n",
      "0.000000 (0.000000) with: {'max_features': 'log2', 'min_samples_leaf': 2, 'min_samples_split': 1, 'splitter': 'best'}\n",
      "0.000000 (0.000000) with: {'max_features': 'log2', 'min_samples_leaf': 2, 'min_samples_split': 1, 'splitter': 'random'}\n",
      "0.433333 (0.084327) with: {'max_features': 'log2', 'min_samples_leaf': 2, 'min_samples_split': 2, 'splitter': 'best'}\n",
      "0.606667 (0.153575) with: {'max_features': 'log2', 'min_samples_leaf': 2, 'min_samples_split': 2, 'splitter': 'random'}\n",
      "0.513333 (0.160462) with: {'max_features': 'log2', 'min_samples_leaf': 2, 'min_samples_split': 3, 'splitter': 'best'}\n",
      "0.628889 (0.155333) with: {'max_features': 'log2', 'min_samples_leaf': 2, 'min_samples_split': 3, 'splitter': 'random'}\n",
      "0.537778 (0.178000) with: {'max_features': 'log2', 'min_samples_leaf': 2, 'min_samples_split': 4, 'splitter': 'best'}\n",
      "0.604444 (0.213565) with: {'max_features': 'log2', 'min_samples_leaf': 2, 'min_samples_split': 4, 'splitter': 'random'}\n",
      "0.000000 (0.000000) with: {'max_features': 'log2', 'min_samples_leaf': 3, 'min_samples_split': 1, 'splitter': 'best'}\n",
      "0.000000 (0.000000) with: {'max_features': 'log2', 'min_samples_leaf': 3, 'min_samples_split': 1, 'splitter': 'random'}\n",
      "0.531111 (0.264005) with: {'max_features': 'log2', 'min_samples_leaf': 3, 'min_samples_split': 2, 'splitter': 'best'}\n",
      "0.615556 (0.127580) with: {'max_features': 'log2', 'min_samples_leaf': 3, 'min_samples_split': 2, 'splitter': 'random'}\n",
      "0.582222 (0.209715) with: {'max_features': 'log2', 'min_samples_leaf': 3, 'min_samples_split': 3, 'splitter': 'best'}\n",
      "0.642222 (0.127927) with: {'max_features': 'log2', 'min_samples_leaf': 3, 'min_samples_split': 3, 'splitter': 'random'}\n",
      "0.577778 (0.203549) with: {'max_features': 'log2', 'min_samples_leaf': 3, 'min_samples_split': 4, 'splitter': 'best'}\n",
      "0.575556 (0.222267) with: {'max_features': 'log2', 'min_samples_leaf': 3, 'min_samples_split': 4, 'splitter': 'random'}\n",
      "0.000000 (0.000000) with: {'max_features': 'log2', 'min_samples_leaf': 4, 'min_samples_split': 1, 'splitter': 'best'}\n",
      "0.000000 (0.000000) with: {'max_features': 'log2', 'min_samples_leaf': 4, 'min_samples_split': 1, 'splitter': 'random'}\n",
      "0.568889 (0.192245) with: {'max_features': 'log2', 'min_samples_leaf': 4, 'min_samples_split': 2, 'splitter': 'best'}\n",
      "0.533333 (0.151535) with: {'max_features': 'log2', 'min_samples_leaf': 4, 'min_samples_split': 2, 'splitter': 'random'}\n",
      "0.515556 (0.170779) with: {'max_features': 'log2', 'min_samples_leaf': 4, 'min_samples_split': 3, 'splitter': 'best'}\n",
      "0.666667 (0.103280) with: {'max_features': 'log2', 'min_samples_leaf': 4, 'min_samples_split': 3, 'splitter': 'random'}\n",
      "0.537778 (0.201794) with: {'max_features': 'log2', 'min_samples_leaf': 4, 'min_samples_split': 4, 'splitter': 'best'}\n",
      "0.617778 (0.168156) with: {'max_features': 'log2', 'min_samples_leaf': 4, 'min_samples_split': 4, 'splitter': 'random'}\n"
     ]
    }
   ],
   "source": [
    "model = DecisionTreeClassifier()\n",
    "splitter = ['best', 'random']\n",
    "min_samples_split = range(1, 5) #41\n",
    "min_samples_leaf = range(1, 5) #21\n",
    "max_features = [None, 'auto', 'sqrt', 'log2']\n",
    "presort = [True, False]\n",
    "# define grid search\n",
    "grid = dict(splitter=splitter, min_samples_split=min_samples_split, \n",
    "            min_samples_leaf=min_samples_leaf,\n",
    "            max_features=max_features)\n",
    "cv = RepeatedStratifiedKFold(n_splits=n_splits, n_repeats=3, random_state=1)\n",
    "grid_search = GridSearchCV(estimator=model, param_grid=grid, n_jobs=-1, cv=cv, scoring=criterion,error_score=0)\n",
    "grid_result = grid_search.fit(X_train, y_train)\n",
    "# summarize results\n",
    "print(\"Best: %f using %s\" % (grid_result.best_score_, grid_result.best_params_))\n",
    "means = grid_result.cv_results_['mean_test_score']\n",
    "stds = grid_result.cv_results_['std_test_score']\n",
    "params = grid_result.cv_results_['params']\n",
    "for mean, stdev, param in zip(means, stds, params):\n",
    "    print(\"%f (%f) with: %r\" % (mean, stdev, param))"
   ]
  },
  {
   "cell_type": "code",
   "execution_count": 30,
   "id": "8e5e52f2-0431-4559-997f-43cdcf721016",
   "metadata": {},
   "outputs": [],
   "source": [
    "params = grid_search.best_params_"
   ]
  },
  {
   "cell_type": "code",
   "execution_count": 31,
   "id": "65e339b8-cf71-47df-941d-659e89dd4f07",
   "metadata": {},
   "outputs": [],
   "source": [
    "# instantiate the model (using tuned params)\n",
    "decTree_tuned = DecisionTreeClassifier(max_features=params['max_features'], \n",
    "                                       min_samples_leaf=params['min_samples_leaf'], \n",
    "                                       min_samples_split=params['min_samples_split'],\n",
    "                                      splitter=params['splitter'])\n",
    "\n",
    "\n",
    "\n",
    "# fit the model with data\n",
    "decTree_tuned.fit(X_train, y_train)\n",
    "\n",
    "y_pred = decTree_tuned.predict(X_test)\n",
    "y_pred_proba = decTree_tuned.predict_proba(X_test)"
   ]
  },
  {
   "cell_type": "code",
   "execution_count": 32,
   "id": "8bd2be27-b427-4f33-ace6-754d122a5bd1",
   "metadata": {},
   "outputs": [
    {
     "data": {
      "text/plain": [
       "array([[5, 5],\n",
       "       [9, 9]])"
      ]
     },
     "execution_count": 32,
     "metadata": {},
     "output_type": "execute_result"
    }
   ],
   "source": [
    "cnf_matrix = metrics.confusion_matrix(y_test, y_pred)\n",
    "cnf_matrix"
   ]
  },
  {
   "cell_type": "code",
   "execution_count": 33,
   "id": "770b73b5-0f0f-4d83-bad1-7a1ab24b98e9",
   "metadata": {},
   "outputs": [
    {
     "name": "stdout",
     "output_type": "stream",
     "text": [
      "Decision Trees Acccuracy (Tuned Using Optimal Params): 0.5\n"
     ]
    }
   ],
   "source": [
    "print(f'Decision Trees Acccuracy (Tuned Using Optimal Params): {np.trace(cnf_matrix)/np.sum(cnf_matrix)}')"
   ]
  },
  {
   "cell_type": "code",
   "execution_count": 34,
   "id": "7331f746-5f69-4a4a-81d5-7f9efe0b95fb",
   "metadata": {},
   "outputs": [
    {
     "data": {
      "text/plain": [
       "<sklearn.metrics._plot.roc_curve.RocCurveDisplay at 0x7f9cd06d3880>"
      ]
     },
     "execution_count": 34,
     "metadata": {},
     "output_type": "execute_result"
    },
    {
     "data": {
      "image/png": "[encoded data removed]",
      "text/plain": [
       "<Figure size 432x288 with 1 Axes>"
      ]
     },
     "metadata": {
      "needs_background": "light"
     },
     "output_type": "display_data"
    }
   ],
   "source": [
    "plot_roc_curve(decTree_tuned,X_test,y_test)"
   ]
  },
  {
   "cell_type": "code",
   "execution_count": 35,
   "id": "6c2f652b-0faf-46ea-91ec-8d5e29c394ef",
   "metadata": {},
   "outputs": [
    {
     "data": {
      "text/plain": [
       "Text(0.5, 257.44, 'Predicted label')"
      ]
     },
     "execution_count": 35,
     "metadata": {},
     "output_type": "execute_result"
    },
    {
     "data": {
      "image/png": "[encoded data removed]",
      "text/plain": [
       "<Figure size 432x288 with 2 Axes>"
      ]
     },
     "metadata": {
      "needs_background": "light"
     },
     "output_type": "display_data"
    }
   ],
   "source": [
    "class_names=[0,1] # name  of classes\n",
    "fig, ax = plt.subplots()\n",
    "tick_marks = np.arange(len(class_names))\n",
    "plt.xticks(tick_marks, class_names)\n",
    "plt.yticks(tick_marks, class_names)\n",
    "# create heatmap\n",
    "sns.heatmap(pd.DataFrame(cnf_matrix), annot=True, cmap=\"YlGnBu\" ,fmt='g')\n",
    "ax.xaxis.set_label_position(\"top\")\n",
    "plt.tight_layout()\n",
    "plt.title('Confusion matrix', y=1.1)\n",
    "plt.ylabel('Actual label')\n",
    "plt.xlabel('Predicted label')"
   ]
  },
  {
   "cell_type": "markdown",
   "id": "4561fa41-3b9d-47ce-97aa-0adb5aaef95a",
   "metadata": {
    "tags": []
   },
   "source": [
    "## Random Forest"
   ]
  },
  {
   "cell_type": "code",
   "execution_count": 36,
   "id": "f8e87ba4-2f26-4b06-91cc-e21275510ac4",
   "metadata": {
    "tags": []
   },
   "outputs": [
    {
     "name": "stdout",
     "output_type": "stream",
     "text": [
      "Best: 0.668889 using {'max_depth': 100, 'max_features': 3, 'min_samples_leaf': 5, 'min_samples_split': 10, 'n_estimators': 200}\n",
      "0.640000 (0.116237) with: {'max_depth': 80, 'max_features': 2, 'min_samples_leaf': 3, 'min_samples_split': 8, 'n_estimators': 100}\n",
      "0.606667 (0.141002) with: {'max_depth': 80, 'max_features': 2, 'min_samples_leaf': 3, 'min_samples_split': 8, 'n_estimators': 200}\n",
      "0.617778 (0.138707) with: {'max_depth': 80, 'max_features': 2, 'min_samples_leaf': 3, 'min_samples_split': 8, 'n_estimators': 300}\n",
      "0.631111 (0.110532) with: {'max_depth': 80, 'max_features': 2, 'min_samples_leaf': 3, 'min_samples_split': 8, 'n_estimators': 1000}\n",
      "0.657778 (0.099232) with: {'max_depth': 80, 'max_features': 2, 'min_samples_leaf': 3, 'min_samples_split': 10, 'n_estimators': 100}\n",
      "0.642222 (0.105034) with: {'max_depth': 80, 'max_features': 2, 'min_samples_leaf': 3, 'min_samples_split': 10, 'n_estimators': 200}\n",
      "0.631111 (0.082970) with: {'max_depth': 80, 'max_features': 2, 'min_samples_leaf': 3, 'min_samples_split': 10, 'n_estimators': 300}\n",
      "0.655556 (0.084034) with: {'max_depth': 80, 'max_features': 2, 'min_samples_leaf': 3, 'min_samples_split': 10, 'n_estimators': 1000}\n",
      "0.655556 (0.084034) with: {'max_depth': 80, 'max_features': 2, 'min_samples_leaf': 3, 'min_samples_split': 12, 'n_estimators': 100}\n",
      "0.655556 (0.084034) with: {'max_depth': 80, 'max_features': 2, 'min_samples_leaf': 3, 'min_samples_split': 12, 'n_estimators': 200}\n",
      "0.655556 (0.084034) with: {'max_depth': 80, 'max_features': 2, 'min_samples_leaf': 3, 'min_samples_split': 12, 'n_estimators': 300}\n",
      "0.655556 (0.084034) with: {'max_depth': 80, 'max_features': 2, 'min_samples_leaf': 3, 'min_samples_split': 12, 'n_estimators': 1000}\n",
      "0.628889 (0.121024) with: {'max_depth': 80, 'max_features': 2, 'min_samples_leaf': 4, 'min_samples_split': 8, 'n_estimators': 100}\n",
      "0.640000 (0.116237) with: {'max_depth': 80, 'max_features': 2, 'min_samples_leaf': 4, 'min_samples_split': 8, 'n_estimators': 200}\n",
      "0.631111 (0.110532) with: {'max_depth': 80, 'max_features': 2, 'min_samples_leaf': 4, 'min_samples_split': 8, 'n_estimators': 300}\n",
      "0.628889 (0.121024) with: {'max_depth': 80, 'max_features': 2, 'min_samples_leaf': 4, 'min_samples_split': 8, 'n_estimators': 1000}\n",
      "0.628889 (0.121024) with: {'max_depth': 80, 'max_features': 2, 'min_samples_leaf': 4, 'min_samples_split': 10, 'n_estimators': 100}\n",
      "0.655556 (0.084034) with: {'max_depth': 80, 'max_features': 2, 'min_samples_leaf': 4, 'min_samples_split': 10, 'n_estimators': 200}\n",
      "0.655556 (0.084034) with: {'max_depth': 80, 'max_features': 2, 'min_samples_leaf': 4, 'min_samples_split': 10, 'n_estimators': 300}\n",
      "0.655556 (0.084034) with: {'max_depth': 80, 'max_features': 2, 'min_samples_leaf': 4, 'min_samples_split': 10, 'n_estimators': 1000}\n",
      "0.666667 (0.073030) with: {'max_depth': 80, 'max_features': 2, 'min_samples_leaf': 4, 'min_samples_split': 12, 'n_estimators': 100}\n",
      "0.666667 (0.073030) with: {'max_depth': 80, 'max_features': 2, 'min_samples_leaf': 4, 'min_samples_split': 12, 'n_estimators': 200}\n",
      "0.666667 (0.073030) with: {'max_depth': 80, 'max_features': 2, 'min_samples_leaf': 4, 'min_samples_split': 12, 'n_estimators': 300}\n",
      "0.655556 (0.084034) with: {'max_depth': 80, 'max_features': 2, 'min_samples_leaf': 4, 'min_samples_split': 12, 'n_estimators': 1000}\n",
      "0.666667 (0.073030) with: {'max_depth': 80, 'max_features': 2, 'min_samples_leaf': 5, 'min_samples_split': 8, 'n_estimators': 100}\n",
      "0.655556 (0.084034) with: {'max_depth': 80, 'max_features': 2, 'min_samples_leaf': 5, 'min_samples_split': 8, 'n_estimators': 200}\n",
      "0.666667 (0.073030) with: {'max_depth': 80, 'max_features': 2, 'min_samples_leaf': 5, 'min_samples_split': 8, 'n_estimators': 300}\n",
      "0.655556 (0.084034) with: {'max_depth': 80, 'max_features': 2, 'min_samples_leaf': 5, 'min_samples_split': 8, 'n_estimators': 1000}\n",
      "0.666667 (0.073030) with: {'max_depth': 80, 'max_features': 2, 'min_samples_leaf': 5, 'min_samples_split': 10, 'n_estimators': 100}\n",
      "0.655556 (0.084034) with: {'max_depth': 80, 'max_features': 2, 'min_samples_leaf': 5, 'min_samples_split': 10, 'n_estimators': 200}\n",
      "0.666667 (0.073030) with: {'max_depth': 80, 'max_features': 2, 'min_samples_leaf': 5, 'min_samples_split': 10, 'n_estimators': 300}\n",
      "0.655556 (0.084034) with: {'max_depth': 80, 'max_features': 2, 'min_samples_leaf': 5, 'min_samples_split': 10, 'n_estimators': 1000}\n",
      "0.666667 (0.073030) with: {'max_depth': 80, 'max_features': 2, 'min_samples_leaf': 5, 'min_samples_split': 12, 'n_estimators': 100}\n",
      "0.666667 (0.073030) with: {'max_depth': 80, 'max_features': 2, 'min_samples_leaf': 5, 'min_samples_split': 12, 'n_estimators': 200}\n",
      "0.666667 (0.073030) with: {'max_depth': 80, 'max_features': 2, 'min_samples_leaf': 5, 'min_samples_split': 12, 'n_estimators': 300}\n",
      "0.666667 (0.073030) with: {'max_depth': 80, 'max_features': 2, 'min_samples_leaf': 5, 'min_samples_split': 12, 'n_estimators': 1000}\n",
      "0.608889 (0.157981) with: {'max_depth': 80, 'max_features': 3, 'min_samples_leaf': 3, 'min_samples_split': 8, 'n_estimators': 100}\n",
      "0.606667 (0.127192) with: {'max_depth': 80, 'max_features': 3, 'min_samples_leaf': 3, 'min_samples_split': 8, 'n_estimators': 200}\n",
      "0.595556 (0.166385) with: {'max_depth': 80, 'max_features': 3, 'min_samples_leaf': 3, 'min_samples_split': 8, 'n_estimators': 300}\n",
      "0.595556 (0.166385) with: {'max_depth': 80, 'max_features': 3, 'min_samples_leaf': 3, 'min_samples_split': 8, 'n_estimators': 1000}\n",
      "0.617778 (0.101007) with: {'max_depth': 80, 'max_features': 3, 'min_samples_leaf': 3, 'min_samples_split': 10, 'n_estimators': 100}\n",
      "0.631111 (0.110532) with: {'max_depth': 80, 'max_features': 3, 'min_samples_leaf': 3, 'min_samples_split': 10, 'n_estimators': 200}\n",
      "0.633333 (0.098883) with: {'max_depth': 80, 'max_features': 3, 'min_samples_leaf': 3, 'min_samples_split': 10, 'n_estimators': 300}\n",
      "0.642222 (0.105034) with: {'max_depth': 80, 'max_features': 3, 'min_samples_leaf': 3, 'min_samples_split': 10, 'n_estimators': 1000}\n",
      "0.633333 (0.098883) with: {'max_depth': 80, 'max_features': 3, 'min_samples_leaf': 3, 'min_samples_split': 12, 'n_estimators': 100}\n",
      "0.655556 (0.084034) with: {'max_depth': 80, 'max_features': 3, 'min_samples_leaf': 3, 'min_samples_split': 12, 'n_estimators': 200}\n",
      "0.644444 (0.092429) with: {'max_depth': 80, 'max_features': 3, 'min_samples_leaf': 3, 'min_samples_split': 12, 'n_estimators': 300}\n",
      "0.644444 (0.092429) with: {'max_depth': 80, 'max_features': 3, 'min_samples_leaf': 3, 'min_samples_split': 12, 'n_estimators': 1000}\n",
      "0.628889 (0.121024) with: {'max_depth': 80, 'max_features': 3, 'min_samples_leaf': 4, 'min_samples_split': 8, 'n_estimators': 100}\n",
      "0.604444 (0.136010) with: {'max_depth': 80, 'max_features': 3, 'min_samples_leaf': 4, 'min_samples_split': 8, 'n_estimators': 200}\n",
      "0.604444 (0.149005) with: {'max_depth': 80, 'max_features': 3, 'min_samples_leaf': 4, 'min_samples_split': 8, 'n_estimators': 300}\n",
      "0.613333 (0.160000) with: {'max_depth': 80, 'max_features': 3, 'min_samples_leaf': 4, 'min_samples_split': 8, 'n_estimators': 1000}\n",
      "0.582222 (0.167273) with: {'max_depth': 80, 'max_features': 3, 'min_samples_leaf': 4, 'min_samples_split': 10, 'n_estimators': 100}\n",
      "0.617778 (0.124643) with: {'max_depth': 80, 'max_features': 3, 'min_samples_leaf': 4, 'min_samples_split': 10, 'n_estimators': 200}\n",
      "0.640000 (0.116237) with: {'max_depth': 80, 'max_features': 3, 'min_samples_leaf': 4, 'min_samples_split': 10, 'n_estimators': 300}\n",
      "0.631111 (0.110532) with: {'max_depth': 80, 'max_features': 3, 'min_samples_leaf': 4, 'min_samples_split': 10, 'n_estimators': 1000}\n",
      "0.642222 (0.105034) with: {'max_depth': 80, 'max_features': 3, 'min_samples_leaf': 4, 'min_samples_split': 12, 'n_estimators': 100}\n",
      "0.655556 (0.084034) with: {'max_depth': 80, 'max_features': 3, 'min_samples_leaf': 4, 'min_samples_split': 12, 'n_estimators': 200}\n",
      "0.655556 (0.084034) with: {'max_depth': 80, 'max_features': 3, 'min_samples_leaf': 4, 'min_samples_split': 12, 'n_estimators': 300}\n",
      "0.655556 (0.084034) with: {'max_depth': 80, 'max_features': 3, 'min_samples_leaf': 4, 'min_samples_split': 12, 'n_estimators': 1000}\n",
      "0.631111 (0.110532) with: {'max_depth': 80, 'max_features': 3, 'min_samples_leaf': 5, 'min_samples_split': 8, 'n_estimators': 100}\n",
      "0.642222 (0.105034) with: {'max_depth': 80, 'max_features': 3, 'min_samples_leaf': 5, 'min_samples_split': 8, 'n_estimators': 200}\n",
      "0.617778 (0.124643) with: {'max_depth': 80, 'max_features': 3, 'min_samples_leaf': 5, 'min_samples_split': 8, 'n_estimators': 300}\n",
      "0.655556 (0.084034) with: {'max_depth': 80, 'max_features': 3, 'min_samples_leaf': 5, 'min_samples_split': 8, 'n_estimators': 1000}\n",
      "0.655556 (0.084034) with: {'max_depth': 80, 'max_features': 3, 'min_samples_leaf': 5, 'min_samples_split': 10, 'n_estimators': 100}\n",
      "0.617778 (0.124643) with: {'max_depth': 80, 'max_features': 3, 'min_samples_leaf': 5, 'min_samples_split': 10, 'n_estimators': 200}\n",
      "0.642222 (0.105034) with: {'max_depth': 80, 'max_features': 3, 'min_samples_leaf': 5, 'min_samples_split': 10, 'n_estimators': 300}\n",
      "0.642222 (0.105034) with: {'max_depth': 80, 'max_features': 3, 'min_samples_leaf': 5, 'min_samples_split': 10, 'n_estimators': 1000}\n",
      "0.655556 (0.084034) with: {'max_depth': 80, 'max_features': 3, 'min_samples_leaf': 5, 'min_samples_split': 12, 'n_estimators': 100}\n",
      "0.655556 (0.084034) with: {'max_depth': 80, 'max_features': 3, 'min_samples_leaf': 5, 'min_samples_split': 12, 'n_estimators': 200}\n",
      "0.655556 (0.084034) with: {'max_depth': 80, 'max_features': 3, 'min_samples_leaf': 5, 'min_samples_split': 12, 'n_estimators': 300}\n",
      "0.655556 (0.084034) with: {'max_depth': 80, 'max_features': 3, 'min_samples_leaf': 5, 'min_samples_split': 12, 'n_estimators': 1000}\n",
      "0.631111 (0.110532) with: {'max_depth': 90, 'max_features': 2, 'min_samples_leaf': 3, 'min_samples_split': 8, 'n_estimators': 100}\n",
      "0.615556 (0.133814) with: {'max_depth': 90, 'max_features': 2, 'min_samples_leaf': 3, 'min_samples_split': 8, 'n_estimators': 200}\n",
      "0.631111 (0.110532) with: {'max_depth': 90, 'max_features': 2, 'min_samples_leaf': 3, 'min_samples_split': 8, 'n_estimators': 300}\n",
      "0.631111 (0.126178) with: {'max_depth': 90, 'max_features': 2, 'min_samples_leaf': 3, 'min_samples_split': 8, 'n_estimators': 1000}\n",
      "0.655556 (0.084034) with: {'max_depth': 90, 'max_features': 2, 'min_samples_leaf': 3, 'min_samples_split': 10, 'n_estimators': 100}\n",
      "0.655556 (0.084034) with: {'max_depth': 90, 'max_features': 2, 'min_samples_leaf': 3, 'min_samples_split': 10, 'n_estimators': 200}\n",
      "0.644444 (0.092429) with: {'max_depth': 90, 'max_features': 2, 'min_samples_leaf': 3, 'min_samples_split': 10, 'n_estimators': 300}\n",
      "0.655556 (0.084034) with: {'max_depth': 90, 'max_features': 2, 'min_samples_leaf': 3, 'min_samples_split': 10, 'n_estimators': 1000}\n",
      "0.655556 (0.084034) with: {'max_depth': 90, 'max_features': 2, 'min_samples_leaf': 3, 'min_samples_split': 12, 'n_estimators': 100}\n",
      "0.655556 (0.084034) with: {'max_depth': 90, 'max_features': 2, 'min_samples_leaf': 3, 'min_samples_split': 12, 'n_estimators': 200}\n",
      "0.655556 (0.084034) with: {'max_depth': 90, 'max_features': 2, 'min_samples_leaf': 3, 'min_samples_split': 12, 'n_estimators': 300}\n",
      "0.655556 (0.084034) with: {'max_depth': 90, 'max_features': 2, 'min_samples_leaf': 3, 'min_samples_split': 12, 'n_estimators': 1000}\n",
      "0.615556 (0.152445) with: {'max_depth': 90, 'max_features': 2, 'min_samples_leaf': 4, 'min_samples_split': 8, 'n_estimators': 100}\n",
      "0.628889 (0.121024) with: {'max_depth': 90, 'max_features': 2, 'min_samples_leaf': 4, 'min_samples_split': 8, 'n_estimators': 200}\n",
      "0.628889 (0.121024) with: {'max_depth': 90, 'max_features': 2, 'min_samples_leaf': 4, 'min_samples_split': 8, 'n_estimators': 300}\n",
      "0.628889 (0.121024) with: {'max_depth': 90, 'max_features': 2, 'min_samples_leaf': 4, 'min_samples_split': 8, 'n_estimators': 1000}\n",
      "0.628889 (0.121024) with: {'max_depth': 90, 'max_features': 2, 'min_samples_leaf': 4, 'min_samples_split': 10, 'n_estimators': 100}\n",
      "0.666667 (0.073030) with: {'max_depth': 90, 'max_features': 2, 'min_samples_leaf': 4, 'min_samples_split': 10, 'n_estimators': 200}\n",
      "0.655556 (0.084034) with: {'max_depth': 90, 'max_features': 2, 'min_samples_leaf': 4, 'min_samples_split': 10, 'n_estimators': 300}\n",
      "0.655556 (0.084034) with: {'max_depth': 90, 'max_features': 2, 'min_samples_leaf': 4, 'min_samples_split': 10, 'n_estimators': 1000}\n",
      "0.655556 (0.084034) with: {'max_depth': 90, 'max_features': 2, 'min_samples_leaf': 4, 'min_samples_split': 12, 'n_estimators': 100}\n",
      "0.666667 (0.073030) with: {'max_depth': 90, 'max_features': 2, 'min_samples_leaf': 4, 'min_samples_split': 12, 'n_estimators': 200}\n",
      "0.655556 (0.084034) with: {'max_depth': 90, 'max_features': 2, 'min_samples_leaf': 4, 'min_samples_split': 12, 'n_estimators': 300}\n",
      "0.666667 (0.073030) with: {'max_depth': 90, 'max_features': 2, 'min_samples_leaf': 4, 'min_samples_split': 12, 'n_estimators': 1000}\n",
      "0.666667 (0.073030) with: {'max_depth': 90, 'max_features': 2, 'min_samples_leaf': 5, 'min_samples_split': 8, 'n_estimators': 100}\n",
      "0.655556 (0.084034) with: {'max_depth': 90, 'max_features': 2, 'min_samples_leaf': 5, 'min_samples_split': 8, 'n_estimators': 200}\n",
      "0.666667 (0.073030) with: {'max_depth': 90, 'max_features': 2, 'min_samples_leaf': 5, 'min_samples_split': 8, 'n_estimators': 300}\n",
      "0.666667 (0.073030) with: {'max_depth': 90, 'max_features': 2, 'min_samples_leaf': 5, 'min_samples_split': 8, 'n_estimators': 1000}\n",
      "0.666667 (0.073030) with: {'max_depth': 90, 'max_features': 2, 'min_samples_leaf': 5, 'min_samples_split': 10, 'n_estimators': 100}\n",
      "0.666667 (0.073030) with: {'max_depth': 90, 'max_features': 2, 'min_samples_leaf': 5, 'min_samples_split': 10, 'n_estimators': 200}\n",
      "0.666667 (0.073030) with: {'max_depth': 90, 'max_features': 2, 'min_samples_leaf': 5, 'min_samples_split': 10, 'n_estimators': 300}\n",
      "0.666667 (0.073030) with: {'max_depth': 90, 'max_features': 2, 'min_samples_leaf': 5, 'min_samples_split': 10, 'n_estimators': 1000}\n",
      "0.666667 (0.073030) with: {'max_depth': 90, 'max_features': 2, 'min_samples_leaf': 5, 'min_samples_split': 12, 'n_estimators': 100}\n",
      "0.666667 (0.073030) with: {'max_depth': 90, 'max_features': 2, 'min_samples_leaf': 5, 'min_samples_split': 12, 'n_estimators': 200}\n",
      "0.655556 (0.084034) with: {'max_depth': 90, 'max_features': 2, 'min_samples_leaf': 5, 'min_samples_split': 12, 'n_estimators': 300}\n",
      "0.666667 (0.073030) with: {'max_depth': 90, 'max_features': 2, 'min_samples_leaf': 5, 'min_samples_split': 12, 'n_estimators': 1000}\n",
      "0.580000 (0.157668) with: {'max_depth': 90, 'max_features': 3, 'min_samples_leaf': 3, 'min_samples_split': 8, 'n_estimators': 100}\n",
      "0.595556 (0.142396) with: {'max_depth': 90, 'max_features': 3, 'min_samples_leaf': 3, 'min_samples_split': 8, 'n_estimators': 200}\n",
      "0.595556 (0.142396) with: {'max_depth': 90, 'max_features': 3, 'min_samples_leaf': 3, 'min_samples_split': 8, 'n_estimators': 300}\n",
      "0.584444 (0.166830) with: {'max_depth': 90, 'max_features': 3, 'min_samples_leaf': 3, 'min_samples_split': 8, 'n_estimators': 1000}\n",
      "0.657778 (0.099232) with: {'max_depth': 90, 'max_features': 3, 'min_samples_leaf': 3, 'min_samples_split': 10, 'n_estimators': 100}\n",
      "0.628889 (0.096507) with: {'max_depth': 90, 'max_features': 3, 'min_samples_leaf': 3, 'min_samples_split': 10, 'n_estimators': 200}\n",
      "0.628889 (0.096507) with: {'max_depth': 90, 'max_features': 3, 'min_samples_leaf': 3, 'min_samples_split': 10, 'n_estimators': 300}\n",
      "0.633333 (0.116110) with: {'max_depth': 90, 'max_features': 3, 'min_samples_leaf': 3, 'min_samples_split': 10, 'n_estimators': 1000}\n",
      "0.628889 (0.096507) with: {'max_depth': 90, 'max_features': 3, 'min_samples_leaf': 3, 'min_samples_split': 12, 'n_estimators': 100}\n",
      "0.644444 (0.092429) with: {'max_depth': 90, 'max_features': 3, 'min_samples_leaf': 3, 'min_samples_split': 12, 'n_estimators': 200}\n",
      "0.642222 (0.075490) with: {'max_depth': 90, 'max_features': 3, 'min_samples_leaf': 3, 'min_samples_split': 12, 'n_estimators': 300}\n",
      "0.631111 (0.082970) with: {'max_depth': 90, 'max_features': 3, 'min_samples_leaf': 3, 'min_samples_split': 12, 'n_estimators': 1000}\n",
      "0.593333 (0.173077) with: {'max_depth': 90, 'max_features': 3, 'min_samples_leaf': 4, 'min_samples_split': 8, 'n_estimators': 100}\n",
      "0.615556 (0.133814) with: {'max_depth': 90, 'max_features': 3, 'min_samples_leaf': 4, 'min_samples_split': 8, 'n_estimators': 200}\n",
      "0.626667 (0.130639) with: {'max_depth': 90, 'max_features': 3, 'min_samples_leaf': 4, 'min_samples_split': 8, 'n_estimators': 300}\n",
      "0.615556 (0.133814) with: {'max_depth': 90, 'max_features': 3, 'min_samples_leaf': 4, 'min_samples_split': 8, 'n_estimators': 1000}\n",
      "0.606667 (0.127192) with: {'max_depth': 90, 'max_features': 3, 'min_samples_leaf': 4, 'min_samples_split': 10, 'n_estimators': 100}\n",
      "0.617778 (0.138707) with: {'max_depth': 90, 'max_features': 3, 'min_samples_leaf': 4, 'min_samples_split': 10, 'n_estimators': 200}\n",
      "0.617778 (0.124643) with: {'max_depth': 90, 'max_features': 3, 'min_samples_leaf': 4, 'min_samples_split': 10, 'n_estimators': 300}\n",
      "0.642222 (0.105034) with: {'max_depth': 90, 'max_features': 3, 'min_samples_leaf': 4, 'min_samples_split': 10, 'n_estimators': 1000}\n",
      "0.644444 (0.117799) with: {'max_depth': 90, 'max_features': 3, 'min_samples_leaf': 4, 'min_samples_split': 12, 'n_estimators': 100}\n",
      "0.655556 (0.084034) with: {'max_depth': 90, 'max_features': 3, 'min_samples_leaf': 4, 'min_samples_split': 12, 'n_estimators': 200}\n",
      "0.655556 (0.084034) with: {'max_depth': 90, 'max_features': 3, 'min_samples_leaf': 4, 'min_samples_split': 12, 'n_estimators': 300}\n",
      "0.655556 (0.084034) with: {'max_depth': 90, 'max_features': 3, 'min_samples_leaf': 4, 'min_samples_split': 12, 'n_estimators': 1000}\n",
      "0.606667 (0.127192) with: {'max_depth': 90, 'max_features': 3, 'min_samples_leaf': 5, 'min_samples_split': 8, 'n_estimators': 100}\n",
      "0.642222 (0.105034) with: {'max_depth': 90, 'max_features': 3, 'min_samples_leaf': 5, 'min_samples_split': 8, 'n_estimators': 200}\n",
      "0.628889 (0.121024) with: {'max_depth': 90, 'max_features': 3, 'min_samples_leaf': 5, 'min_samples_split': 8, 'n_estimators': 300}\n",
      "0.642222 (0.105034) with: {'max_depth': 90, 'max_features': 3, 'min_samples_leaf': 5, 'min_samples_split': 8, 'n_estimators': 1000}\n",
      "0.642222 (0.105034) with: {'max_depth': 90, 'max_features': 3, 'min_samples_leaf': 5, 'min_samples_split': 10, 'n_estimators': 100}\n",
      "0.644444 (0.092429) with: {'max_depth': 90, 'max_features': 3, 'min_samples_leaf': 5, 'min_samples_split': 10, 'n_estimators': 200}\n",
      "0.642222 (0.105034) with: {'max_depth': 90, 'max_features': 3, 'min_samples_leaf': 5, 'min_samples_split': 10, 'n_estimators': 300}\n",
      "0.642222 (0.105034) with: {'max_depth': 90, 'max_features': 3, 'min_samples_leaf': 5, 'min_samples_split': 10, 'n_estimators': 1000}\n",
      "0.655556 (0.084034) with: {'max_depth': 90, 'max_features': 3, 'min_samples_leaf': 5, 'min_samples_split': 12, 'n_estimators': 100}\n",
      "0.631111 (0.110532) with: {'max_depth': 90, 'max_features': 3, 'min_samples_leaf': 5, 'min_samples_split': 12, 'n_estimators': 200}\n",
      "0.655556 (0.084034) with: {'max_depth': 90, 'max_features': 3, 'min_samples_leaf': 5, 'min_samples_split': 12, 'n_estimators': 300}\n",
      "0.655556 (0.084034) with: {'max_depth': 90, 'max_features': 3, 'min_samples_leaf': 5, 'min_samples_split': 12, 'n_estimators': 1000}\n",
      "0.582222 (0.150489) with: {'max_depth': 100, 'max_features': 2, 'min_samples_leaf': 3, 'min_samples_split': 8, 'n_estimators': 100}\n",
      "0.606667 (0.141002) with: {'max_depth': 100, 'max_features': 2, 'min_samples_leaf': 3, 'min_samples_split': 8, 'n_estimators': 200}\n",
      "0.642222 (0.105034) with: {'max_depth': 100, 'max_features': 2, 'min_samples_leaf': 3, 'min_samples_split': 8, 'n_estimators': 300}\n",
      "0.604444 (0.149005) with: {'max_depth': 100, 'max_features': 2, 'min_samples_leaf': 3, 'min_samples_split': 8, 'n_estimators': 1000}\n",
      "0.633333 (0.098883) with: {'max_depth': 100, 'max_features': 2, 'min_samples_leaf': 3, 'min_samples_split': 10, 'n_estimators': 100}\n",
      "0.666667 (0.073030) with: {'max_depth': 100, 'max_features': 2, 'min_samples_leaf': 3, 'min_samples_split': 10, 'n_estimators': 200}\n",
      "0.644444 (0.092429) with: {'max_depth': 100, 'max_features': 2, 'min_samples_leaf': 3, 'min_samples_split': 10, 'n_estimators': 300}\n",
      "0.657778 (0.099232) with: {'max_depth': 100, 'max_features': 2, 'min_samples_leaf': 3, 'min_samples_split': 10, 'n_estimators': 1000}\n",
      "0.655556 (0.084034) with: {'max_depth': 100, 'max_features': 2, 'min_samples_leaf': 3, 'min_samples_split': 12, 'n_estimators': 100}\n",
      "0.655556 (0.084034) with: {'max_depth': 100, 'max_features': 2, 'min_samples_leaf': 3, 'min_samples_split': 12, 'n_estimators': 200}\n",
      "0.655556 (0.084034) with: {'max_depth': 100, 'max_features': 2, 'min_samples_leaf': 3, 'min_samples_split': 12, 'n_estimators': 300}\n",
      "0.655556 (0.084034) with: {'max_depth': 100, 'max_features': 2, 'min_samples_leaf': 3, 'min_samples_split': 12, 'n_estimators': 1000}\n",
      "0.617778 (0.124643) with: {'max_depth': 100, 'max_features': 2, 'min_samples_leaf': 4, 'min_samples_split': 8, 'n_estimators': 100}\n",
      "0.615556 (0.133814) with: {'max_depth': 100, 'max_features': 2, 'min_samples_leaf': 4, 'min_samples_split': 8, 'n_estimators': 200}\n",
      "0.640000 (0.116237) with: {'max_depth': 100, 'max_features': 2, 'min_samples_leaf': 4, 'min_samples_split': 8, 'n_estimators': 300}\n",
      "0.640000 (0.116237) with: {'max_depth': 100, 'max_features': 2, 'min_samples_leaf': 4, 'min_samples_split': 8, 'n_estimators': 1000}\n",
      "0.655556 (0.084034) with: {'max_depth': 100, 'max_features': 2, 'min_samples_leaf': 4, 'min_samples_split': 10, 'n_estimators': 100}\n",
      "0.655556 (0.084034) with: {'max_depth': 100, 'max_features': 2, 'min_samples_leaf': 4, 'min_samples_split': 10, 'n_estimators': 200}\n",
      "0.644444 (0.092429) with: {'max_depth': 100, 'max_features': 2, 'min_samples_leaf': 4, 'min_samples_split': 10, 'n_estimators': 300}\n",
      "0.642222 (0.105034) with: {'max_depth': 100, 'max_features': 2, 'min_samples_leaf': 4, 'min_samples_split': 10, 'n_estimators': 1000}\n",
      "0.655556 (0.084034) with: {'max_depth': 100, 'max_features': 2, 'min_samples_leaf': 4, 'min_samples_split': 12, 'n_estimators': 100}\n",
      "0.666667 (0.073030) with: {'max_depth': 100, 'max_features': 2, 'min_samples_leaf': 4, 'min_samples_split': 12, 'n_estimators': 200}\n",
      "0.655556 (0.084034) with: {'max_depth': 100, 'max_features': 2, 'min_samples_leaf': 4, 'min_samples_split': 12, 'n_estimators': 300}\n",
      "0.666667 (0.073030) with: {'max_depth': 100, 'max_features': 2, 'min_samples_leaf': 4, 'min_samples_split': 12, 'n_estimators': 1000}\n",
      "0.666667 (0.073030) with: {'max_depth': 100, 'max_features': 2, 'min_samples_leaf': 5, 'min_samples_split': 8, 'n_estimators': 100}\n",
      "0.655556 (0.084034) with: {'max_depth': 100, 'max_features': 2, 'min_samples_leaf': 5, 'min_samples_split': 8, 'n_estimators': 200}\n",
      "0.666667 (0.073030) with: {'max_depth': 100, 'max_features': 2, 'min_samples_leaf': 5, 'min_samples_split': 8, 'n_estimators': 300}\n",
      "0.655556 (0.084034) with: {'max_depth': 100, 'max_features': 2, 'min_samples_leaf': 5, 'min_samples_split': 8, 'n_estimators': 1000}\n",
      "0.666667 (0.073030) with: {'max_depth': 100, 'max_features': 2, 'min_samples_leaf': 5, 'min_samples_split': 10, 'n_estimators': 100}\n",
      "0.666667 (0.073030) with: {'max_depth': 100, 'max_features': 2, 'min_samples_leaf': 5, 'min_samples_split': 10, 'n_estimators': 200}\n",
      "0.655556 (0.084034) with: {'max_depth': 100, 'max_features': 2, 'min_samples_leaf': 5, 'min_samples_split': 10, 'n_estimators': 300}\n",
      "0.655556 (0.084034) with: {'max_depth': 100, 'max_features': 2, 'min_samples_leaf': 5, 'min_samples_split': 10, 'n_estimators': 1000}\n",
      "0.666667 (0.073030) with: {'max_depth': 100, 'max_features': 2, 'min_samples_leaf': 5, 'min_samples_split': 12, 'n_estimators': 100}\n",
      "0.666667 (0.073030) with: {'max_depth': 100, 'max_features': 2, 'min_samples_leaf': 5, 'min_samples_split': 12, 'n_estimators': 200}\n",
      "0.666667 (0.073030) with: {'max_depth': 100, 'max_features': 2, 'min_samples_leaf': 5, 'min_samples_split': 12, 'n_estimators': 300}\n",
      "0.666667 (0.073030) with: {'max_depth': 100, 'max_features': 2, 'min_samples_leaf': 5, 'min_samples_split': 12, 'n_estimators': 1000}\n",
      "0.568889 (0.139027) with: {'max_depth': 100, 'max_features': 3, 'min_samples_leaf': 3, 'min_samples_split': 8, 'n_estimators': 100}\n",
      "0.602222 (0.124405) with: {'max_depth': 100, 'max_features': 3, 'min_samples_leaf': 3, 'min_samples_split': 8, 'n_estimators': 200}\n",
      "0.582222 (0.150489) with: {'max_depth': 100, 'max_features': 3, 'min_samples_leaf': 3, 'min_samples_split': 8, 'n_estimators': 300}\n",
      "0.584444 (0.166830) with: {'max_depth': 100, 'max_features': 3, 'min_samples_leaf': 3, 'min_samples_split': 8, 'n_estimators': 1000}\n",
      "0.620000 (0.088443) with: {'max_depth': 100, 'max_features': 3, 'min_samples_leaf': 3, 'min_samples_split': 10, 'n_estimators': 100}\n",
      "0.620000 (0.129843) with: {'max_depth': 100, 'max_features': 3, 'min_samples_leaf': 3, 'min_samples_split': 10, 'n_estimators': 200}\n",
      "0.633333 (0.098883) with: {'max_depth': 100, 'max_features': 3, 'min_samples_leaf': 3, 'min_samples_split': 10, 'n_estimators': 300}\n",
      "0.606667 (0.120616) with: {'max_depth': 100, 'max_features': 3, 'min_samples_leaf': 3, 'min_samples_split': 10, 'n_estimators': 1000}\n",
      "0.644444 (0.092429) with: {'max_depth': 100, 'max_features': 3, 'min_samples_leaf': 3, 'min_samples_split': 12, 'n_estimators': 100}\n",
      "0.642222 (0.075490) with: {'max_depth': 100, 'max_features': 3, 'min_samples_leaf': 3, 'min_samples_split': 12, 'n_estimators': 200}\n",
      "0.655556 (0.084034) with: {'max_depth': 100, 'max_features': 3, 'min_samples_leaf': 3, 'min_samples_split': 12, 'n_estimators': 300}\n",
      "0.655556 (0.084034) with: {'max_depth': 100, 'max_features': 3, 'min_samples_leaf': 3, 'min_samples_split': 12, 'n_estimators': 1000}\n",
      "0.593333 (0.150160) with: {'max_depth': 100, 'max_features': 3, 'min_samples_leaf': 4, 'min_samples_split': 8, 'n_estimators': 100}\n",
      "0.617778 (0.124643) with: {'max_depth': 100, 'max_features': 3, 'min_samples_leaf': 4, 'min_samples_split': 8, 'n_estimators': 200}\n",
      "0.617778 (0.124643) with: {'max_depth': 100, 'max_features': 3, 'min_samples_leaf': 4, 'min_samples_split': 8, 'n_estimators': 300}\n",
      "0.604444 (0.136010) with: {'max_depth': 100, 'max_features': 3, 'min_samples_leaf': 4, 'min_samples_split': 8, 'n_estimators': 1000}\n",
      "0.593333 (0.166977) with: {'max_depth': 100, 'max_features': 3, 'min_samples_leaf': 4, 'min_samples_split': 10, 'n_estimators': 100}\n",
      "0.633333 (0.098883) with: {'max_depth': 100, 'max_features': 3, 'min_samples_leaf': 4, 'min_samples_split': 10, 'n_estimators': 200}\n",
      "0.628889 (0.121024) with: {'max_depth': 100, 'max_features': 3, 'min_samples_leaf': 4, 'min_samples_split': 10, 'n_estimators': 300}\n",
      "0.631111 (0.110532) with: {'max_depth': 100, 'max_features': 3, 'min_samples_leaf': 4, 'min_samples_split': 10, 'n_estimators': 1000}\n",
      "0.644444 (0.092429) with: {'max_depth': 100, 'max_features': 3, 'min_samples_leaf': 4, 'min_samples_split': 12, 'n_estimators': 100}\n",
      "0.644444 (0.092429) with: {'max_depth': 100, 'max_features': 3, 'min_samples_leaf': 4, 'min_samples_split': 12, 'n_estimators': 200}\n",
      "0.644444 (0.092429) with: {'max_depth': 100, 'max_features': 3, 'min_samples_leaf': 4, 'min_samples_split': 12, 'n_estimators': 300}\n",
      "0.655556 (0.084034) with: {'max_depth': 100, 'max_features': 3, 'min_samples_leaf': 4, 'min_samples_split': 12, 'n_estimators': 1000}\n",
      "0.628889 (0.121024) with: {'max_depth': 100, 'max_features': 3, 'min_samples_leaf': 5, 'min_samples_split': 8, 'n_estimators': 100}\n",
      "0.617778 (0.124643) with: {'max_depth': 100, 'max_features': 3, 'min_samples_leaf': 5, 'min_samples_split': 8, 'n_estimators': 200}\n",
      "0.642222 (0.105034) with: {'max_depth': 100, 'max_features': 3, 'min_samples_leaf': 5, 'min_samples_split': 8, 'n_estimators': 300}\n",
      "0.655556 (0.084034) with: {'max_depth': 100, 'max_features': 3, 'min_samples_leaf': 5, 'min_samples_split': 8, 'n_estimators': 1000}\n",
      "0.655556 (0.084034) with: {'max_depth': 100, 'max_features': 3, 'min_samples_leaf': 5, 'min_samples_split': 10, 'n_estimators': 100}\n",
      "0.668889 (0.089828) with: {'max_depth': 100, 'max_features': 3, 'min_samples_leaf': 5, 'min_samples_split': 10, 'n_estimators': 200}\n",
      "0.642222 (0.105034) with: {'max_depth': 100, 'max_features': 3, 'min_samples_leaf': 5, 'min_samples_split': 10, 'n_estimators': 300}\n",
      "0.655556 (0.084034) with: {'max_depth': 100, 'max_features': 3, 'min_samples_leaf': 5, 'min_samples_split': 10, 'n_estimators': 1000}\n",
      "0.631111 (0.110532) with: {'max_depth': 100, 'max_features': 3, 'min_samples_leaf': 5, 'min_samples_split': 12, 'n_estimators': 100}\n",
      "0.655556 (0.084034) with: {'max_depth': 100, 'max_features': 3, 'min_samples_leaf': 5, 'min_samples_split': 12, 'n_estimators': 200}\n",
      "0.655556 (0.084034) with: {'max_depth': 100, 'max_features': 3, 'min_samples_leaf': 5, 'min_samples_split': 12, 'n_estimators': 300}\n",
      "0.655556 (0.084034) with: {'max_depth': 100, 'max_features': 3, 'min_samples_leaf': 5, 'min_samples_split': 12, 'n_estimators': 1000}\n",
      "0.631111 (0.110532) with: {'max_depth': 110, 'max_features': 2, 'min_samples_leaf': 3, 'min_samples_split': 8, 'n_estimators': 100}\n",
      "0.628889 (0.121024) with: {'max_depth': 110, 'max_features': 2, 'min_samples_leaf': 3, 'min_samples_split': 8, 'n_estimators': 200}\n",
      "0.653333 (0.097980) with: {'max_depth': 110, 'max_features': 2, 'min_samples_leaf': 3, 'min_samples_split': 8, 'n_estimators': 300}\n",
      "0.617778 (0.124643) with: {'max_depth': 110, 'max_features': 2, 'min_samples_leaf': 3, 'min_samples_split': 8, 'n_estimators': 1000}\n",
      "0.642222 (0.105034) with: {'max_depth': 110, 'max_features': 2, 'min_samples_leaf': 3, 'min_samples_split': 10, 'n_estimators': 100}\n",
      "0.668889 (0.089828) with: {'max_depth': 110, 'max_features': 2, 'min_samples_leaf': 3, 'min_samples_split': 10, 'n_estimators': 200}\n",
      "0.655556 (0.084034) with: {'max_depth': 110, 'max_features': 2, 'min_samples_leaf': 3, 'min_samples_split': 10, 'n_estimators': 300}\n",
      "0.642222 (0.105034) with: {'max_depth': 110, 'max_features': 2, 'min_samples_leaf': 3, 'min_samples_split': 10, 'n_estimators': 1000}\n",
      "0.653333 (0.065320) with: {'max_depth': 110, 'max_features': 2, 'min_samples_leaf': 3, 'min_samples_split': 12, 'n_estimators': 100}\n",
      "0.655556 (0.084034) with: {'max_depth': 110, 'max_features': 2, 'min_samples_leaf': 3, 'min_samples_split': 12, 'n_estimators': 200}\n",
      "0.644444 (0.092429) with: {'max_depth': 110, 'max_features': 2, 'min_samples_leaf': 3, 'min_samples_split': 12, 'n_estimators': 300}\n",
      "0.655556 (0.084034) with: {'max_depth': 110, 'max_features': 2, 'min_samples_leaf': 3, 'min_samples_split': 12, 'n_estimators': 1000}\n",
      "0.628889 (0.121024) with: {'max_depth': 110, 'max_features': 2, 'min_samples_leaf': 4, 'min_samples_split': 8, 'n_estimators': 100}\n",
      "0.628889 (0.121024) with: {'max_depth': 110, 'max_features': 2, 'min_samples_leaf': 4, 'min_samples_split': 8, 'n_estimators': 200}\n",
      "0.626667 (0.130639) with: {'max_depth': 110, 'max_features': 2, 'min_samples_leaf': 4, 'min_samples_split': 8, 'n_estimators': 300}\n",
      "0.604444 (0.136010) with: {'max_depth': 110, 'max_features': 2, 'min_samples_leaf': 4, 'min_samples_split': 8, 'n_estimators': 1000}\n",
      "0.655556 (0.084034) with: {'max_depth': 110, 'max_features': 2, 'min_samples_leaf': 4, 'min_samples_split': 10, 'n_estimators': 100}\n",
      "0.655556 (0.084034) with: {'max_depth': 110, 'max_features': 2, 'min_samples_leaf': 4, 'min_samples_split': 10, 'n_estimators': 200}\n",
      "0.655556 (0.084034) with: {'max_depth': 110, 'max_features': 2, 'min_samples_leaf': 4, 'min_samples_split': 10, 'n_estimators': 300}\n",
      "0.668889 (0.089828) with: {'max_depth': 110, 'max_features': 2, 'min_samples_leaf': 4, 'min_samples_split': 10, 'n_estimators': 1000}\n",
      "0.644444 (0.092429) with: {'max_depth': 110, 'max_features': 2, 'min_samples_leaf': 4, 'min_samples_split': 12, 'n_estimators': 100}\n",
      "0.666667 (0.073030) with: {'max_depth': 110, 'max_features': 2, 'min_samples_leaf': 4, 'min_samples_split': 12, 'n_estimators': 200}\n",
      "0.655556 (0.084034) with: {'max_depth': 110, 'max_features': 2, 'min_samples_leaf': 4, 'min_samples_split': 12, 'n_estimators': 300}\n",
      "0.655556 (0.084034) with: {'max_depth': 110, 'max_features': 2, 'min_samples_leaf': 4, 'min_samples_split': 12, 'n_estimators': 1000}\n",
      "0.655556 (0.084034) with: {'max_depth': 110, 'max_features': 2, 'min_samples_leaf': 5, 'min_samples_split': 8, 'n_estimators': 100}\n",
      "0.655556 (0.084034) with: {'max_depth': 110, 'max_features': 2, 'min_samples_leaf': 5, 'min_samples_split': 8, 'n_estimators': 200}\n",
      "0.655556 (0.084034) with: {'max_depth': 110, 'max_features': 2, 'min_samples_leaf': 5, 'min_samples_split': 8, 'n_estimators': 300}\n",
      "0.655556 (0.084034) with: {'max_depth': 110, 'max_features': 2, 'min_samples_leaf': 5, 'min_samples_split': 8, 'n_estimators': 1000}\n",
      "0.642222 (0.105034) with: {'max_depth': 110, 'max_features': 2, 'min_samples_leaf': 5, 'min_samples_split': 10, 'n_estimators': 100}\n",
      "0.655556 (0.084034) with: {'max_depth': 110, 'max_features': 2, 'min_samples_leaf': 5, 'min_samples_split': 10, 'n_estimators': 200}\n",
      "0.655556 (0.084034) with: {'max_depth': 110, 'max_features': 2, 'min_samples_leaf': 5, 'min_samples_split': 10, 'n_estimators': 300}\n",
      "0.655556 (0.084034) with: {'max_depth': 110, 'max_features': 2, 'min_samples_leaf': 5, 'min_samples_split': 10, 'n_estimators': 1000}\n",
      "0.666667 (0.073030) with: {'max_depth': 110, 'max_features': 2, 'min_samples_leaf': 5, 'min_samples_split': 12, 'n_estimators': 100}\n",
      "0.655556 (0.084034) with: {'max_depth': 110, 'max_features': 2, 'min_samples_leaf': 5, 'min_samples_split': 12, 'n_estimators': 200}\n",
      "0.666667 (0.073030) with: {'max_depth': 110, 'max_features': 2, 'min_samples_leaf': 5, 'min_samples_split': 12, 'n_estimators': 300}\n",
      "0.666667 (0.073030) with: {'max_depth': 110, 'max_features': 2, 'min_samples_leaf': 5, 'min_samples_split': 12, 'n_estimators': 1000}\n",
      "0.631111 (0.110532) with: {'max_depth': 110, 'max_features': 3, 'min_samples_leaf': 3, 'min_samples_split': 8, 'n_estimators': 100}\n",
      "0.593333 (0.131205) with: {'max_depth': 110, 'max_features': 3, 'min_samples_leaf': 3, 'min_samples_split': 8, 'n_estimators': 200}\n",
      "0.606667 (0.141002) with: {'max_depth': 110, 'max_features': 3, 'min_samples_leaf': 3, 'min_samples_split': 8, 'n_estimators': 300}\n",
      "0.582222 (0.157229) with: {'max_depth': 110, 'max_features': 3, 'min_samples_leaf': 3, 'min_samples_split': 8, 'n_estimators': 1000}\n",
      "0.606667 (0.127192) with: {'max_depth': 110, 'max_features': 3, 'min_samples_leaf': 3, 'min_samples_split': 10, 'n_estimators': 100}\n",
      "0.580000 (0.164114) with: {'max_depth': 110, 'max_features': 3, 'min_samples_leaf': 3, 'min_samples_split': 10, 'n_estimators': 200}\n",
      "0.628889 (0.121024) with: {'max_depth': 110, 'max_features': 3, 'min_samples_leaf': 3, 'min_samples_split': 10, 'n_estimators': 300}\n",
      "0.631111 (0.110532) with: {'max_depth': 110, 'max_features': 3, 'min_samples_leaf': 3, 'min_samples_split': 10, 'n_estimators': 1000}\n",
      "0.655556 (0.084034) with: {'max_depth': 110, 'max_features': 3, 'min_samples_leaf': 3, 'min_samples_split': 12, 'n_estimators': 100}\n",
      "0.655556 (0.084034) with: {'max_depth': 110, 'max_features': 3, 'min_samples_leaf': 3, 'min_samples_split': 12, 'n_estimators': 200}\n",
      "0.655556 (0.084034) with: {'max_depth': 110, 'max_features': 3, 'min_samples_leaf': 3, 'min_samples_split': 12, 'n_estimators': 300}\n",
      "0.655556 (0.084034) with: {'max_depth': 110, 'max_features': 3, 'min_samples_leaf': 3, 'min_samples_split': 12, 'n_estimators': 1000}\n",
      "0.577778 (0.169385) with: {'max_depth': 110, 'max_features': 3, 'min_samples_leaf': 4, 'min_samples_split': 8, 'n_estimators': 100}\n",
      "0.604444 (0.149005) with: {'max_depth': 110, 'max_features': 3, 'min_samples_leaf': 4, 'min_samples_split': 8, 'n_estimators': 200}\n",
      "0.604444 (0.136010) with: {'max_depth': 110, 'max_features': 3, 'min_samples_leaf': 4, 'min_samples_split': 8, 'n_estimators': 300}\n",
      "0.615556 (0.133814) with: {'max_depth': 110, 'max_features': 3, 'min_samples_leaf': 4, 'min_samples_split': 8, 'n_estimators': 1000}\n",
      "0.631111 (0.110532) with: {'max_depth': 110, 'max_features': 3, 'min_samples_leaf': 4, 'min_samples_split': 10, 'n_estimators': 100}\n",
      "0.631111 (0.110532) with: {'max_depth': 110, 'max_features': 3, 'min_samples_leaf': 4, 'min_samples_split': 10, 'n_estimators': 200}\n",
      "0.631111 (0.110532) with: {'max_depth': 110, 'max_features': 3, 'min_samples_leaf': 4, 'min_samples_split': 10, 'n_estimators': 300}\n",
      "0.617778 (0.124643) with: {'max_depth': 110, 'max_features': 3, 'min_samples_leaf': 4, 'min_samples_split': 10, 'n_estimators': 1000}\n",
      "0.655556 (0.084034) with: {'max_depth': 110, 'max_features': 3, 'min_samples_leaf': 4, 'min_samples_split': 12, 'n_estimators': 100}\n",
      "0.644444 (0.092429) with: {'max_depth': 110, 'max_features': 3, 'min_samples_leaf': 4, 'min_samples_split': 12, 'n_estimators': 200}\n",
      "0.644444 (0.092429) with: {'max_depth': 110, 'max_features': 3, 'min_samples_leaf': 4, 'min_samples_split': 12, 'n_estimators': 300}\n",
      "0.655556 (0.084034) with: {'max_depth': 110, 'max_features': 3, 'min_samples_leaf': 4, 'min_samples_split': 12, 'n_estimators': 1000}\n",
      "0.642222 (0.105034) with: {'max_depth': 110, 'max_features': 3, 'min_samples_leaf': 5, 'min_samples_split': 8, 'n_estimators': 100}\n",
      "0.628889 (0.121024) with: {'max_depth': 110, 'max_features': 3, 'min_samples_leaf': 5, 'min_samples_split': 8, 'n_estimators': 200}\n",
      "0.642222 (0.105034) with: {'max_depth': 110, 'max_features': 3, 'min_samples_leaf': 5, 'min_samples_split': 8, 'n_estimators': 300}\n",
      "0.642222 (0.105034) with: {'max_depth': 110, 'max_features': 3, 'min_samples_leaf': 5, 'min_samples_split': 8, 'n_estimators': 1000}\n",
      "0.655556 (0.084034) with: {'max_depth': 110, 'max_features': 3, 'min_samples_leaf': 5, 'min_samples_split': 10, 'n_estimators': 100}\n",
      "0.655556 (0.084034) with: {'max_depth': 110, 'max_features': 3, 'min_samples_leaf': 5, 'min_samples_split': 10, 'n_estimators': 200}\n",
      "0.642222 (0.105034) with: {'max_depth': 110, 'max_features': 3, 'min_samples_leaf': 5, 'min_samples_split': 10, 'n_estimators': 300}\n",
      "0.655556 (0.111333) with: {'max_depth': 110, 'max_features': 3, 'min_samples_leaf': 5, 'min_samples_split': 10, 'n_estimators': 1000}\n",
      "0.642222 (0.105034) with: {'max_depth': 110, 'max_features': 3, 'min_samples_leaf': 5, 'min_samples_split': 12, 'n_estimators': 100}\n",
      "0.644444 (0.092429) with: {'max_depth': 110, 'max_features': 3, 'min_samples_leaf': 5, 'min_samples_split': 12, 'n_estimators': 200}\n",
      "0.655556 (0.084034) with: {'max_depth': 110, 'max_features': 3, 'min_samples_leaf': 5, 'min_samples_split': 12, 'n_estimators': 300}\n",
      "0.655556 (0.084034) with: {'max_depth': 110, 'max_features': 3, 'min_samples_leaf': 5, 'min_samples_split': 12, 'n_estimators': 1000}\n"
     ]
    }
   ],
   "source": [
    "model = RandomForestClassifier()\n",
    "\n",
    "max_depth= [80, 90, 100, 110]\n",
    "max_features = [2, 3]\n",
    "min_samples_leaf = [3, 4, 5]\n",
    "min_samples_split = [8, 10, 12]\n",
    "n_estimators = [100, 200, 300, 1000]\n",
    "# define grid search\n",
    "grid = dict(max_depth=max_depth, max_features=max_features, min_samples_leaf=min_samples_leaf,\n",
    "           min_samples_split=min_samples_split, n_estimators=n_estimators)\n",
    "cv = RepeatedStratifiedKFold(n_splits=n_splits, n_repeats=3, random_state=1)\n",
    "grid_search = GridSearchCV(estimator=model, param_grid=grid, n_jobs=-1, cv=cv, scoring='accuracy',error_score=0)\n",
    "grid_result = grid_search.fit(X_train, y_train)\n",
    "# summarize results\n",
    "print(\"Best: %f using %s\" % (grid_result.best_score_, grid_result.best_params_))\n",
    "means = grid_result.cv_results_['mean_test_score']\n",
    "stds = grid_result.cv_results_['std_test_score']\n",
    "params = grid_result.cv_results_['params']\n",
    "for mean, stdev, param in zip(means, stds, params):\n",
    "    print(\"%f (%f) with: %r\" % (mean, stdev, param))"
   ]
  },
  {
   "cell_type": "code",
   "execution_count": 37,
   "id": "2da231be-0e58-42a6-9552-ae0c21c3036a",
   "metadata": {},
   "outputs": [],
   "source": [
    "params = grid_search.best_params_\n"
   ]
  },
  {
   "cell_type": "code",
   "execution_count": 38,
   "id": "2e631d61-4852-45b5-9ca0-da3cd8aafb06",
   "metadata": {},
   "outputs": [
    {
     "data": {
      "text/plain": [
       "array([[ 0, 10],\n",
       "       [ 1, 17]])"
      ]
     },
     "execution_count": 38,
     "metadata": {},
     "output_type": "execute_result"
    }
   ],
   "source": [
    "# instantiate the model (using tuned params)\n",
    "ranForest_tuned = RandomForestClassifier(max_features=params['max_features'],\n",
    "                                         min_samples_leaf=params['min_samples_leaf'], \n",
    "                                         min_samples_split=params['min_samples_split'],\n",
    "                                     max_depth=params['max_depth'], n_estimators=params['n_estimators'])\n",
    "\n",
    "# fit the model with data\n",
    "ranForest_tuned.fit(X_train, y_train)\n",
    "\n",
    "y_pred = ranForest_tuned.predict(X_test)\n",
    "cnf_matrix = metrics.confusion_matrix(y_test, y_pred)\n",
    "cnf_matrix"
   ]
  },
  {
   "cell_type": "code",
   "execution_count": 39,
   "id": "31d34d6b-0786-4e5a-af04-ef1114572c9f",
   "metadata": {},
   "outputs": [
    {
     "name": "stdout",
     "output_type": "stream",
     "text": [
      "Random Forest Acccuracy (Tuned Using Optimal Params): 0.6071428571428571\n"
     ]
    }
   ],
   "source": [
    "print(f'Random Forest Acccuracy (Tuned Using Optimal Params): {np.trace(cnf_matrix)/np.sum(cnf_matrix)}')"
   ]
  },
  {
   "cell_type": "code",
   "execution_count": 40,
   "id": "df0de512-74f1-4b08-af25-ff0302081318",
   "metadata": {},
   "outputs": [
    {
     "data": {
      "text/plain": [
       "0.4722222222222222"
      ]
     },
     "execution_count": 40,
     "metadata": {},
     "output_type": "execute_result"
    }
   ],
   "source": [
    "roc_auc_score(y_test, y_pred)"
   ]
  },
  {
   "cell_type": "code",
   "execution_count": 41,
   "id": "a4f37041-7997-4012-a216-62bdda14e060",
   "metadata": {},
   "outputs": [
    {
     "data": {
      "text/plain": [
       "Text(0.5, 257.44, 'Predicted label')"
      ]
     },
     "execution_count": 41,
     "metadata": {},
     "output_type": "execute_result"
    },
    {
     "data": {
      "image/png": "[encoded data removed]",
      "text/plain": [
       "<Figure size 432x288 with 2 Axes>"
      ]
     },
     "metadata": {
      "needs_background": "light"
     },
     "output_type": "display_data"
    }
   ],
   "source": [
    "\n",
    "class_names=[0,1] # name  of classes\n",
    "fig, ax = plt.subplots()\n",
    "tick_marks = np.arange(len(class_names))\n",
    "plt.xticks(tick_marks, class_names)\n",
    "plt.yticks(tick_marks, class_names)\n",
    "# create heatmap\n",
    "sns.heatmap(pd.DataFrame(cnf_matrix), annot=True, cmap=\"YlGnBu\" ,fmt='g')\n",
    "ax.xaxis.set_label_position(\"top\")\n",
    "plt.tight_layout()\n",
    "plt.title('Confusion matrix', y=1.1)\n",
    "plt.ylabel('Actual label')\n",
    "plt.xlabel('Predicted label')\n",
    "\n"
   ]
  },
  {
   "cell_type": "code",
   "execution_count": 42,
   "id": "51b3e8c1-135e-4776-92eb-a12c757b9505",
   "metadata": {},
   "outputs": [
    {
     "data": {
      "text/plain": [
       "<sklearn.metrics._plot.roc_curve.RocCurveDisplay at 0x7f9cd08d3730>"
      ]
     },
     "execution_count": 42,
     "metadata": {},
     "output_type": "execute_result"
    },
    {
     "data": {
      "image/png": "[encoded data removed]",
      "text/plain": [
       "<Figure size 432x288 with 1 Axes>"
      ]
     },
     "metadata": {
      "needs_background": "light"
     },
     "output_type": "display_data"
    }
   ],
   "source": [
    "from sklearn.metrics import plot_roc_curve\n",
    "\n",
    "\n",
    "plot_roc_curve(ranForest_tuned,X_test,y_test)"
   ]
  },
  {
   "cell_type": "markdown",
   "id": "fee85f00-3b73-4db5-a414-6b7741cd77af",
   "metadata": {
    "tags": []
   },
   "source": [
    "## Naive Bayes"
   ]
  },
  {
   "cell_type": "code",
   "execution_count": 43,
   "id": "70da8ae3-995b-4f53-8fbd-7df8b01f9344",
   "metadata": {
    "tags": []
   },
   "outputs": [
    {
     "name": "stdout",
     "output_type": "stream",
     "text": [
      "Best: 0.602222 using {'var_smoothing': 0.0012328467394420659}\n",
      "0.537778 (0.233767) with: {'var_smoothing': 1.0}\n",
      "0.513333 (0.228943) with: {'var_smoothing': 0.8111308307896871}\n",
      "0.515556 (0.224719) with: {'var_smoothing': 0.657933224657568}\n",
      "0.504444 (0.229288) with: {'var_smoothing': 0.533669923120631}\n",
      "0.504444 (0.229288) with: {'var_smoothing': 0.43287612810830584}\n",
      "0.517778 (0.228641) with: {'var_smoothing': 0.3511191734215131}\n",
      "0.517778 (0.228641) with: {'var_smoothing': 0.2848035868435802}\n",
      "0.531111 (0.202381) with: {'var_smoothing': 0.23101297000831597}\n",
      "0.531111 (0.202381) with: {'var_smoothing': 0.1873817422860384}\n",
      "0.555556 (0.205721) with: {'var_smoothing': 0.15199110829529336}\n",
      "0.566667 (0.215682) with: {'var_smoothing': 0.12328467394420659}\n",
      "0.588889 (0.207513) with: {'var_smoothing': 0.1}\n",
      "0.588889 (0.207513) with: {'var_smoothing': 0.08111308307896872}\n",
      "0.575556 (0.212731) with: {'var_smoothing': 0.0657933224657568}\n",
      "0.564444 (0.212033) with: {'var_smoothing': 0.0533669923120631}\n",
      "0.575556 (0.221265) with: {'var_smoothing': 0.04328761281083057}\n",
      "0.575556 (0.221265) with: {'var_smoothing': 0.03511191734215131}\n",
      "0.575556 (0.221265) with: {'var_smoothing': 0.02848035868435802}\n",
      "0.575556 (0.221265) with: {'var_smoothing': 0.02310129700083159}\n",
      "0.575556 (0.221265) with: {'var_smoothing': 0.01873817422860384}\n",
      "0.575556 (0.221265) with: {'var_smoothing': 0.01519911082952933}\n",
      "0.575556 (0.221265) with: {'var_smoothing': 0.012328467394420659}\n",
      "0.575556 (0.221265) with: {'var_smoothing': 0.01}\n",
      "0.588889 (0.228252) with: {'var_smoothing': 0.008111308307896872}\n",
      "0.588889 (0.228252) with: {'var_smoothing': 0.006579332246575682}\n",
      "0.588889 (0.228252) with: {'var_smoothing': 0.005336699231206307}\n",
      "0.588889 (0.228252) with: {'var_smoothing': 0.004328761281083057}\n",
      "0.588889 (0.228252) with: {'var_smoothing': 0.003511191734215131}\n",
      "0.588889 (0.228252) with: {'var_smoothing': 0.002848035868435802}\n",
      "0.588889 (0.228252) with: {'var_smoothing': 0.0023101297000831605}\n",
      "0.588889 (0.228252) with: {'var_smoothing': 0.001873817422860383}\n",
      "0.588889 (0.228252) with: {'var_smoothing': 0.0015199110829529332}\n",
      "0.602222 (0.234273) with: {'var_smoothing': 0.0012328467394420659}\n",
      "0.602222 (0.234273) with: {'var_smoothing': 0.001}\n",
      "0.602222 (0.234273) with: {'var_smoothing': 0.0008111308307896872}\n",
      "0.602222 (0.234273) with: {'var_smoothing': 0.0006579332246575676}\n",
      "0.602222 (0.234273) with: {'var_smoothing': 0.0005336699231206307}\n",
      "0.602222 (0.234273) with: {'var_smoothing': 0.0004328761281083057}\n",
      "0.602222 (0.234273) with: {'var_smoothing': 0.0003511191734215131}\n",
      "0.602222 (0.234273) with: {'var_smoothing': 0.0002848035868435802}\n",
      "0.602222 (0.234273) with: {'var_smoothing': 0.0002310129700083158}\n",
      "0.602222 (0.234273) with: {'var_smoothing': 0.0001873817422860383}\n",
      "0.602222 (0.234273) with: {'var_smoothing': 0.0001519911082952933}\n",
      "0.602222 (0.234273) with: {'var_smoothing': 0.0001232846739442066}\n",
      "0.602222 (0.234273) with: {'var_smoothing': 0.0001}\n",
      "0.602222 (0.234273) with: {'var_smoothing': 8.111308307896872e-05}\n",
      "0.602222 (0.234273) with: {'var_smoothing': 6.579332246575683e-05}\n",
      "0.602222 (0.234273) with: {'var_smoothing': 5.3366992312063123e-05}\n",
      "0.602222 (0.234273) with: {'var_smoothing': 4.328761281083062e-05}\n",
      "0.602222 (0.234273) with: {'var_smoothing': 3.511191734215127e-05}\n",
      "0.602222 (0.234273) with: {'var_smoothing': 2.848035868435799e-05}\n",
      "0.602222 (0.234273) with: {'var_smoothing': 2.310129700083158e-05}\n",
      "0.602222 (0.234273) with: {'var_smoothing': 1.873817422860383e-05}\n",
      "0.602222 (0.234273) with: {'var_smoothing': 1.5199110829529332e-05}\n",
      "0.602222 (0.234273) with: {'var_smoothing': 1.2328467394420658e-05}\n",
      "0.602222 (0.234273) with: {'var_smoothing': 1e-05}\n",
      "0.602222 (0.234273) with: {'var_smoothing': 8.111308307896873e-06}\n",
      "0.602222 (0.234273) with: {'var_smoothing': 6.579332246575683e-06}\n",
      "0.602222 (0.234273) with: {'var_smoothing': 5.336699231206313e-06}\n",
      "0.602222 (0.234273) with: {'var_smoothing': 4.328761281083053e-06}\n",
      "0.602222 (0.234273) with: {'var_smoothing': 3.5111917342151275e-06}\n",
      "0.602222 (0.234273) with: {'var_smoothing': 2.848035868435799e-06}\n",
      "0.602222 (0.234273) with: {'var_smoothing': 2.310129700083158e-06}\n",
      "0.602222 (0.234273) with: {'var_smoothing': 1.873817422860383e-06}\n",
      "0.602222 (0.234273) with: {'var_smoothing': 1.519911082952933e-06}\n",
      "0.602222 (0.234273) with: {'var_smoothing': 1.232846739442066e-06}\n",
      "0.602222 (0.234273) with: {'var_smoothing': 1e-06}\n",
      "0.602222 (0.234273) with: {'var_smoothing': 8.111308307896872e-07}\n",
      "0.602222 (0.234273) with: {'var_smoothing': 6.579332246575682e-07}\n",
      "0.602222 (0.234273) with: {'var_smoothing': 5.336699231206313e-07}\n",
      "0.602222 (0.234273) with: {'var_smoothing': 4.3287612810830526e-07}\n",
      "0.602222 (0.234273) with: {'var_smoothing': 3.5111917342151277e-07}\n",
      "0.602222 (0.234273) with: {'var_smoothing': 2.848035868435799e-07}\n",
      "0.602222 (0.234273) with: {'var_smoothing': 2.310129700083158e-07}\n",
      "0.602222 (0.234273) with: {'var_smoothing': 1.873817422860383e-07}\n",
      "0.602222 (0.234273) with: {'var_smoothing': 1.519911082952933e-07}\n",
      "0.602222 (0.234273) with: {'var_smoothing': 1.232846739442066e-07}\n",
      "0.602222 (0.234273) with: {'var_smoothing': 1e-07}\n",
      "0.602222 (0.234273) with: {'var_smoothing': 8.111308307896873e-08}\n",
      "0.602222 (0.234273) with: {'var_smoothing': 6.579332246575682e-08}\n",
      "0.602222 (0.234273) with: {'var_smoothing': 5.336699231206302e-08}\n",
      "0.602222 (0.234273) with: {'var_smoothing': 4.3287612810830526e-08}\n",
      "0.602222 (0.234273) with: {'var_smoothing': 3.5111917342151277e-08}\n",
      "0.602222 (0.234273) with: {'var_smoothing': 2.848035868435799e-08}\n",
      "0.602222 (0.234273) with: {'var_smoothing': 2.310129700083158e-08}\n",
      "0.602222 (0.234273) with: {'var_smoothing': 1.873817422860383e-08}\n",
      "0.602222 (0.234273) with: {'var_smoothing': 1.519911082952933e-08}\n",
      "0.602222 (0.234273) with: {'var_smoothing': 1.232846739442066e-08}\n",
      "0.602222 (0.234273) with: {'var_smoothing': 1e-08}\n",
      "0.602222 (0.234273) with: {'var_smoothing': 8.111308307896856e-09}\n",
      "0.602222 (0.234273) with: {'var_smoothing': 6.579332246575682e-09}\n",
      "0.602222 (0.234273) with: {'var_smoothing': 5.336699231206302e-09}\n",
      "0.602222 (0.234273) with: {'var_smoothing': 4.328761281083061e-09}\n",
      "0.602222 (0.234273) with: {'var_smoothing': 3.5111917342151273e-09}\n",
      "0.602222 (0.234273) with: {'var_smoothing': 2.848035868435805e-09}\n",
      "0.602222 (0.234273) with: {'var_smoothing': 2.310129700083158e-09}\n",
      "0.602222 (0.234273) with: {'var_smoothing': 1.873817422860387e-09}\n",
      "0.602222 (0.234273) with: {'var_smoothing': 1.519911082952933e-09}\n",
      "0.602222 (0.234273) with: {'var_smoothing': 1.2328467394420635e-09}\n",
      "0.602222 (0.234273) with: {'var_smoothing': 1e-09}\n"
     ]
    }
   ],
   "source": [
    "model = GaussianNB()\n",
    "\n",
    "params_NB = {'var_smoothing': np.logspace(0,-9, num=100)}\n",
    "cv = RepeatedStratifiedKFold(n_splits=n_splits, n_repeats=3, random_state=1)\n",
    "grid_search = GridSearchCV(estimator=model, param_grid=params_NB, cv=cv, scoring=criterion)\n",
    "grid_result = grid_search.fit(X_train, y_train);\n",
    "# summarize results\n",
    "print(\"Best: %f using %s\" % (grid_result.best_score_, grid_result.best_params_))\n",
    "means = grid_result.cv_results_['mean_test_score']\n",
    "stds = grid_result.cv_results_['std_test_score']\n",
    "params = grid_result.cv_results_['params']\n",
    "for mean, stdev, param in zip(means, stds, params):\n",
    "    print(\"%f (%f) with: %r\" % (mean, stdev, param))"
   ]
  },
  {
   "cell_type": "code",
   "execution_count": 44,
   "id": "ab35b3a7-b5d2-4408-83b0-70e011e111ba",
   "metadata": {},
   "outputs": [],
   "source": [
    "params = grid_search.best_params_"
   ]
  },
  {
   "cell_type": "code",
   "execution_count": 45,
   "id": "e9a96b7f-d22e-4a91-8a38-4a0ff60d95b8",
   "metadata": {},
   "outputs": [
    {
     "data": {
      "text/plain": [
       "array([[ 4,  6],\n",
       "       [ 8, 10]])"
      ]
     },
     "execution_count": 45,
     "metadata": {},
     "output_type": "execute_result"
    }
   ],
   "source": [
    "nb_tuned = GaussianNB(var_smoothing =  params['var_smoothing'])\n",
    "# fit the model with data\n",
    "nb_tuned.fit(X_train, y_train)\n",
    "\n",
    "y_pred = nb_tuned.predict(X_test)\n",
    "cnf_matrix = metrics.confusion_matrix(y_test, y_pred)\n",
    "cnf_matrix"
   ]
  },
  {
   "cell_type": "code",
   "execution_count": 46,
   "id": "cf1586a0-4432-40a0-afe9-242ccd21d87d",
   "metadata": {},
   "outputs": [
    {
     "name": "stdout",
     "output_type": "stream",
     "text": [
      "Gaussian Naive Bayes Acccuracy (Tuned Using Optimal Params): 0.5\n"
     ]
    }
   ],
   "source": [
    "print(f'Gaussian Naive Bayes Acccuracy (Tuned Using Optimal Params): {np.trace(cnf_matrix)/np.sum(cnf_matrix)}')"
   ]
  },
  {
   "cell_type": "code",
   "execution_count": 47,
   "id": "30c5d89c-b794-4a34-9940-37e850a0b85d",
   "metadata": {},
   "outputs": [
    {
     "data": {
      "text/plain": [
       "0.47777777777777775"
      ]
     },
     "execution_count": 47,
     "metadata": {},
     "output_type": "execute_result"
    }
   ],
   "source": [
    "roc_auc_score(y_test, y_pred)"
   ]
  },
  {
   "cell_type": "code",
   "execution_count": 48,
   "id": "7d95267f-c964-4918-be1d-812c5ee3f3f4",
   "metadata": {},
   "outputs": [
    {
     "data": {
      "text/plain": [
       "Text(0.5, 257.44, 'Predicted label')"
      ]
     },
     "execution_count": 48,
     "metadata": {},
     "output_type": "execute_result"
    },
    {
     "data": {
      "image/png": "[encoded data removed]",
      "text/plain": [
       "<Figure size 432x288 with 2 Axes>"
      ]
     },
     "metadata": {
      "needs_background": "light"
     },
     "output_type": "display_data"
    }
   ],
   "source": [
    "class_names=[0,1] # name  of classes\n",
    "fig, ax = plt.subplots()\n",
    "tick_marks = np.arange(len(class_names))\n",
    "plt.xticks(tick_marks, class_names)\n",
    "plt.yticks(tick_marks, class_names)\n",
    "# create heatmap\n",
    "sns.heatmap(pd.DataFrame(cnf_matrix), annot=True, cmap=\"YlGnBu\" ,fmt='g')\n",
    "ax.xaxis.set_label_position(\"top\")\n",
    "plt.tight_layout()\n",
    "plt.title('Confusion matrix', y=1.1)\n",
    "plt.ylabel('Actual label')\n",
    "plt.xlabel('Predicted label')\n",
    "\n"
   ]
  },
  {
   "cell_type": "code",
   "execution_count": 49,
   "id": "b796773f-a1a2-4a5d-8106-951505e14cc2",
   "metadata": {},
   "outputs": [
    {
     "data": {
      "text/plain": [
       "<sklearn.metrics._plot.roc_curve.RocCurveDisplay at 0x7f9cd053a1c0>"
      ]
     },
     "execution_count": 49,
     "metadata": {},
     "output_type": "execute_result"
    },
    {
     "data": {
      "image/png": "[encoded data removed]",
      "text/plain": [
       "<Figure size 432x288 with 1 Axes>"
      ]
     },
     "metadata": {
      "needs_background": "light"
     },
     "output_type": "display_data"
    }
   ],
   "source": [
    "plot_roc_curve(nb_tuned,X_test,y_test)"
   ]
  },
  {
   "cell_type": "markdown",
   "id": "e832006b-3f79-400a-a278-4948b8e30dc8",
   "metadata": {
    "tags": []
   },
   "source": [
    "## KNN Classifier"
   ]
  },
  {
   "cell_type": "code",
   "execution_count": 50,
   "id": "6ad0cc5c-6d44-4554-a3ae-18d1df4ba841",
   "metadata": {
    "tags": []
   },
   "outputs": [
    {
     "name": "stdout",
     "output_type": "stream",
     "text": [
      "Best: 0.791111 using {'leaf_size': 1, 'n_neighbors': 4, 'p': 2}\n",
      "0.573333 (0.187459) with: {'leaf_size': 1, 'n_neighbors': 1, 'p': 1}\n",
      "0.653333 (0.195808) with: {'leaf_size': 1, 'n_neighbors': 1, 'p': 2}\n",
      "0.551111 (0.184939) with: {'leaf_size': 1, 'n_neighbors': 2, 'p': 1}\n",
      "0.653333 (0.136518) with: {'leaf_size': 1, 'n_neighbors': 2, 'p': 2}\n",
      "0.635556 (0.213426) with: {'leaf_size': 1, 'n_neighbors': 3, 'p': 1}\n",
      "0.740000 (0.171788) with: {'leaf_size': 1, 'n_neighbors': 3, 'p': 2}\n",
      "0.660000 (0.183465) with: {'leaf_size': 1, 'n_neighbors': 4, 'p': 1}\n",
      "0.791111 (0.181543) with: {'leaf_size': 1, 'n_neighbors': 4, 'p': 2}\n",
      "0.653333 (0.171183) with: {'leaf_size': 1, 'n_neighbors': 5, 'p': 1}\n",
      "0.708889 (0.152736) with: {'leaf_size': 1, 'n_neighbors': 5, 'p': 2}\n",
      "0.628889 (0.213218) with: {'leaf_size': 1, 'n_neighbors': 6, 'p': 1}\n",
      "0.646667 (0.236893) with: {'leaf_size': 1, 'n_neighbors': 6, 'p': 2}\n",
      "0.657778 (0.222932) with: {'leaf_size': 1, 'n_neighbors': 7, 'p': 1}\n",
      "0.608889 (0.151274) with: {'leaf_size': 1, 'n_neighbors': 7, 'p': 2}\n",
      "0.666667 (0.251514) with: {'leaf_size': 1, 'n_neighbors': 8, 'p': 1}\n",
      "0.593333 (0.245613) with: {'leaf_size': 1, 'n_neighbors': 8, 'p': 2}\n",
      "0.617778 (0.172934) with: {'leaf_size': 1, 'n_neighbors': 9, 'p': 1}\n",
      "0.657778 (0.123208) with: {'leaf_size': 1, 'n_neighbors': 9, 'p': 2}\n",
      "0.573333 (0.187459) with: {'leaf_size': 2, 'n_neighbors': 1, 'p': 1}\n",
      "0.653333 (0.195808) with: {'leaf_size': 2, 'n_neighbors': 1, 'p': 2}\n",
      "0.551111 (0.184939) with: {'leaf_size': 2, 'n_neighbors': 2, 'p': 1}\n",
      "0.653333 (0.136518) with: {'leaf_size': 2, 'n_neighbors': 2, 'p': 2}\n",
      "0.635556 (0.213426) with: {'leaf_size': 2, 'n_neighbors': 3, 'p': 1}\n",
      "0.740000 (0.171788) with: {'leaf_size': 2, 'n_neighbors': 3, 'p': 2}\n",
      "0.660000 (0.183465) with: {'leaf_size': 2, 'n_neighbors': 4, 'p': 1}\n",
      "0.791111 (0.181543) with: {'leaf_size': 2, 'n_neighbors': 4, 'p': 2}\n",
      "0.653333 (0.171183) with: {'leaf_size': 2, 'n_neighbors': 5, 'p': 1}\n",
      "0.708889 (0.152736) with: {'leaf_size': 2, 'n_neighbors': 5, 'p': 2}\n",
      "0.628889 (0.213218) with: {'leaf_size': 2, 'n_neighbors': 6, 'p': 1}\n",
      "0.646667 (0.236893) with: {'leaf_size': 2, 'n_neighbors': 6, 'p': 2}\n",
      "0.657778 (0.222932) with: {'leaf_size': 2, 'n_neighbors': 7, 'p': 1}\n",
      "0.608889 (0.151274) with: {'leaf_size': 2, 'n_neighbors': 7, 'p': 2}\n",
      "0.666667 (0.251514) with: {'leaf_size': 2, 'n_neighbors': 8, 'p': 1}\n",
      "0.593333 (0.245613) with: {'leaf_size': 2, 'n_neighbors': 8, 'p': 2}\n",
      "0.617778 (0.172934) with: {'leaf_size': 2, 'n_neighbors': 9, 'p': 1}\n",
      "0.657778 (0.123208) with: {'leaf_size': 2, 'n_neighbors': 9, 'p': 2}\n",
      "0.573333 (0.187459) with: {'leaf_size': 3, 'n_neighbors': 1, 'p': 1}\n",
      "0.653333 (0.195808) with: {'leaf_size': 3, 'n_neighbors': 1, 'p': 2}\n",
      "0.551111 (0.184939) with: {'leaf_size': 3, 'n_neighbors': 2, 'p': 1}\n",
      "0.653333 (0.136518) with: {'leaf_size': 3, 'n_neighbors': 2, 'p': 2}\n",
      "0.635556 (0.213426) with: {'leaf_size': 3, 'n_neighbors': 3, 'p': 1}\n",
      "0.740000 (0.171788) with: {'leaf_size': 3, 'n_neighbors': 3, 'p': 2}\n",
      "0.660000 (0.183465) with: {'leaf_size': 3, 'n_neighbors': 4, 'p': 1}\n",
      "0.791111 (0.181543) with: {'leaf_size': 3, 'n_neighbors': 4, 'p': 2}\n",
      "0.653333 (0.171183) with: {'leaf_size': 3, 'n_neighbors': 5, 'p': 1}\n",
      "0.708889 (0.152736) with: {'leaf_size': 3, 'n_neighbors': 5, 'p': 2}\n",
      "0.628889 (0.213218) with: {'leaf_size': 3, 'n_neighbors': 6, 'p': 1}\n",
      "0.646667 (0.236893) with: {'leaf_size': 3, 'n_neighbors': 6, 'p': 2}\n",
      "0.657778 (0.222932) with: {'leaf_size': 3, 'n_neighbors': 7, 'p': 1}\n",
      "0.608889 (0.151274) with: {'leaf_size': 3, 'n_neighbors': 7, 'p': 2}\n",
      "0.666667 (0.251514) with: {'leaf_size': 3, 'n_neighbors': 8, 'p': 1}\n",
      "0.593333 (0.245613) with: {'leaf_size': 3, 'n_neighbors': 8, 'p': 2}\n",
      "0.617778 (0.172934) with: {'leaf_size': 3, 'n_neighbors': 9, 'p': 1}\n",
      "0.657778 (0.123208) with: {'leaf_size': 3, 'n_neighbors': 9, 'p': 2}\n",
      "0.573333 (0.187459) with: {'leaf_size': 4, 'n_neighbors': 1, 'p': 1}\n",
      "0.653333 (0.195808) with: {'leaf_size': 4, 'n_neighbors': 1, 'p': 2}\n",
      "0.551111 (0.184939) with: {'leaf_size': 4, 'n_neighbors': 2, 'p': 1}\n",
      "0.653333 (0.136518) with: {'leaf_size': 4, 'n_neighbors': 2, 'p': 2}\n",
      "0.635556 (0.213426) with: {'leaf_size': 4, 'n_neighbors': 3, 'p': 1}\n",
      "0.740000 (0.171788) with: {'leaf_size': 4, 'n_neighbors': 3, 'p': 2}\n",
      "0.660000 (0.183465) with: {'leaf_size': 4, 'n_neighbors': 4, 'p': 1}\n",
      "0.791111 (0.181543) with: {'leaf_size': 4, 'n_neighbors': 4, 'p': 2}\n",
      "0.653333 (0.171183) with: {'leaf_size': 4, 'n_neighbors': 5, 'p': 1}\n",
      "0.708889 (0.152736) with: {'leaf_size': 4, 'n_neighbors': 5, 'p': 2}\n",
      "0.628889 (0.213218) with: {'leaf_size': 4, 'n_neighbors': 6, 'p': 1}\n",
      "0.646667 (0.236893) with: {'leaf_size': 4, 'n_neighbors': 6, 'p': 2}\n",
      "0.657778 (0.222932) with: {'leaf_size': 4, 'n_neighbors': 7, 'p': 1}\n",
      "0.608889 (0.151274) with: {'leaf_size': 4, 'n_neighbors': 7, 'p': 2}\n",
      "0.666667 (0.251514) with: {'leaf_size': 4, 'n_neighbors': 8, 'p': 1}\n",
      "0.593333 (0.245613) with: {'leaf_size': 4, 'n_neighbors': 8, 'p': 2}\n",
      "0.617778 (0.172934) with: {'leaf_size': 4, 'n_neighbors': 9, 'p': 1}\n",
      "0.657778 (0.123208) with: {'leaf_size': 4, 'n_neighbors': 9, 'p': 2}\n",
      "0.573333 (0.187459) with: {'leaf_size': 5, 'n_neighbors': 1, 'p': 1}\n",
      "0.653333 (0.195808) with: {'leaf_size': 5, 'n_neighbors': 1, 'p': 2}\n",
      "0.551111 (0.184939) with: {'leaf_size': 5, 'n_neighbors': 2, 'p': 1}\n",
      "0.653333 (0.136518) with: {'leaf_size': 5, 'n_neighbors': 2, 'p': 2}\n",
      "0.635556 (0.213426) with: {'leaf_size': 5, 'n_neighbors': 3, 'p': 1}\n",
      "0.740000 (0.171788) with: {'leaf_size': 5, 'n_neighbors': 3, 'p': 2}\n",
      "0.660000 (0.183465) with: {'leaf_size': 5, 'n_neighbors': 4, 'p': 1}\n",
      "0.791111 (0.181543) with: {'leaf_size': 5, 'n_neighbors': 4, 'p': 2}\n",
      "0.653333 (0.171183) with: {'leaf_size': 5, 'n_neighbors': 5, 'p': 1}\n",
      "0.708889 (0.152736) with: {'leaf_size': 5, 'n_neighbors': 5, 'p': 2}\n",
      "0.628889 (0.213218) with: {'leaf_size': 5, 'n_neighbors': 6, 'p': 1}\n",
      "0.646667 (0.236893) with: {'leaf_size': 5, 'n_neighbors': 6, 'p': 2}\n",
      "0.657778 (0.222932) with: {'leaf_size': 5, 'n_neighbors': 7, 'p': 1}\n",
      "0.608889 (0.151274) with: {'leaf_size': 5, 'n_neighbors': 7, 'p': 2}\n",
      "0.666667 (0.251514) with: {'leaf_size': 5, 'n_neighbors': 8, 'p': 1}\n",
      "0.593333 (0.245613) with: {'leaf_size': 5, 'n_neighbors': 8, 'p': 2}\n",
      "0.617778 (0.172934) with: {'leaf_size': 5, 'n_neighbors': 9, 'p': 1}\n",
      "0.657778 (0.123208) with: {'leaf_size': 5, 'n_neighbors': 9, 'p': 2}\n",
      "0.573333 (0.187459) with: {'leaf_size': 6, 'n_neighbors': 1, 'p': 1}\n",
      "0.653333 (0.195808) with: {'leaf_size': 6, 'n_neighbors': 1, 'p': 2}\n",
      "0.551111 (0.184939) with: {'leaf_size': 6, 'n_neighbors': 2, 'p': 1}\n",
      "0.653333 (0.136518) with: {'leaf_size': 6, 'n_neighbors': 2, 'p': 2}\n",
      "0.635556 (0.213426) with: {'leaf_size': 6, 'n_neighbors': 3, 'p': 1}\n",
      "0.740000 (0.171788) with: {'leaf_size': 6, 'n_neighbors': 3, 'p': 2}\n",
      "0.660000 (0.183465) with: {'leaf_size': 6, 'n_neighbors': 4, 'p': 1}\n",
      "0.791111 (0.181543) with: {'leaf_size': 6, 'n_neighbors': 4, 'p': 2}\n",
      "0.653333 (0.171183) with: {'leaf_size': 6, 'n_neighbors': 5, 'p': 1}\n",
      "0.708889 (0.152736) with: {'leaf_size': 6, 'n_neighbors': 5, 'p': 2}\n",
      "0.628889 (0.213218) with: {'leaf_size': 6, 'n_neighbors': 6, 'p': 1}\n",
      "0.646667 (0.236893) with: {'leaf_size': 6, 'n_neighbors': 6, 'p': 2}\n",
      "0.657778 (0.222932) with: {'leaf_size': 6, 'n_neighbors': 7, 'p': 1}\n",
      "0.608889 (0.151274) with: {'leaf_size': 6, 'n_neighbors': 7, 'p': 2}\n",
      "0.666667 (0.251514) with: {'leaf_size': 6, 'n_neighbors': 8, 'p': 1}\n",
      "0.593333 (0.245613) with: {'leaf_size': 6, 'n_neighbors': 8, 'p': 2}\n",
      "0.617778 (0.172934) with: {'leaf_size': 6, 'n_neighbors': 9, 'p': 1}\n",
      "0.657778 (0.123208) with: {'leaf_size': 6, 'n_neighbors': 9, 'p': 2}\n",
      "0.573333 (0.187459) with: {'leaf_size': 7, 'n_neighbors': 1, 'p': 1}\n",
      "0.653333 (0.195808) with: {'leaf_size': 7, 'n_neighbors': 1, 'p': 2}\n",
      "0.551111 (0.184939) with: {'leaf_size': 7, 'n_neighbors': 2, 'p': 1}\n",
      "0.653333 (0.136518) with: {'leaf_size': 7, 'n_neighbors': 2, 'p': 2}\n",
      "0.635556 (0.213426) with: {'leaf_size': 7, 'n_neighbors': 3, 'p': 1}\n",
      "0.740000 (0.171788) with: {'leaf_size': 7, 'n_neighbors': 3, 'p': 2}\n",
      "0.660000 (0.183465) with: {'leaf_size': 7, 'n_neighbors': 4, 'p': 1}\n",
      "0.791111 (0.181543) with: {'leaf_size': 7, 'n_neighbors': 4, 'p': 2}\n",
      "0.653333 (0.171183) with: {'leaf_size': 7, 'n_neighbors': 5, 'p': 1}\n",
      "0.708889 (0.152736) with: {'leaf_size': 7, 'n_neighbors': 5, 'p': 2}\n",
      "0.628889 (0.213218) with: {'leaf_size': 7, 'n_neighbors': 6, 'p': 1}\n",
      "0.646667 (0.236893) with: {'leaf_size': 7, 'n_neighbors': 6, 'p': 2}\n",
      "0.657778 (0.222932) with: {'leaf_size': 7, 'n_neighbors': 7, 'p': 1}\n",
      "0.608889 (0.151274) with: {'leaf_size': 7, 'n_neighbors': 7, 'p': 2}\n",
      "0.666667 (0.251514) with: {'leaf_size': 7, 'n_neighbors': 8, 'p': 1}\n",
      "0.593333 (0.245613) with: {'leaf_size': 7, 'n_neighbors': 8, 'p': 2}\n",
      "0.617778 (0.172934) with: {'leaf_size': 7, 'n_neighbors': 9, 'p': 1}\n",
      "0.657778 (0.123208) with: {'leaf_size': 7, 'n_neighbors': 9, 'p': 2}\n",
      "0.573333 (0.187459) with: {'leaf_size': 8, 'n_neighbors': 1, 'p': 1}\n",
      "0.653333 (0.195808) with: {'leaf_size': 8, 'n_neighbors': 1, 'p': 2}\n",
      "0.551111 (0.184939) with: {'leaf_size': 8, 'n_neighbors': 2, 'p': 1}\n",
      "0.653333 (0.136518) with: {'leaf_size': 8, 'n_neighbors': 2, 'p': 2}\n",
      "0.635556 (0.213426) with: {'leaf_size': 8, 'n_neighbors': 3, 'p': 1}\n",
      "0.740000 (0.171788) with: {'leaf_size': 8, 'n_neighbors': 3, 'p': 2}\n",
      "0.660000 (0.183465) with: {'leaf_size': 8, 'n_neighbors': 4, 'p': 1}\n",
      "0.791111 (0.181543) with: {'leaf_size': 8, 'n_neighbors': 4, 'p': 2}\n",
      "0.653333 (0.171183) with: {'leaf_size': 8, 'n_neighbors': 5, 'p': 1}\n",
      "0.708889 (0.152736) with: {'leaf_size': 8, 'n_neighbors': 5, 'p': 2}\n",
      "0.628889 (0.213218) with: {'leaf_size': 8, 'n_neighbors': 6, 'p': 1}\n",
      "0.646667 (0.236893) with: {'leaf_size': 8, 'n_neighbors': 6, 'p': 2}\n",
      "0.657778 (0.222932) with: {'leaf_size': 8, 'n_neighbors': 7, 'p': 1}\n",
      "0.608889 (0.151274) with: {'leaf_size': 8, 'n_neighbors': 7, 'p': 2}\n",
      "0.666667 (0.251514) with: {'leaf_size': 8, 'n_neighbors': 8, 'p': 1}\n",
      "0.593333 (0.245613) with: {'leaf_size': 8, 'n_neighbors': 8, 'p': 2}\n",
      "0.617778 (0.172934) with: {'leaf_size': 8, 'n_neighbors': 9, 'p': 1}\n",
      "0.657778 (0.123208) with: {'leaf_size': 8, 'n_neighbors': 9, 'p': 2}\n",
      "0.573333 (0.187459) with: {'leaf_size': 9, 'n_neighbors': 1, 'p': 1}\n",
      "0.653333 (0.195808) with: {'leaf_size': 9, 'n_neighbors': 1, 'p': 2}\n",
      "0.551111 (0.184939) with: {'leaf_size': 9, 'n_neighbors': 2, 'p': 1}\n",
      "0.653333 (0.136518) with: {'leaf_size': 9, 'n_neighbors': 2, 'p': 2}\n",
      "0.635556 (0.213426) with: {'leaf_size': 9, 'n_neighbors': 3, 'p': 1}\n",
      "0.740000 (0.171788) with: {'leaf_size': 9, 'n_neighbors': 3, 'p': 2}\n",
      "0.660000 (0.183465) with: {'leaf_size': 9, 'n_neighbors': 4, 'p': 1}\n",
      "0.791111 (0.181543) with: {'leaf_size': 9, 'n_neighbors': 4, 'p': 2}\n",
      "0.653333 (0.171183) with: {'leaf_size': 9, 'n_neighbors': 5, 'p': 1}\n",
      "0.708889 (0.152736) with: {'leaf_size': 9, 'n_neighbors': 5, 'p': 2}\n",
      "0.628889 (0.213218) with: {'leaf_size': 9, 'n_neighbors': 6, 'p': 1}\n",
      "0.646667 (0.236893) with: {'leaf_size': 9, 'n_neighbors': 6, 'p': 2}\n",
      "0.657778 (0.222932) with: {'leaf_size': 9, 'n_neighbors': 7, 'p': 1}\n",
      "0.608889 (0.151274) with: {'leaf_size': 9, 'n_neighbors': 7, 'p': 2}\n",
      "0.666667 (0.251514) with: {'leaf_size': 9, 'n_neighbors': 8, 'p': 1}\n",
      "0.593333 (0.245613) with: {'leaf_size': 9, 'n_neighbors': 8, 'p': 2}\n",
      "0.617778 (0.172934) with: {'leaf_size': 9, 'n_neighbors': 9, 'p': 1}\n",
      "0.657778 (0.123208) with: {'leaf_size': 9, 'n_neighbors': 9, 'p': 2}\n"
     ]
    }
   ],
   "source": [
    "model = KNeighborsClassifier()\n",
    "\n",
    "leaf_size = list(range(1,10))\n",
    "n_neighbors = list(range(1,10))\n",
    "p=[1,2]\n",
    "\n",
    "# define grid search\n",
    "grid = dict(leaf_size=leaf_size, n_neighbors=n_neighbors, p=p)\n",
    "cv = RepeatedStratifiedKFold(n_splits=n_splits, n_repeats=3, random_state=1)\n",
    "grid_search = GridSearchCV(estimator=model, param_grid=grid, n_jobs=-1, cv=cv, scoring=criterion,error_score=0)\n",
    "grid_result = grid_search.fit(X_train, y_train)\n",
    "# summarize results\n",
    "print(\"Best: %f using %s\" % (grid_result.best_score_, grid_result.best_params_))\n",
    "means = grid_result.cv_results_['mean_test_score']\n",
    "stds = grid_result.cv_results_['std_test_score']\n",
    "params = grid_result.cv_results_['params']\n",
    "for mean, stdev, param in zip(means, stds, params):\n",
    "    print(\"%f (%f) with: %r\" % (mean, stdev, param))"
   ]
  },
  {
   "cell_type": "code",
   "execution_count": 51,
   "id": "aa60687a-32f3-4301-afde-bcac90c611ed",
   "metadata": {},
   "outputs": [],
   "source": [
    "params = grid_search.best_params_"
   ]
  },
  {
   "cell_type": "code",
   "execution_count": 52,
   "id": "a41e14f1-df87-466e-b8ad-9b3d49ac3cb7",
   "metadata": {},
   "outputs": [
    {
     "data": {
      "text/plain": [
       "array([[ 5,  5],\n",
       "       [10,  8]])"
      ]
     },
     "execution_count": 52,
     "metadata": {},
     "output_type": "execute_result"
    }
   ],
   "source": [
    "knn_tuned = KNeighborsClassifier(leaf_size=params['leaf_size'], \n",
    "                                 n_neighbors=params['n_neighbors'], \n",
    "                                p=params['p'])\n",
    "# fit the model with data\n",
    "knn_tuned.fit(X_train, y_train)\n",
    "\n",
    "y_pred = knn_tuned.predict(X_test)\n",
    "cnf_matrix = metrics.confusion_matrix(y_test, y_pred)\n",
    "cnf_matrix"
   ]
  },
  {
   "cell_type": "code",
   "execution_count": 53,
   "id": "b6e26447-0bdc-4f00-a6da-8970a5193ed3",
   "metadata": {},
   "outputs": [
    {
     "name": "stdout",
     "output_type": "stream",
     "text": [
      "KNN Classifier Acccuracy (Tuned Using Optimal Params): 0.4642857142857143\n"
     ]
    }
   ],
   "source": [
    "print(f'KNN Classifier Acccuracy (Tuned Using Optimal Params): {np.trace(cnf_matrix)/np.sum(cnf_matrix)}')"
   ]
  },
  {
   "cell_type": "code",
   "execution_count": 54,
   "id": "6e84866b-b607-4f7b-bb3d-cee1593a6552",
   "metadata": {},
   "outputs": [
    {
     "data": {
      "text/plain": [
       "0.4722222222222222"
      ]
     },
     "execution_count": 54,
     "metadata": {},
     "output_type": "execute_result"
    }
   ],
   "source": [
    "roc_auc_score(y_test, y_pred)"
   ]
  },
  {
   "cell_type": "code",
   "execution_count": 55,
   "id": "c9df84c1-b9a8-49b1-ac95-52913d072135",
   "metadata": {},
   "outputs": [
    {
     "data": {
      "text/plain": [
       "Text(0.5, 257.44, 'Predicted label')"
      ]
     },
     "execution_count": 55,
     "metadata": {},
     "output_type": "execute_result"
    },
    {
     "data": {
      "image/png": "[encoded data removed]",
      "text/plain": [
       "<Figure size 432x288 with 2 Axes>"
      ]
     },
     "metadata": {
      "needs_background": "light"
     },
     "output_type": "display_data"
    }
   ],
   "source": [
    "class_names=[0,1] # name  of classes\n",
    "fig, ax = plt.subplots()\n",
    "tick_marks = np.arange(len(class_names))\n",
    "plt.xticks(tick_marks, class_names)\n",
    "plt.yticks(tick_marks, class_names)\n",
    "# create heatmap\n",
    "sns.heatmap(pd.DataFrame(cnf_matrix), annot=True, cmap=\"YlGnBu\" ,fmt='g')\n",
    "ax.xaxis.set_label_position(\"top\")\n",
    "plt.tight_layout()\n",
    "plt.title('Confusion matrix', y=1.1)\n",
    "plt.ylabel('Actual label')\n",
    "plt.xlabel('Predicted label')\n",
    "\n"
   ]
  },
  {
   "cell_type": "code",
   "execution_count": 56,
   "id": "a658f419-ee7b-4850-905e-9457db67cc13",
   "metadata": {},
   "outputs": [
    {
     "data": {
      "text/plain": [
       "<sklearn.metrics._plot.roc_curve.RocCurveDisplay at 0x7f9c8fd135e0>"
      ]
     },
     "execution_count": 56,
     "metadata": {},
     "output_type": "execute_result"
    },
    {
     "data": {
      "image/png": "[encoded data removed]",
      "text/plain": [
       "<Figure size 432x288 with 1 Axes>"
      ]
     },
     "metadata": {
      "needs_background": "light"
     },
     "output_type": "display_data"
    }
   ],
   "source": [
    "plot_roc_curve(knn_tuned,X_test,y_test)"
   ]
  }
 ],
 "metadata": {
  "kernelspec": {
   "display_name": "Python 3",
   "language": "python",
   "name": "python3"
  },
  "language_info": {
   "codemirror_mode": {
    "name": "ipython",
    "version": 3
   },
   "file_extension": ".py",
   "mimetype": "text/x-python",
   "name": "python",
   "nbconvert_exporter": "python",
   "pygments_lexer": "ipython3",
   "version": "3.8.8"
  }
 },
 "nbformat": 4,
 "nbformat_minor": 5
}
